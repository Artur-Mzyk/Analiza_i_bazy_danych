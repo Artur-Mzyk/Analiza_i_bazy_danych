{
 "cells": [
  {
   "cell_type": "markdown",
   "id": "bb8d532e",
   "metadata": {},
   "source": [
    "***Data processing***"
   ]
  },
  {
   "cell_type": "markdown",
   "id": "0348ac97",
   "metadata": {},
   "source": [
    "Import the packages"
   ]
  },
  {
   "cell_type": "code",
   "execution_count": 101,
   "id": "913c6a1f",
   "metadata": {},
   "outputs": [],
   "source": [
    "import pandas as pd\n",
    "import numpy as np"
   ]
  },
  {
   "cell_type": "markdown",
   "id": "e43fdd64",
   "metadata": {},
   "source": [
    "Load the data"
   ]
  },
  {
   "cell_type": "code",
   "execution_count": 102,
   "id": "b4e6c8c6",
   "metadata": {},
   "outputs": [],
   "source": [
    "DIR = \"../Analysis Data/\"\n",
    "survey = pd.read_csv(f\"{DIR}earthquake_data.csv\")"
   ]
  },
  {
   "cell_type": "markdown",
   "id": "282dfb3c",
   "metadata": {},
   "source": [
    "Get rid of invalid records"
   ]
  },
  {
   "cell_type": "code",
   "execution_count": 103,
   "id": "7f006196",
   "metadata": {},
   "outputs": [],
   "source": [
    "col_names = [name for name in survey.columns]\n",
    "records_to_drop = []\n",
    "n_invalid_cells = {}\n",
    "\n",
    "for name in col_names:\n",
    "    n_invalid_cells[name] = 0\n",
    "    \n",
    "    for idx in survey.index:\n",
    "        cell = survey[name][idx]\n",
    "        \n",
    "        if pd.isna(cell):\n",
    "            records_to_drop.append(idx)\n",
    "            n_invalid_cells[name] += 1\n",
    "            \n",
    "survey_valid_data = survey.drop(index=records_to_drop)"
   ]
  },
  {
   "cell_type": "markdown",
   "id": "8248efbf",
   "metadata": {},
   "source": [
    "Get possible answers and missing values"
   ]
  },
  {
   "cell_type": "code",
   "execution_count": 104,
   "id": "d4ac26cc",
   "metadata": {},
   "outputs": [
    {
     "name": "stdout",
     "output_type": "stream",
     "text": [
      "Column name: In general, how worried are you about earthquakes?\n",
      "Possible answers: ['Extremely worried', 'Not at all worried', 'Not so worried', 'Somewhat worried', 'Very worried']\n",
      "Missing values: 0/1013\n",
      "\n",
      "Column name: How worried are you about the Big One, a massive, catastrophic earthquake?\n",
      "Possible answers: ['Extremely worried', 'Not at all worried', 'Not so worried', 'Somewhat worried', 'Very worried']\n",
      "Missing values: 0/1013\n",
      "\n",
      "Column name: Do you think the \"Big One\" will occur in your lifetime?\n",
      "Possible answers: ['No', 'Yes']\n",
      "Missing values: 0/1013\n",
      "\n",
      "Column name: Have you ever experienced an earthquake?\n",
      "Possible answers: ['No', 'Yes, one or more major ones', 'Yes, one or more minor ones']\n",
      "Missing values: 7/1013\n",
      "\n",
      "Column name: Have you or anyone in your household taken any precautions for an earthquake (packed an earthquake survival kit, prepared an evacuation plan, etc.)?\n",
      "Possible answers: ['No', 'Yes']\n",
      "Missing values: 7/1013\n",
      "\n",
      "Column name: How familiar are you with the San Andreas Fault line?\n",
      "Possible answers: ['Extremely familiar', 'Not at all familiar', 'Not so familiar', 'Somewhat familiar', 'Very familiar']\n",
      "Missing values: 12/1013\n",
      "\n",
      "Column name: How familiar are you with the Yellowstone Supervolcano?\n",
      "Possible answers: ['Extremely familiar', 'Not at all familiar', 'Not so familiar', 'Somewhat familiar', 'Very familiar']\n",
      "Missing values: 12/1013\n",
      "\n",
      "Column name: Age\n",
      "Possible answers: ['18 - 29', '30 - 44', '45 - 59', '60']\n",
      "Missing values: 12/1013\n",
      "\n",
      "Column name: What is your gender?\n",
      "Possible answers: ['Female', 'Male']\n",
      "Missing values: 12/1013\n",
      "\n",
      "Column name: How much total combined money did all members of your HOUSEHOLD earn last year?\n",
      "Possible answers: ['$0 to $9,999', '$10,000 to $24,999', '$100,000 to $124,999', '$125,000 to $149,999', '$150,000 to $174,999', '$175,000 to $199,999', '$200,000 and up', '$25,000 to $49,999', '$50,000 to $74,999', '$75,000 to $99,999', 'Prefer not to answer']\n",
      "Missing values: 12/1013\n",
      "\n",
      "Column name: US Region\n",
      "Possible answers: ['East North Central', 'East South Central', 'Middle Atlantic', 'Mountain', 'New England', 'Pacific', 'South Atlantic', 'West North Central', 'West South Central']\n",
      "Missing values: 35/1013\n",
      "\n"
     ]
    }
   ],
   "source": [
    "for name in col_names:\n",
    "    print(f\"Column name: {name}\")\n",
    "    print(f\"Possible answers: {list(np.unique([survey_valid_data[name][idx] for idx in survey_valid_data.index]))}\")\n",
    "    print(f\"Missing values: {n_invalid_cells[name]}/{len(survey.index)}\")\n",
    "    print()"
   ]
  },
  {
   "cell_type": "markdown",
   "id": "95fd7848",
   "metadata": {},
   "source": [
    "Sort the columns"
   ]
  },
  {
   "cell_type": "code",
   "execution_count": 105,
   "id": "a59ae28c",
   "metadata": {},
   "outputs": [],
   "source": [
    "survey_valid_data_sorted = survey_valid_data.reindex(columns=col_names[-4:] + col_names[:-4])\n",
    "survey_valid_data_sorted = survey_valid_data_sorted.sort_values([\"Age\"])"
   ]
  },
  {
   "cell_type": "markdown",
   "id": "1183f652",
   "metadata": {},
   "source": [
    "Change the columns' names"
   ]
  },
  {
   "cell_type": "code",
   "execution_count": 106,
   "id": "f53a35af",
   "metadata": {},
   "outputs": [],
   "source": [
    "new_col_names = [\"Age\", \"Gender\", \"Household income\", \"US Region\", \"Earthquakes fear\", \"The \\\"Big One\\\" fear\",\n",
    "                 \"The \\\"Big One\\\" experiencing possible\", \"Earthquake experienced\", \"Earthquake precautions taken\",\n",
    "                 \"San Andreas Fault line familiarity\", \"Yellowstone Supervolcano familiarity\"]\n",
    "col_map = {survey_valid_data_sorted.columns[idx]: new_col_names[idx] for idx in range(len(new_col_names))}\n",
    "\n",
    "survey_modified_columns_names = survey_valid_data_sorted.rename(columns=col_map)\n",
    "survey_modified_columns_names.to_csv(path_or_buf=f\"{DIR}earthquake_data_modified_column_names.csv\", index=False)"
   ]
  },
  {
   "cell_type": "markdown",
   "id": "0d8cbf52",
   "metadata": {},
   "source": [
    "Create a table containing of the age, the gender and the answer to the question \"Do you think the \"Big One\" will occur in your lifetime?\""
   ]
  },
  {
   "cell_type": "code",
   "execution_count": 107,
   "id": "a887c0ba",
   "metadata": {},
   "outputs": [],
   "source": [
    "big_one_table = survey_modified_columns_names[[\"Age\", \"Gender\", \"The \\\"Big One\\\" experiencing possible\"]]\n",
    "big_one_table.to_csv(path_or_buf=f\"{DIR}earthquake_data_big_one.csv\", index=False)"
   ]
  }
 ],
 "metadata": {
  "kernelspec": {
   "display_name": "Python 3",
   "language": "python",
   "name": "python3"
  },
  "language_info": {
   "codemirror_mode": {
    "name": "ipython",
    "version": 3
   },
   "file_extension": ".py",
   "mimetype": "text/x-python",
   "name": "python",
   "nbconvert_exporter": "python",
   "pygments_lexer": "ipython3",
   "version": "3.9.4"
  }
 },
 "nbformat": 4,
 "nbformat_minor": 5
}
