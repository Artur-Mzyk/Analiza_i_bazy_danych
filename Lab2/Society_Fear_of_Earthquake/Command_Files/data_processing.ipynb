{
 "cells": [
  {
   "cell_type": "markdown",
   "id": "fd0b62ee",
   "metadata": {},
   "source": [
    "***Data processing***"
   ]
  },
  {
   "cell_type": "markdown",
   "id": "37c81b13",
   "metadata": {},
   "source": [
    "Import the package"
   ]
  },
  {
   "cell_type": "code",
   "execution_count": 1,
   "id": "f3e42e12",
   "metadata": {},
   "outputs": [],
   "source": [
    "import pandas as pd"
   ]
  },
  {
   "cell_type": "markdown",
   "id": "8e9608af",
   "metadata": {},
   "source": [
    "Load the data"
   ]
  },
  {
   "cell_type": "code",
   "execution_count": 2,
   "id": "a5cc488d",
   "metadata": {},
   "outputs": [],
   "source": [
    "DST = \"../Analysis_Data/\"\n",
    "survey = pd.read_csv(\"../Original_Data/earthquake_data.csv\")"
   ]
  },
  {
   "cell_type": "markdown",
   "id": "125378fd",
   "metadata": {},
   "source": [
    "Get rid of invalid records"
   ]
  },
  {
   "cell_type": "code",
   "execution_count": 3,
   "id": "64b3f127",
   "metadata": {},
   "outputs": [],
   "source": [
    "cols = [col for col in survey.columns]\n",
    "survey_valid_data = survey.dropna()"
   ]
  },
  {
   "cell_type": "markdown",
   "id": "e9be4c20",
   "metadata": {},
   "source": [
    "Get possible answers"
   ]
  },
  {
   "cell_type": "code",
   "execution_count": 4,
   "id": "ede43074",
   "metadata": {},
   "outputs": [
    {
     "name": "stdout",
     "output_type": "stream",
     "text": [
      "Column variable: In general, how worried are you about earthquakes?\n",
      "Possible answers: ['Not at all worried' 'Somewhat worried' 'Not so worried' 'Very worried'\n",
      " 'Extremely worried']\n",
      "\n",
      "Column variable: How worried are you about the Big One, a massive, catastrophic earthquake?\n",
      "Possible answers: ['Not so worried' 'Very worried' 'Somewhat worried' 'Not at all worried'\n",
      " 'Extremely worried']\n",
      "\n",
      "Column variable: Do you think the \"Big One\" will occur in your lifetime?\n",
      "Possible answers: ['No' 'Yes']\n",
      "\n",
      "Column variable: Have you ever experienced an earthquake?\n",
      "Possible answers: ['Yes, one or more minor ones' 'No' 'Yes, one or more major ones']\n",
      "\n",
      "Column variable: Have you or anyone in your household taken any precautions for an earthquake (packed an earthquake survival kit, prepared an evacuation plan, etc.)?\n",
      "Possible answers: ['No' 'Yes']\n",
      "\n",
      "Column variable: How familiar are you with the San Andreas Fault line?\n",
      "Possible answers: ['Somewhat familiar' 'Not at all familiar' 'Very familiar'\n",
      " 'Not so familiar' 'Extremely familiar']\n",
      "\n",
      "Column variable: How familiar are you with the Yellowstone Supervolcano?\n",
      "Possible answers: ['Not so familiar' 'Not at all familiar' 'Somewhat familiar'\n",
      " 'Extremely familiar' 'Very familiar']\n",
      "\n",
      "Column variable: Age\n",
      "Possible answers: ['18 - 29' '30 - 44' '45 - 59' '60']\n",
      "\n",
      "Column variable: What is your gender?\n",
      "Possible answers: ['Male' 'Female']\n",
      "\n",
      "Column variable: How much total combined money did all members of your HOUSEHOLD earn last year?\n",
      "Possible answers: ['Prefer not to answer' '$75,000 to $99,999' '$10,000 to $24,999'\n",
      " '$25,000 to $49,999' '$200,000 and up' '$50,000 to $74,999'\n",
      " '$0 to $9,999' '$100,000 to $124,999' '$175,000 to $199,999'\n",
      " '$125,000 to $149,999' '$150,000 to $174,999']\n",
      "\n",
      "Column variable: US Region\n",
      "Possible answers: ['New England' 'East North Central' 'Pacific' 'West South Central'\n",
      " 'Middle Atlantic' 'South Atlantic' 'West North Central'\n",
      " 'East South Central' 'Mountain']\n",
      "\n"
     ]
    }
   ],
   "source": [
    "for col in cols:\n",
    "    print(f\"Column variable: {col}\")\n",
    "    print(f\"Possible answers: {survey_valid_data[col].unique()}\")\n",
    "    print()"
   ]
  },
  {
   "cell_type": "markdown",
   "id": "3b0ed9c6",
   "metadata": {},
   "source": [
    "Change the columns' names"
   ]
  },
  {
   "cell_type": "code",
   "execution_count": 5,
   "id": "262dd0ef",
   "metadata": {},
   "outputs": [],
   "source": [
    "new_cols = [\"Earthquakes fear\", \"The \\\"Big One\\\" fear\", \"The \\\"Big One\\\" experiencing possible\", \"Earthquake experienced\",\n",
    "            \"Earthquake precautions taken\", \"San Andreas Fault line familiarity\", \"Yellowstone Supervolcano familiarity\",\n",
    "            \"Age\", \"Gender\", \"Household income\", \"US Region\"]\n",
    "col_map = {cols[idx]: new_cols[idx] for idx in range(len(new_cols))}\n",
    "\n",
    "survey_cleaned = survey_valid_data.rename(columns=col_map)\n",
    "survey_cleaned.to_csv(path_or_buf=f\"{DST}earthquake_data_cleaned.csv\", index=False)"
   ]
  },
  {
   "cell_type": "markdown",
   "id": "7119380f",
   "metadata": {},
   "source": [
    "Create a table containing the age, the gender and the answer to the question \"Do you think the \"Big One\" will occur in your lifetime?\""
   ]
  },
  {
   "cell_type": "code",
   "execution_count": 6,
   "id": "4aa17669",
   "metadata": {},
   "outputs": [],
   "source": [
    "survey_big_one = survey_cleaned[[\"The \\\"Big One\\\" experiencing possible\", \"Age\", \"Gender\"]]\n",
    "survey_big_one.to_csv(path_or_buf=f\"{DST}earthquake_data_big_one.csv\", index=False)"
   ]
  }
 ],
 "metadata": {
  "kernelspec": {
   "display_name": "Python 3",
   "language": "python",
   "name": "python3"
  },
  "language_info": {
   "codemirror_mode": {
    "name": "ipython",
    "version": 3
   },
   "file_extension": ".py",
   "mimetype": "text/x-python",
   "name": "python",
   "nbconvert_exporter": "python",
   "pygments_lexer": "ipython3",
   "version": "3.9.4"
  }
 },
 "nbformat": 4,
 "nbformat_minor": 5
}
