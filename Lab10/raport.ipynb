{
 "cells": [
  {
   "cell_type": "markdown",
   "metadata": {},
   "source": [
    "# TEMAT №10 Szeregi czasowe (ang. time series)\n",
    "\n",
    " \n",
    " ### Czym są szeregi czasowe? \n",
    " Szereg czasowy jest zbiorem obserwacji dokonywanych w równych odstępach czasu. \n",
    " Służy do przewidywania przyszlych wartości w oparciu o poprzednie obserwacje, do których zalicza się;\n",
    " - prognozowania biznesowe (kursy walut, giełda...)\n",
    " - zrozumienia przeszlych zachowań i zaobserwowania przyszlych;\n",
    " - oszacowanie bieżących osiągnięć.\n",
    " \n",
    " Do analizy i prognozowania szeregów czasowych w Python stosowano bibliotekę  statsmodels.tsa.api, która zawiera modele i metody szeregów czasowych. Importowane kanonicznie przy użyciu importu statsmodels.tsa.api jako tsa.\n",
    "API skupia się na modelach i najczęściej używanych testach statystycznych oraz narzędziach. Ścieżki importu i struktura wyjaśnia projekt dwóch modułów API i jak importowanie z API różni się od bezpośredniego importowania z modułu, w którym zdefiniowany jest model. Więcej informacji znajdziesz w dokumentacji https://www.statsmodels.org/stable/api.html. \n",
    "##### Podstawowe komponenty szeregów czasowych:\n",
    "- trend\n",
    "- sezonowość\n",
    "- cykliczność\n",
    "#### Co to jest Stacjonarność?\n",
    "Szereg czasowy jest stacjonarny gdy z biegiem czasu zachowuje sie w sposów szczególny, istnieje bardzo duże prawdopodobieństwo, że w przyszlości będę postepować tak samo.\n",
    "#### Sprawdzić szereg na stacjonarność można za pomocą:\n",
    "- Rozszerzonego testu Dickeya-Fullera (ADF)\n",
    "- Przekształcenia logarytmicznego (Box-Cox)\n",
    "- Dekompozycji trendu sezonowego\n",
    "- Usuwania trendów poprzez różnicowanie\n",
    "- Naprawiania niestałej wariancji + usuwanie trendu.\n",
    "#### Co wskazuje że szereg jest stacjonarnym:\n",
    "- stała średnia;\n",
    "- stala wariancja;\n",
    "- autokowariancja jest niezależna od czasu.\n",
    "\n"
   ]
  },
  {
   "cell_type": "markdown",
   "metadata": {},
   "source": [
    "## Czym jest autoregresja? \n",
    "Podstawowa koncepcja polega na tym, że prognozujemy interesujące szeregi czasowe y  zakładając, że mają one liniową zależność z innymi szeregami czasowymi x.\n",
    "Autoregresja – to jest regresja statystyczna w której zmienna objaśniana jest przyszłą wartością ciągu, a zmienna objaśniająca to wartości ciągu czasowego z przeszłości. \n",
    "Zmienna prognozowana y jest nazywana także zależną lub objaśnianą. Zmienne predyktorów x są nazywane zmiennymi niezależnymi lub objaśniającymi.\n",
    "Na przykład możemy prognozować miesięczną sprzedaż y, korzystając z całkowitych wydatków na reklamę x jako predyktora. Albo możemy prognozować dzienne zapotrzebowanie na energię elektryczną y używając temperatury x1 i dnia tygodnia x2 jako predyktorów.\n",
    "\n",
    "###  Najczęściej stosowane modele statystyczne do prognozowania szeregów czasowych\n",
    "\n",
    "#### - Wygładzanie wykładnicze \n",
    "Metoda obróbki szeregu czasowego zmniejszająca jego wariancję za pomocą ważonej średniej ruchomej z przeszłych wartości, o wagach malejących wykładniczo wraz z odległością w czasie. Stosowana do prostego usuwania szumu lub wizualizacji różnych danych. Jest również przydatna w prognozowaniu szeregów czasowych o niewielkim stosunku sygnału do szumu, szczególnie niemających wyraźnego trendu i wahań sezonowych.\n",
    "\n",
    "\n",
    "#### - AR (model autoregresyjny)\n",
    "Modele, w których bieżące wartości szeregu wyrażają się jako liniowe funkcje poprzednich obserwacji, nazywają się modelami autoregresji. Jeżeli bieżąca wartość ciągu xn zależy liniowo tylko od jednej poprzedniej wartości x_(n-1), to taki model jest modelem autoregresji pierwszego rzędu, co oznaczamy jako AR(1). Jeżeli bieżąca wartość ciągu xn zależy liniowo od p poprzednich wartości xn-1,…,xn-p, to taki model jest modelem autoregresji rzędu p, AR(p). \n",
    "\n",
    "\n",
    "#### - MA (model średniej ruchomej)\n",
    "Proces ze średnią ruchomą, jest regresją liniową bieżącej wartości szeregów w odniesieniu do poprzednich wartości błędu, związanych z białym szumem lub przypadkowymi zaburzeniami. Zakłada się, że takie przypadkowe zaburzenia w każdym z punktów pochodzą z tego samego rozkładu, zwykle rozkładu normalnego z zerową wartością oczekiwaną i stałą wariancją. \n",
    "\n",
    "\n",
    "#### - ARMA (model autoregresji ze średnią ruchomą)-  obejmuje dwa proste modele ciągów czasowych AR oraz MA. \n",
    "Użyteczność modeli ARMA polega na ich oszczędnej reprezentacji. Podobnie jak w przypadku AR i MA, właściwości modeli ARMA można zwykle scharakteryzować za pomocą ich funkcji autokorelacji. Modele ARMA są używane do opisu stacjonarnych ciągów czasowych. Także niektóre rodzaje niestacjonarności można sprowadzać do procesów stacjonarnych przez tworzenie procesów różnic i dalej stosować np.  modele ARMA.\n",
    "\n",
    "\n",
    "#### - ARIMA (zintegrowany model autoregresji ze średnią ruchomą)\n",
    "jest złożony z następujących elementów: autoregresja (AR), całkowanie (I) oraz średnia ruchoma (MA). ARIMA jest formą analizy regresji, która mierzy siłę jednej zmiennej zależnej w stosunku do innych zmiennych. Model ten jest szeroko stosowany do prognozowania przyszłych wartości danych, badając różnice między wartościami w ciągach zamiast wartości oryginalnych. Modele zintegrowane służą do opisów procesów stochastycznych niestacjonarnych.\n",
    "ARIMA z parametrami p, d i q, gdzie:\n",
    "p - liczba opóźnień obserwacji w modelu.\n",
    "d - stopień różnicy.\n",
    "q - zakres średniej ruchomej.\n",
    "\n",
    "\n",
    "## Dobór modelu\n",
    "\n",
    "#### 1. Test ADF (rozszerzony test Dickeya-Fullera)\n",
    "Dla sprawdzenia stacjonarności ciągu robimy analizę za pomocą rozszerzonego testu Dickeya Fullera (ADF). Przy analizie testu ADF warto zwrócić uwagę, że hipoteza zerowa wskazuje na istnienia niestacjonarności. Jeżeli obliczona wartość p jest mniejsza od zadanej alfa, to ta hipoteza zerowa zostaje odrzucona, a ciąg  jest stacjonarny. W przeciwnym razie dane są niestacjonarne.\n",
    "\n",
    "#### 2. ACF i PACF \n",
    "\n",
    "Autokorelacja i autokorelacja cząstkowa to miary związków między bieżącymi i przeszłymi wartościami szeregów określające, które przeszłe wartości szeregów są najbardziej użyteczne przy przewidywaniu przyszłych wartości. Dzięki tej wiedzy można określić kolejność procesów w modelu ARIMA. Dokładniej rzecz ujmując:\n",
    "\n",
    "##### Funkcja autokorelacji (ACF).\n",
    "Przy przesunięciu k jest to korelacja między wartościami szeregu oddalonymi o k przedziałów od siebie.\n",
    "Występuje wtedy, gdy skutki działania zmienności losowej nie wygasają w danym okresie t, lecz są przenoszone na okresy przyszłe. \n",
    "plot_acf()\n",
    "http://drizzt.home.amu.edu.pl/images/DADA/W7.pdf\n",
    "\n",
    "##### Funkcja autokorelacji cząstkowej (PACF). \n",
    "jak sama nazwa wskazuje, PACF jest podzbiorem funkcji autokorelacji (ACF). Przy przesunięciu k jest to korelacja między wartościami szeregu oddalonymi o k przedziałów od siebie, z jednoczesną rejestracją wartości z przedziałów znajdujących się pomiędzy.\n",
    "ACF i PACF stosowane są do wyboru rzędu modeli.  PACF pokazuje zależność między xn a poprzednimi wartościami, pomijając wpływ pośrednich opóźnień.\n",
    "plot_pacf()\n",
    "\n",
    "Oś x wykresu ACF wskazuje przesunięcie, dla jakiego obliczana jest autokorelacja; oś y wskazuje wartość korelacji (między −1 a 1). Na przykład linia rzutowania przy przesunięciu wynoszącym 1 na wykresie ACF oznacza silną korelację między każdą wartością szeregu a wartością poprzedzającą, zaś linia rzutowania przy przesunięciu wynoszącym 2 oznacza silną korelację między każdą wartością a wartością występującą dwa punkty wcześniej itd.\n",
    "Korelacja dodatnia oznacza, że duże wartości bieżące odpowiadają dużym wartościom dla danego przesunięcia; ujemna korelacja oznacza, że duże wartości bieżące odpowiadają niewielkim wartościom dla danego przesunięcia.\n",
    "Wartość bezwzględna korelacji stanowi miarę siły powiązania, przy czym większe wartości bezwzględne oznaczają silniejsze relacje.\n",
    "\n",
    "#### 3. AIC (kryterium informacyjne Akaikego)\n",
    "jest estymatorem błędu predykcji w próbie, a tym samym względnej jakości modeli statystycznych dla danego zbioru danych. Jest to jeden ze wskaźników dopasowania modelu, który stosuje się do wyznaczenia miary jakości modeli statystycznych dla badanego zbioru danych. To jak błąd średniokwadratowy w autoregresji — im mniejsza liczba, tym lepiej jest dopasowany model. Na ogół model o większej liczbie predyktorów (parametrów) daje dokładniejsze przewidywania, ponadto ma większą skłonność do przeuczenia. Kryteria informacyjne są nazywane metodami porównywania modeli dla zmiennej zależnej, i stosowane są do wyboru najlepszego modelu.\n",
    "\n"
   ]
  },
  {
   "cell_type": "markdown",
   "metadata": {},
   "source": [
    "## Biblioteki\n",
    "\n",
    "- pip install numpy scipy scikit-learn  #--- to the anaconda terminal\n",
    "- pip install --user pmdarima   #---installing auto-arima\n",
    "- pip install -U statsmodels   #---instaling  statsmodels\n",
    "- import pandas as pd\n",
    "- from pandas import DataFrame\n",
    "- import datetime \n",
    "- from matplotlib import pyplot\n",
    "- import matplotlib.pyplot as plt\n",
    "- from statsmodels.tsa.stattools import adfuller\n",
    "- from statsmodels.graphics.tsaplots import plot_acf, plot_pacf\n",
    "- from statsmodels.tsa.arima.model import ARIMA\n",
    "- import pmdarima as pm\n",
    "- from pmdarima import model_selection\n",
    "- import numpy as np\n",
    "- %matplotlib inline\n"
   ]
  },
  {
   "cell_type": "markdown",
   "metadata": {},
   "source": [
    "# Zadanie do ćwiczenia   \n",
    "### Na podstawie danych zawartych w pliku analiza.csv wykonaj następne punkty:\n",
    "#### 1) Zaimportój niezbędne biblioteki do szeregów czasowych (https://www.statsmodels.org/stable/api.html), a także biblioteki do operacji na danych oraz tworzenia wykresów.\n",
    "#### 2) Odczytaj dane z pliku analiza.csv. Pomocne w interpretacji danych są metody: head(), describe(), len(), shape.\n",
    "#### 3) Wykonaj wstępny wykres uzyskanych danych (typu \"scatter\") https://miroslawmamczur.pl/006-wykres-rozrzutu-scatter-plot/\n",
    "#### 4) Oblicz ADF (p-value, 'ADF Statistic)\n",
    "#### 5) Wykonaj wykres ACF\n",
    "#### 6) Wykonaj wykres PACF\n",
    "#### 7) Podzieł szereg na dane na treningowe i testowe oraz oblicz kryterium  AIC dla modelu ARIMA (3,0.1) (results.summary())\n",
    "#### 8) Za pomocą funkcji AUTO-ARIMA dobierz najlepszy model dla prognozy.\n",
    "#### 9) Zrób wykreś do prognozy\n",
    "#### 10) Wnioski"
   ]
  },
  {
   "cell_type": "markdown",
   "metadata": {},
   "source": [
    "# Rozwiązanie "
   ]
  },
  {
   "cell_type": "markdown",
   "metadata": {},
   "source": [
    "###  1) Zaimportój niezbędne biblioteki do szeregów czasowych a także biblioteki do operacji na danych oraz tworzenia wykresów\n"
   ]
  },
  {
   "cell_type": "code",
   "execution_count": 1,
   "metadata": {},
   "outputs": [],
   "source": [
    "import pandas as pd\n",
    "# import datetime\n",
    "import matplotlib.pyplot as plt\n",
    "import pmdarima as pm\n",
    "\n",
    "from statsmodels.tsa.stattools import adfuller\n",
    "from statsmodels.graphics.tsaplots import plot_acf, plot_pacf\n",
    "from statsmodels.tsa.arima.model import ARIMA\n",
    "# from pmdarima import model_selection\n",
    "\n",
    "%matplotlib inline"
   ]
  },
  {
   "cell_type": "markdown",
   "metadata": {},
   "source": [
    "### 2) Odczytaj dane z pliku analiza.csv. Pomocne w interpretacji danych są metody: head(), describe(), len(), shape.\n"
   ]
  },
  {
   "cell_type": "code",
   "execution_count": 2,
   "metadata": {},
   "outputs": [
    {
     "name": "stdout",
     "output_type": "stream",
     "text": [
      "Wymiar danych: (144, 2)\n"
     ]
    },
    {
     "data": {
      "text/html": [
       "<div>\n",
       "<style scoped>\n",
       "    .dataframe tbody tr th:only-of-type {\n",
       "        vertical-align: middle;\n",
       "    }\n",
       "\n",
       "    .dataframe tbody tr th {\n",
       "        vertical-align: top;\n",
       "    }\n",
       "\n",
       "    .dataframe thead th {\n",
       "        text-align: right;\n",
       "    }\n",
       "</style>\n",
       "<table border=\"1\" class=\"dataframe\">\n",
       "  <thead>\n",
       "    <tr style=\"text-align: right;\">\n",
       "      <th></th>\n",
       "      <th>Data</th>\n",
       "      <th>Rezerwacja</th>\n",
       "    </tr>\n",
       "  </thead>\n",
       "  <tbody>\n",
       "    <tr>\n",
       "      <th>0</th>\n",
       "      <td>1949-01</td>\n",
       "      <td>112</td>\n",
       "    </tr>\n",
       "    <tr>\n",
       "      <th>1</th>\n",
       "      <td>1949-02</td>\n",
       "      <td>118</td>\n",
       "    </tr>\n",
       "    <tr>\n",
       "      <th>2</th>\n",
       "      <td>1949-03</td>\n",
       "      <td>132</td>\n",
       "    </tr>\n",
       "    <tr>\n",
       "      <th>3</th>\n",
       "      <td>1949-04</td>\n",
       "      <td>129</td>\n",
       "    </tr>\n",
       "    <tr>\n",
       "      <th>4</th>\n",
       "      <td>1949-05</td>\n",
       "      <td>121</td>\n",
       "    </tr>\n",
       "    <tr>\n",
       "      <th>5</th>\n",
       "      <td>1949-06</td>\n",
       "      <td>135</td>\n",
       "    </tr>\n",
       "    <tr>\n",
       "      <th>6</th>\n",
       "      <td>1949-07</td>\n",
       "      <td>148</td>\n",
       "    </tr>\n",
       "  </tbody>\n",
       "</table>\n",
       "</div>"
      ],
      "text/plain": [
       "      Data  Rezerwacja\n",
       "0  1949-01         112\n",
       "1  1949-02         118\n",
       "2  1949-03         132\n",
       "3  1949-04         129\n",
       "4  1949-05         121\n",
       "5  1949-06         135\n",
       "6  1949-07         148"
      ]
     },
     "execution_count": 2,
     "metadata": {},
     "output_type": "execute_result"
    }
   ],
   "source": [
    "df = pd.read_csv(\"analiza.csv\", decimal=\",\")\n",
    "print(f\"Wymiar danych: {df.shape}\")\n",
    "df.head(n=7)"
   ]
  },
  {
   "cell_type": "code",
   "execution_count": 3,
   "metadata": {},
   "outputs": [
    {
     "data": {
      "text/html": [
       "<div>\n",
       "<style scoped>\n",
       "    .dataframe tbody tr th:only-of-type {\n",
       "        vertical-align: middle;\n",
       "    }\n",
       "\n",
       "    .dataframe tbody tr th {\n",
       "        vertical-align: top;\n",
       "    }\n",
       "\n",
       "    .dataframe thead th {\n",
       "        text-align: right;\n",
       "    }\n",
       "</style>\n",
       "<table border=\"1\" class=\"dataframe\">\n",
       "  <thead>\n",
       "    <tr style=\"text-align: right;\">\n",
       "      <th></th>\n",
       "      <th>Rezerwacja</th>\n",
       "    </tr>\n",
       "  </thead>\n",
       "  <tbody>\n",
       "    <tr>\n",
       "      <th>count</th>\n",
       "      <td>144.000000</td>\n",
       "    </tr>\n",
       "    <tr>\n",
       "      <th>mean</th>\n",
       "      <td>280.298611</td>\n",
       "    </tr>\n",
       "    <tr>\n",
       "      <th>std</th>\n",
       "      <td>119.966317</td>\n",
       "    </tr>\n",
       "    <tr>\n",
       "      <th>min</th>\n",
       "      <td>104.000000</td>\n",
       "    </tr>\n",
       "    <tr>\n",
       "      <th>25%</th>\n",
       "      <td>180.000000</td>\n",
       "    </tr>\n",
       "    <tr>\n",
       "      <th>50%</th>\n",
       "      <td>265.500000</td>\n",
       "    </tr>\n",
       "    <tr>\n",
       "      <th>75%</th>\n",
       "      <td>360.500000</td>\n",
       "    </tr>\n",
       "    <tr>\n",
       "      <th>max</th>\n",
       "      <td>622.000000</td>\n",
       "    </tr>\n",
       "  </tbody>\n",
       "</table>\n",
       "</div>"
      ],
      "text/plain": [
       "       Rezerwacja\n",
       "count  144.000000\n",
       "mean   280.298611\n",
       "std    119.966317\n",
       "min    104.000000\n",
       "25%    180.000000\n",
       "50%    265.500000\n",
       "75%    360.500000\n",
       "max    622.000000"
      ]
     },
     "execution_count": 3,
     "metadata": {},
     "output_type": "execute_result"
    }
   ],
   "source": [
    "df.describe()"
   ]
  },
  {
   "cell_type": "markdown",
   "metadata": {},
   "source": [
    "### 3) Wykonaj wstępny wykres uzyskanych danych \n"
   ]
  },
  {
   "cell_type": "code",
   "execution_count": 16,
   "metadata": {},
   "outputs": [
    {
     "data": {
      "image/png": "[encoded data removed]",
      "text/plain": [
       "<Figure size 432x288 with 1 Axes>"
      ]
     },
     "metadata": {
      "needs_background": "light"
     },
     "output_type": "display_data"
    }
   ],
   "source": [
    "y = df[['Rezerwacja']]\n",
    "df.reset_index().plot.scatter(x=\"index\", y=\"Rezerwacja\")\n",
    "plt.xlabel(\"Numer miesiąca po styczniu 1949\")\n",
    "plt.ylabel(\"Liczba rezerwacji\")\n",
    "plt.show()"
   ]
  },
  {
   "cell_type": "markdown",
   "metadata": {},
   "source": [
    "### 4) Oblicz ADF"
   ]
  },
  {
   "cell_type": "code",
   "execution_count": 5,
   "metadata": {},
   "outputs": [
    {
     "name": "stdout",
     "output_type": "stream",
     "text": [
      "Test stacjonarności: 0.9918802434376409\n",
      "Wartość p: 0.8153688792060433\n"
     ]
    }
   ],
   "source": [
    "#ADF rozszerzony Test Dickeya-Fullera dla sprawdzenia stacjonarności\n",
    "\n",
    "df2 = pd.read_csv(\"analiza.csv\", header=0, index_col=0)\n",
    "result = adfuller(df2.values)\n",
    "print(f\"Test stacjonarności: {result[1]}\")\n",
    "print(f\"Wartość p: {result[0]}\")\n",
    " \n",
    "    \n",
    "    # p-value, wartość krytyczna"
   ]
  },
  {
   "cell_type": "markdown",
   "metadata": {},
   "source": [
    "### 5) Wykonaj wykres ACF\n"
   ]
  },
  {
   "cell_type": "code",
   "execution_count": 6,
   "metadata": {},
   "outputs": [
    {
     "data": {
      "image/png": "[encoded data removed]",
      "text/plain": [
       "<Figure size 432x288 with 1 Axes>"
      ]
     },
     "metadata": {
      "needs_background": "light"
     },
     "output_type": "display_data"
    }
   ],
   "source": [
    "#ACF wykres funkcji autokorelacji \n",
    "\n",
    "plot_acf(df2, zero=False, lags=10)\n",
    "plt.show()\n"
   ]
  },
  {
   "cell_type": "markdown",
   "metadata": {},
   "source": [
    "### 6) Wykonaj wykres PACF\n"
   ]
  },
  {
   "cell_type": "code",
   "execution_count": 7,
   "metadata": {},
   "outputs": [
    {
     "name": "stderr",
     "output_type": "stream",
     "text": [
      "/home/user/anaconda3/envs/arturmzyk/lib/python3.9/site-packages/statsmodels/graphics/tsaplots.py:348: FutureWarning: The default method 'yw' can produce PACF values outside of the [-1,1] interval. After 0.13, the default will change tounadjusted Yule-Walker ('ywm'). You can use this method now by setting method='ywm'.\n",
      "  warnings.warn(\n"
     ]
    },
    {
     "data": {
      "image/png": "[encoded data removed]",
      "text/plain": [
       "<Figure size 432x288 with 1 Axes>"
      ]
     },
     "metadata": {
      "needs_background": "light"
     },
     "output_type": "display_data"
    }
   ],
   "source": [
    "#PACF - wykres częsciowej funkcji autokorelacji\n",
    "\n",
    "plot_pacf(df2, zero=False, lags=10)\n",
    "plt.show()"
   ]
  },
  {
   "cell_type": "markdown",
   "metadata": {},
   "source": [
    "### 7) Podzieł szereg na dane treningowe i testowe wędlug uznania oraz oblicz kryterium  AIC dla modelu ARIMA (3,0,1) (results.summary())"
   ]
  },
  {
   "cell_type": "code",
   "execution_count": 8,
   "metadata": {},
   "outputs": [
    {
     "name": "stderr",
     "output_type": "stream",
     "text": [
      "/home/user/anaconda3/envs/arturmzyk/lib/python3.9/site-packages/statsmodels/tsa/base/tsa_model.py:536: ValueWarning: No frequency information was provided, so inferred frequency MS will be used.\n",
      "  warnings.warn('No frequency information was'\n",
      "/home/user/anaconda3/envs/arturmzyk/lib/python3.9/site-packages/statsmodels/tsa/base/tsa_model.py:536: ValueWarning: No frequency information was provided, so inferred frequency MS will be used.\n",
      "  warnings.warn('No frequency information was'\n",
      "/home/user/anaconda3/envs/arturmzyk/lib/python3.9/site-packages/statsmodels/tsa/base/tsa_model.py:536: ValueWarning: No frequency information was provided, so inferred frequency MS will be used.\n",
      "  warnings.warn('No frequency information was'\n"
     ]
    },
    {
     "name": "stdout",
     "output_type": "stream",
     "text": [
      "                               SARIMAX Results                                \n",
      "==============================================================================\n",
      "Dep. Variable:             Rezerwacja   No. Observations:                  144\n",
      "Model:                 ARIMA(3, 0, 1)   Log Likelihood                -698.144\n",
      "Date:                Fri, 10 Dec 2021   AIC                           1408.288\n",
      "Time:                        11:31:30   BIC                           1426.107\n",
      "Sample:                    01-01-1949   HQIC                          1415.528\n",
      "                         - 12-01-1960                                         \n",
      "Covariance Type:                  opg                                         \n",
      "==============================================================================\n",
      "                 coef    std err          z      P>|z|      [0.025      0.975]\n",
      "------------------------------------------------------------------------------\n",
      "const        280.3011     58.857      4.762      0.000     164.944     395.658\n",
      "ar.L1          0.5019      0.133      3.776      0.000       0.241       0.762\n",
      "ar.L2          0.5505      0.157      3.506      0.000       0.243       0.858\n",
      "ar.L3         -0.1331      0.093     -1.435      0.151      -0.315       0.049\n",
      "ma.L1          0.8966      0.086     10.440      0.000       0.728       1.065\n",
      "sigma2       929.8218    106.908      8.697      0.000     720.286    1139.357\n",
      "===================================================================================\n",
      "Ljung-Box (L1) (Q):                   0.00   Jarque-Bera (JB):                 1.80\n",
      "Prob(Q):                              0.95   Prob(JB):                         0.41\n",
      "Heteroskedasticity (H):               6.28   Skew:                             0.23\n",
      "Prob(H) (two-sided):                  0.00   Kurtosis:                         3.29\n",
      "===================================================================================\n",
      "\n",
      "Warnings:\n",
      "[1] Covariance matrix calculated using the outer product of gradients (complex-step).\n"
     ]
    }
   ],
   "source": [
    "#ARIMA\n",
    "\n",
    "X = df2.values\n",
    "train = X[0 : 106] # dane treningowe\n",
    "test = X[106:]  # dane testowe\n",
    "predictions = [train, test]\n",
    "model = ARIMA(df2, order=(3, 0, 1))\n",
    "results = model.fit()\n",
    "print(results.summary())"
   ]
  },
  {
   "cell_type": "markdown",
   "metadata": {},
   "source": [
    "### 8) Za pomocą funkcji AUTO-ARIMA dobierz najlepszy model dla prognozy."
   ]
  },
  {
   "cell_type": "code",
   "execution_count": 9,
   "metadata": {},
   "outputs": [
    {
     "name": "stdout",
     "output_type": "stream",
     "text": [
      "Performing stepwise search to minimize aic\n",
      " ARIMA(2,1,2)(0,0,0)[0] intercept   : AIC=inf, Time=0.61 sec\n",
      " ARIMA(0,1,0)(0,0,0)[0] intercept   : AIC=1415.278, Time=0.01 sec\n",
      " ARIMA(1,1,0)(0,0,0)[0] intercept   : AIC=1403.473, Time=0.06 sec\n",
      " ARIMA(0,1,1)(0,0,0)[0] intercept   : AIC=1398.827, Time=0.11 sec\n",
      " ARIMA(0,1,0)(0,0,0)[0]             : AIC=1413.909, Time=0.01 sec\n",
      " ARIMA(1,1,1)(0,0,0)[0] intercept   : AIC=1396.121, Time=0.20 sec\n",
      " ARIMA(2,1,1)(0,0,0)[0] intercept   : AIC=inf, Time=0.39 sec\n",
      " ARIMA(1,1,2)(0,0,0)[0] intercept   : AIC=inf, Time=0.19 sec\n",
      " ARIMA(0,1,2)(0,0,0)[0] intercept   : AIC=1398.386, Time=0.16 sec\n",
      " ARIMA(2,1,0)(0,0,0)[0] intercept   : AIC=1397.975, Time=0.07 sec\n",
      " ARIMA(1,1,1)(0,0,0)[0]             : AIC=1394.683, Time=0.07 sec\n",
      " ARIMA(0,1,1)(0,0,0)[0]             : AIC=1397.258, Time=0.04 sec\n",
      " ARIMA(1,1,0)(0,0,0)[0]             : AIC=1401.852, Time=0.05 sec\n",
      " ARIMA(2,1,1)(0,0,0)[0]             : AIC=1378.338, Time=0.11 sec\n",
      " ARIMA(2,1,0)(0,0,0)[0]             : AIC=1396.588, Time=0.05 sec\n",
      " ARIMA(3,1,1)(0,0,0)[0]             : AIC=1379.614, Time=0.23 sec\n",
      " ARIMA(2,1,2)(0,0,0)[0]             : AIC=inf, Time=0.59 sec\n",
      " ARIMA(1,1,2)(0,0,0)[0]             : AIC=1385.498, Time=0.22 sec\n",
      " ARIMA(3,1,0)(0,0,0)[0]             : AIC=1395.021, Time=0.10 sec\n",
      " ARIMA(3,1,2)(0,0,0)[0]             : AIC=1377.086, Time=0.27 sec\n",
      " ARIMA(4,1,2)(0,0,0)[0]             : AIC=1373.560, Time=0.39 sec\n",
      " ARIMA(4,1,1)(0,0,0)[0]             : AIC=1384.053, Time=0.30 sec\n",
      " ARIMA(4,1,3)(0,0,0)[0]             : AIC=1365.825, Time=0.58 sec\n",
      " ARIMA(3,1,3)(0,0,0)[0]             : AIC=inf, Time=0.61 sec\n",
      " ARIMA(4,1,3)(0,0,0)[0] intercept   : AIC=inf, Time=0.70 sec\n",
      "\n",
      "Best model:  ARIMA(4,1,3)(0,0,0)[0]          \n",
      "Total fit time: 6.144 seconds\n",
      "                               SARIMAX Results                                \n",
      "==============================================================================\n",
      "Dep. Variable:                      y   No. Observations:                  144\n",
      "Model:               SARIMAX(4, 1, 3)   Log Likelihood                -674.913\n",
      "Date:                Fri, 10 Dec 2021   AIC                           1365.825\n",
      "Time:                        11:31:36   BIC                           1389.528\n",
      "Sample:                             0   HQIC                          1375.457\n",
      "                                - 144                                         \n",
      "Covariance Type:                  opg                                         \n",
      "==============================================================================\n",
      "                 coef    std err          z      P>|z|      [0.025      0.975]\n",
      "------------------------------------------------------------------------------\n",
      "ar.L1         -0.5582      0.117     -4.782      0.000      -0.787      -0.329\n",
      "ar.L2          0.4935      0.113      4.375      0.000       0.272       0.715\n",
      "ar.L3          0.1238      0.128      0.970      0.332      -0.126       0.374\n",
      "ar.L4         -0.5213      0.085     -6.136      0.000      -0.688      -0.355\n",
      "ma.L1          0.9069      0.094      9.657      0.000       0.723       1.091\n",
      "ma.L2         -0.5590      0.145     -3.866      0.000      -0.842      -0.276\n",
      "ma.L3         -0.7385      0.109     -6.778      0.000      -0.952      -0.525\n",
      "sigma2       724.1713     85.615      8.458      0.000     556.368     891.974\n",
      "===================================================================================\n",
      "Ljung-Box (L1) (Q):                   0.37   Jarque-Bera (JB):                14.59\n",
      "Prob(Q):                              0.54   Prob(JB):                         0.00\n",
      "Heteroskedasticity (H):               5.66   Skew:                             0.74\n",
      "Prob(H) (two-sided):                  0.00   Kurtosis:                         3.52\n",
      "===================================================================================\n",
      "\n",
      "Warnings:\n",
      "[1] Covariance matrix calculated using the outer product of gradients (complex-step).\n"
     ]
    }
   ],
   "source": [
    "#AUTO-ARIMA\n",
    "\n",
    "auto_arima = pm.auto_arima(df2, exogenous=None, seasonal=False, m=1, d=1, D=1, max_p=4, max_q=3, trace=True,\n",
    "                           error_action=\"ignore\", suppress_warning=True)\n",
    "print(auto_arima.summary())"
   ]
  },
  {
   "cell_type": "markdown",
   "metadata": {},
   "source": [
    "### 9) Wykonaj wykres prognozy"
   ]
  },
  {
   "cell_type": "code",
   "execution_count": 11,
   "metadata": {},
   "outputs": [],
   "source": [
    "# auto_arima.plot_diagnostics(figsize=(7, 5))\n",
    "# plt.show()"
   ]
  },
  {
   "cell_type": "code",
   "execution_count": 12,
   "metadata": {},
   "outputs": [
    {
     "data": {
      "text/plain": [
       "1957-11-01    332.119229\n",
       "1957-12-01    288.631915\n",
       "1958-01-01    355.440292\n",
       "1958-02-01    323.791947\n",
       "1958-03-01    319.476269\n",
       "1958-04-01    372.233685\n",
       "1958-05-01    332.504842\n",
       "1958-06-01    375.536755\n",
       "1958-07-01    447.763931\n",
       "1958-08-01    498.957332\n",
       "1958-09-01    493.879254\n",
       "1958-10-01    357.442316\n",
       "1958-11-01    359.375428\n",
       "1958-12-01    277.792919\n",
       "1959-01-01    367.711465\n",
       "1959-02-01    340.643621\n",
       "1959-03-01    348.806428\n",
       "1959-04-01    418.017393\n",
       "1959-05-01    379.607648\n",
       "1959-06-01    433.582298\n",
       "1959-07-01    472.451778\n",
       "1959-08-01    569.313487\n",
       "1959-09-01    532.767558\n",
       "1959-10-01    427.221798\n",
       "1959-11-01    389.228072\n",
       "1959-12-01    342.315316\n",
       "1960-01-01    427.191459\n",
       "1960-02-01    397.536757\n",
       "1960-03-01    388.646273\n",
       "1960-04-01    419.863517\n",
       "1960-05-01    469.483863\n",
       "1960-06-01    459.771475\n",
       "1960-07-01    557.044622\n",
       "1960-08-01    624.712428\n",
       "1960-09-01    581.173802\n",
       "1960-10-01    462.773484\n",
       "1960-11-01    451.383818\n",
       "1960-12-01    349.480170\n",
       "Freq: MS, Name: predicted_mean, dtype: float64"
      ]
     },
     "execution_count": 12,
     "metadata": {},
     "output_type": "execute_result"
    }
   ],
   "source": [
    "# import statsmodels.api as sm\n",
    "# model = sm.tsa.statespace.SARIMAX(y, order=(4, 1, 3))\n",
    "# res = model.fit(disp=False)\n",
    "\n",
    "predictions = results.predict(start=106)\n",
    "predictions\n"
   ]
  },
  {
   "cell_type": "code",
   "execution_count": 19,
   "metadata": {},
   "outputs": [
    {
     "data": {
      "image/png": "[encoded data removed]",
      "text/plain": [
       "<Figure size 432x288 with 1 Axes>"
      ]
     },
     "metadata": {
      "needs_background": "light"
     },
     "output_type": "display_data"
    }
   ],
   "source": [
    "plt.plot(test)\n",
    "plt.plot([*range(len(predictions))], predictions, color=\"red\")\n",
    "plt.title(\"Wykres prognozy\")\n",
    "plt.xlabel(\"Numer miesiąca po listopadzie 1957\")\n",
    "plt.ylabel(\"Liczba rezerwacji\")\n",
    "plt.legend([\"Zbiór testowy\", \"Prognoza\"])\n",
    "plt.show()"
   ]
  },
  {
   "cell_type": "markdown",
   "metadata": {},
   "source": [
    "### 10) Wnioski"
   ]
  },
  {
   "cell_type": "markdown",
   "metadata": {},
   "source": [
    "Wykres prognozy niemalże pokrywa się z z wykresem zbioru testowego. Predykcje są bardzo poprawne."
   ]
  },
  {
   "cell_type": "code",
   "execution_count": null,
   "metadata": {},
   "outputs": [],
   "source": []
  },
  {
   "cell_type": "code",
   "execution_count": null,
   "metadata": {},
   "outputs": [],
   "source": []
  },
  {
   "cell_type": "code",
   "execution_count": null,
   "metadata": {},
   "outputs": [],
   "source": [
    " "
   ]
  },
  {
   "cell_type": "code",
   "execution_count": null,
   "metadata": {},
   "outputs": [],
   "source": []
  },
  {
   "cell_type": "code",
   "execution_count": null,
   "metadata": {},
   "outputs": [],
   "source": []
  },
  {
   "cell_type": "code",
   "execution_count": null,
   "metadata": {},
   "outputs": [],
   "source": []
  }
 ],
 "metadata": {
  "kernelspec": {
   "display_name": "Python 3 (ipykernel)",
   "language": "python",
   "name": "python3"
  },
  "language_info": {
   "codemirror_mode": {
    "name": "ipython",
    "version": 3
   },
   "file_extension": ".py",
   "mimetype": "text/x-python",
   "name": "python",
   "nbconvert_exporter": "python",
   "pygments_lexer": "ipython3",
   "version": "3.9.7"
  }
 },
 "nbformat": 4,
 "nbformat_minor": 4
}
