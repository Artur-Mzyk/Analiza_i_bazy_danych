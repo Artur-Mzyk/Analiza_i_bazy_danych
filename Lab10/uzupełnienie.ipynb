{
 "cells": [
  {
   "cell_type": "markdown",
   "id": "37132c5b",
   "metadata": {},
   "source": [
    "### Przewidywana wartość średnia"
   ]
  },
  {
   "cell_type": "markdown",
   "id": "998a3760",
   "metadata": {},
   "source": [
    "od momentu, gdy już wybraliśmy rodzaj i parametry modelu"
   ]
  },
  {
   "cell_type": "code",
   "execution_count": null,
   "id": "221be258",
   "metadata": {},
   "outputs": [],
   "source": [
    "model = SARIMAX(df, order=(p, 0, q), trend='c') # UWAGA: przykładowy model"
   ]
  },
  {
   "cell_type": "code",
   "execution_count": null,
   "id": "2734026a",
   "metadata": {},
   "outputs": [],
   "source": [
    "results = model.fit()\n",
    "forecast = results.get_prediction(start=-25) # wartość ujemna <-> jak daleko \"wstecz\" od ostatniej próbki danych sięgamy z predykcjami"
   ]
  },
  {
   "cell_type": "code",
   "execution_count": null,
   "id": "a51dcfea",
   "metadata": {},
   "outputs": [],
   "source": [
    "mean_forecast = forecast.predicted_mean"
   ]
  },
  {
   "cell_type": "markdown",
   "id": "6a49579f",
   "metadata": {},
   "source": [
    "Do wykresów, przedział ufności"
   ]
  },
  {
   "cell_type": "code",
   "execution_count": null,
   "id": "71ba257f",
   "metadata": {},
   "outputs": [],
   "source": [
    "confidence_intervals = forecast.conf_int()\n",
    "lower_limits = confidence_intervals.loc[:, 'lower COLUMN_NAME']\n",
    "upper_limits = ... #analogicznie"
   ]
  },
  {
   "cell_type": "markdown",
   "id": "5e966214",
   "metadata": {},
   "source": [
    "Wykres:"
   ]
  },
  {
   "cell_type": "code",
   "execution_count": 2,
   "id": "273eedc2",
   "metadata": {
    "collapsed": true
   },
   "outputs": [
    {
     "ename": "NameError",
     "evalue": "name 'plt' is not defined",
     "output_type": "error",
     "traceback": [
      "\u001b[1;31m---------------------------------------------------------------------------\u001b[0m",
      "\u001b[1;31mNameError\u001b[0m                                 Traceback (most recent call last)",
      "\u001b[1;32m<ipython-input-2-65b822729fc4>\u001b[0m in \u001b[0;36m<module>\u001b[1;34m\u001b[0m\n\u001b[1;32m----> 1\u001b[1;33m \u001b[0mplt\u001b[0m\u001b[1;33m.\u001b[0m\u001b[0mfigure\u001b[0m\u001b[1;33m(\u001b[0m\u001b[1;33m)\u001b[0m\u001b[1;33m\u001b[0m\u001b[1;33m\u001b[0m\u001b[0m\n\u001b[0m",
      "\u001b[1;31mNameError\u001b[0m: name 'plt' is not defined"
     ]
    }
   ],
   "source": [
    "plt.figure()\n",
    "# dates - time index \n",
    "plt.plot(dates, mean_forecast.values, color='red', label='forecast')\n",
    "plt.fill_between(dates, lower_limits, upper_limits, color='pink')\n",
    "plt.show()"
   ]
  },
  {
   "cell_type": "markdown",
   "id": "2f9a285e",
   "metadata": {},
   "source": [
    "### Predykcja dynamiczna \n",
    "Jedna predykcja jest używana do przewidywania następnej itd. (im dalej, tym większe błędy)"
   ]
  },
  {
   "cell_type": "code",
   "execution_count": 3,
   "id": "acf2647a",
   "metadata": {
    "collapsed": true
   },
   "outputs": [
    {
     "ename": "NameError",
     "evalue": "name 'model' is not defined",
     "output_type": "error",
     "traceback": [
      "\u001b[1;31m---------------------------------------------------------------------------\u001b[0m",
      "\u001b[1;31mNameError\u001b[0m                                 Traceback (most recent call last)",
      "\u001b[1;32m<ipython-input-3-d962655acad1>\u001b[0m in \u001b[0;36m<module>\u001b[1;34m\u001b[0m\n\u001b[1;32m----> 1\u001b[1;33m \u001b[0mresults\u001b[0m \u001b[1;33m=\u001b[0m \u001b[0mmodel\u001b[0m\u001b[1;33m.\u001b[0m\u001b[0mfit\u001b[0m\u001b[1;33m(\u001b[0m\u001b[1;33m)\u001b[0m\u001b[1;33m\u001b[0m\u001b[1;33m\u001b[0m\u001b[0m\n\u001b[0m",
      "\u001b[1;31mNameError\u001b[0m: name 'model' is not defined"
     ]
    }
   ],
   "source": [
    "results = model.fit()\n",
    "forecast = results.get_prediction(start=-25, dynamic=True)"
   ]
  },
  {
   "cell_type": "markdown",
   "id": "22b4c373",
   "metadata": {},
   "source": [
    "### Przewidywanie przyszłości (out of sample)\n",
    "Też to jest dynamiczne"
   ]
  },
  {
   "cell_type": "code",
   "execution_count": null,
   "id": "41e55d89",
   "metadata": {},
   "outputs": [],
   "source": [
    "results = model.fit()\n",
    "forecast = results.get_prediction(steps=20) # 20 kroków za końcem naszych danych (nie możemy porównać z naszym zbiorem testowym)"
   ]
  }
 ],
 "metadata": {
  "kernelspec": {
   "display_name": "Python 3",
   "language": "python",
   "name": "python3"
  },
  "language_info": {
   "codemirror_mode": {
    "name": "ipython",
    "version": 3
   },
   "file_extension": ".py",
   "mimetype": "text/x-python",
   "name": "python",
   "nbconvert_exporter": "python",
   "pygments_lexer": "ipython3",
   "version": "3.9.4"
  }
 },
 "nbformat": 4,
 "nbformat_minor": 5
}
