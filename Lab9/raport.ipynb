{
 "cells": [
  {
   "cell_type": "markdown",
   "metadata": {},
   "source": [
    "# Naiwny klasyfikator bayesowski\n",
    "\n",
    "Celem ćwiczenia jest zapoznanie się z technikami konstrukcji naiwnego klasywikatora bayesowskiego. \n",
    "\n",
    "Ćwiczenie oparte jest o artykuł z [linku](https://www.kaggle.com/prashant111/naive-bayes-classifier-in-python/notebook)"
   ]
  },
  {
   "cell_type": "code",
<<<<<<< HEAD
   "execution_count": 56,
=======
   "execution_count": 1,
>>>>>>> 613d06eb3e33992cd34cd38a1e6243bd1cb5e3d7
   "metadata": {},
   "outputs": [],
   "source": [
    "import warnings\n",
    "import pandas as pd \n",
<<<<<<< HEAD
    "import matplotlib.pyplot as plt\n",
    "import seaborn as sns\n",
    "import category_encoders as ce\n",
    "\n",
    "from sklearn.model_selection import train_test_split\n",
    "from sklearn.preprocessing import RobustScaler\n",
    "from sklearn.naive_bayes import GaussianNB\n",
    "from sklearn.metrics import accuracy_score\n",
    "from sklearn.metrics import confusion_matrix\n",
    "from sklearn.metrics import classification_report\n",
    "from sklearn.metrics import roc_curve\n",
    "\n",
    "from sklearn.metrics import roc_auc_score\n",
    "from sklearn.model_selection import cross_val_score\n",
    "from sklearn.model_selection import cross_val_score"
=======
    "import numpy as np\n",
    "import category_encoders as ce\n",
    "import matplotlib.pyplot as plt\n",
    "import seaborn as sns\n",
    " \n",
    "from sklearn.model_selection import train_test_split\n",
    "from sklearn.preprocessing import RobustScaler\n",
    "from sklearn.naive_bayes import GaussianNB\n",
    "from sklearn.metrics import confusion_matrix\n",
    "\n",
    "\n",
    "warnings.filterwarnings('ignore')"
>>>>>>> 613d06eb3e33992cd34cd38a1e6243bd1cb5e3d7
   ]
  },
  {
   "cell_type": "markdown",
   "metadata": {},
   "source": [
    "Na początku proszę wczytać plik __data.csv__ używając jako separatora ',':"
   ]
  },
  {
   "cell_type": "code",
   "execution_count": 2,
   "metadata": {},
   "outputs": [
    {
     "data": {
      "text/html": [
       "<div>\n",
       "<style scoped>\n",
       "    .dataframe tbody tr th:only-of-type {\n",
       "        vertical-align: middle;\n",
       "    }\n",
       "\n",
       "    .dataframe tbody tr th {\n",
       "        vertical-align: top;\n",
       "    }\n",
       "\n",
       "    .dataframe thead th {\n",
       "        text-align: right;\n",
       "    }\n",
       "</style>\n",
       "<table border=\"1\" class=\"dataframe\">\n",
       "  <thead>\n",
       "    <tr style=\"text-align: right;\">\n",
       "      <th></th>\n",
       "      <th>age</th>\n",
       "      <th>workclass</th>\n",
       "      <th>fnlwgt</th>\n",
       "      <th>education</th>\n",
       "      <th>education_num</th>\n",
       "      <th>marital_status</th>\n",
       "      <th>occupation</th>\n",
       "      <th>relationship</th>\n",
       "      <th>race</th>\n",
       "      <th>sex</th>\n",
       "      <th>capital_gain</th>\n",
       "      <th>capital_loss</th>\n",
       "      <th>hours_per_week</th>\n",
       "      <th>native_country</th>\n",
       "      <th>income</th>\n",
       "    </tr>\n",
       "  </thead>\n",
       "  <tbody>\n",
       "    <tr>\n",
       "      <th>0</th>\n",
       "      <td>39</td>\n",
       "      <td>State-gov</td>\n",
       "      <td>77516</td>\n",
       "      <td>Bachelors</td>\n",
       "      <td>13</td>\n",
       "      <td>Never-married</td>\n",
       "      <td>Adm-clerical</td>\n",
       "      <td>Not-in-family</td>\n",
       "      <td>White</td>\n",
       "      <td>Male</td>\n",
       "      <td>2174</td>\n",
       "      <td>0</td>\n",
       "      <td>40</td>\n",
       "      <td>United-States</td>\n",
       "      <td>&lt;=50K</td>\n",
       "    </tr>\n",
       "    <tr>\n",
       "      <th>1</th>\n",
       "      <td>50</td>\n",
       "      <td>Self-emp-not-inc</td>\n",
       "      <td>83311</td>\n",
       "      <td>Bachelors</td>\n",
       "      <td>13</td>\n",
       "      <td>Married-civ-spouse</td>\n",
       "      <td>Exec-managerial</td>\n",
       "      <td>Husband</td>\n",
       "      <td>White</td>\n",
       "      <td>Male</td>\n",
       "      <td>0</td>\n",
       "      <td>0</td>\n",
       "      <td>13</td>\n",
       "      <td>United-States</td>\n",
       "      <td>&lt;=50K</td>\n",
       "    </tr>\n",
       "    <tr>\n",
       "      <th>2</th>\n",
       "      <td>38</td>\n",
       "      <td>Private</td>\n",
       "      <td>215646</td>\n",
       "      <td>HS-grad</td>\n",
       "      <td>9</td>\n",
       "      <td>Divorced</td>\n",
       "      <td>Handlers-cleaners</td>\n",
       "      <td>Not-in-family</td>\n",
       "      <td>White</td>\n",
       "      <td>Male</td>\n",
       "      <td>0</td>\n",
       "      <td>0</td>\n",
       "      <td>40</td>\n",
       "      <td>United-States</td>\n",
       "      <td>&lt;=50K</td>\n",
       "    </tr>\n",
       "    <tr>\n",
       "      <th>3</th>\n",
       "      <td>53</td>\n",
       "      <td>Private</td>\n",
       "      <td>234721</td>\n",
       "      <td>11th</td>\n",
       "      <td>7</td>\n",
       "      <td>Married-civ-spouse</td>\n",
       "      <td>Handlers-cleaners</td>\n",
       "      <td>Husband</td>\n",
       "      <td>Black</td>\n",
       "      <td>Male</td>\n",
       "      <td>0</td>\n",
       "      <td>0</td>\n",
       "      <td>40</td>\n",
       "      <td>United-States</td>\n",
       "      <td>&lt;=50K</td>\n",
       "    </tr>\n",
       "    <tr>\n",
       "      <th>4</th>\n",
       "      <td>28</td>\n",
       "      <td>Private</td>\n",
       "      <td>338409</td>\n",
       "      <td>Bachelors</td>\n",
       "      <td>13</td>\n",
       "      <td>Married-civ-spouse</td>\n",
       "      <td>Prof-specialty</td>\n",
       "      <td>Wife</td>\n",
       "      <td>Black</td>\n",
       "      <td>Female</td>\n",
       "      <td>0</td>\n",
       "      <td>0</td>\n",
       "      <td>40</td>\n",
       "      <td>Cuba</td>\n",
       "      <td>&lt;=50K</td>\n",
       "    </tr>\n",
       "  </tbody>\n",
       "</table>\n",
       "</div>"
      ],
      "text/plain": [
       "   age          workclass  fnlwgt   education  education_num  \\\n",
       "0   39          State-gov   77516   Bachelors             13   \n",
       "1   50   Self-emp-not-inc   83311   Bachelors             13   \n",
       "2   38            Private  215646     HS-grad              9   \n",
       "3   53            Private  234721        11th              7   \n",
       "4   28            Private  338409   Bachelors             13   \n",
       "\n",
       "        marital_status          occupation    relationship    race      sex  \\\n",
       "0        Never-married        Adm-clerical   Not-in-family   White     Male   \n",
       "1   Married-civ-spouse     Exec-managerial         Husband   White     Male   \n",
       "2             Divorced   Handlers-cleaners   Not-in-family   White     Male   \n",
       "3   Married-civ-spouse   Handlers-cleaners         Husband   Black     Male   \n",
       "4   Married-civ-spouse      Prof-specialty            Wife   Black   Female   \n",
       "\n",
       "   capital_gain  capital_loss  hours_per_week  native_country  income  \n",
       "0          2174             0              40   United-States   <=50K  \n",
       "1             0             0              13   United-States   <=50K  \n",
       "2             0             0              40   United-States   <=50K  \n",
       "3             0             0              40   United-States   <=50K  \n",
       "4             0             0              40            Cuba   <=50K  "
      ]
     },
     "execution_count": 2,
     "metadata": {},
     "output_type": "execute_result"
    }
   ],
   "source": [
    "df = pd.read_csv(\"data.csv\")\n",
    "df.head()"
   ]
  },
  {
   "cell_type": "markdown",
   "metadata": {},
   "source": [
    "Następnie sprawdź które z kolumn zawierają dane tekstowe lub liczbowe. W tym celu sprawdź wartość  argumentu *dtype* z odpowiednim warunkiem:"
   ]
  },
  {
   "cell_type": "code",
   "execution_count": 3,
<<<<<<< HEAD
   "metadata": {},
   "outputs": [
    {
     "data": {
      "text/plain": [
       "age                int64\n",
       "workclass         object\n",
       "fnlwgt             int64\n",
       "education         object\n",
       "education_num      int64\n",
       "marital_status    object\n",
       "occupation        object\n",
       "relationship      object\n",
       "race              object\n",
       "sex               object\n",
       "capital_gain       int64\n",
       "capital_loss       int64\n",
       "hours_per_week     int64\n",
       "native_country    object\n",
       "income            object\n",
       "dtype: object"
      ]
     },
     "execution_count": 3,
     "metadata": {},
     "output_type": "execute_result"
    }
   ],
   "source": [
    "df.dtypes"
   ]
  },
  {
   "cell_type": "code",
   "execution_count": 4,
   "metadata": {},
   "outputs": [
    {
     "name": "stdout",
     "output_type": "stream",
     "text": [
      "Zmienne kategorialne:\n",
      "['workclass', 'education', 'marital_status', 'occupation', 'relationship', 'race', 'sex', 'native_country', 'income']\n",
      "\n",
      "Zmienne liczbowe:\n",
      "['age', 'fnlwgt', 'education_num', 'capital_gain', 'capital_loss', 'hours_per_week']\n"
     ]
    }
   ],
   "source": [
    "categorical = [var for var in df.columns if df[var].dtype == 'O']\n",
    "print(f\"Zmienne kategorialne:\\n{categorical}\")\n",
    "print()\n",
    "numerical = [var for var in df.columns if df[var].dtype != 'O']\n",
    "print(f\"Zmienne liczbowe:\\n{numerical}\")"
   ]
  },
  {
   "cell_type": "code",
   "execution_count": 5,
=======
>>>>>>> 613d06eb3e33992cd34cd38a1e6243bd1cb5e3d7
   "metadata": {},
   "outputs": [
    {
     "data": {
      "text/html": [
       "<div>\n",
       "<style scoped>\n",
       "    .dataframe tbody tr th:only-of-type {\n",
       "        vertical-align: middle;\n",
       "    }\n",
       "\n",
       "    .dataframe tbody tr th {\n",
       "        vertical-align: top;\n",
       "    }\n",
       "\n",
       "    .dataframe thead th {\n",
       "        text-align: right;\n",
       "    }\n",
       "</style>\n",
       "<table border=\"1\" class=\"dataframe\">\n",
       "  <thead>\n",
       "    <tr style=\"text-align: right;\">\n",
       "      <th></th>\n",
       "      <th>workclass</th>\n",
       "      <th>education</th>\n",
       "      <th>marital_status</th>\n",
       "      <th>occupation</th>\n",
       "      <th>relationship</th>\n",
       "      <th>race</th>\n",
       "      <th>sex</th>\n",
       "      <th>native_country</th>\n",
       "      <th>income</th>\n",
       "    </tr>\n",
       "  </thead>\n",
       "  <tbody>\n",
       "    <tr>\n",
       "      <th>0</th>\n",
       "      <td>State-gov</td>\n",
       "      <td>Bachelors</td>\n",
       "      <td>Never-married</td>\n",
       "      <td>Adm-clerical</td>\n",
       "      <td>Not-in-family</td>\n",
       "      <td>White</td>\n",
       "      <td>Male</td>\n",
       "      <td>United-States</td>\n",
       "      <td>&lt;=50K</td>\n",
       "    </tr>\n",
       "    <tr>\n",
       "      <th>1</th>\n",
       "      <td>Self-emp-not-inc</td>\n",
       "      <td>Bachelors</td>\n",
       "      <td>Married-civ-spouse</td>\n",
       "      <td>Exec-managerial</td>\n",
       "      <td>Husband</td>\n",
       "      <td>White</td>\n",
       "      <td>Male</td>\n",
       "      <td>United-States</td>\n",
       "      <td>&lt;=50K</td>\n",
       "    </tr>\n",
       "    <tr>\n",
       "      <th>2</th>\n",
       "      <td>Private</td>\n",
       "      <td>HS-grad</td>\n",
       "      <td>Divorced</td>\n",
       "      <td>Handlers-cleaners</td>\n",
       "      <td>Not-in-family</td>\n",
       "      <td>White</td>\n",
       "      <td>Male</td>\n",
       "      <td>United-States</td>\n",
       "      <td>&lt;=50K</td>\n",
       "    </tr>\n",
       "    <tr>\n",
       "      <th>3</th>\n",
       "      <td>Private</td>\n",
       "      <td>11th</td>\n",
       "      <td>Married-civ-spouse</td>\n",
       "      <td>Handlers-cleaners</td>\n",
       "      <td>Husband</td>\n",
       "      <td>Black</td>\n",
       "      <td>Male</td>\n",
       "      <td>United-States</td>\n",
       "      <td>&lt;=50K</td>\n",
       "    </tr>\n",
       "    <tr>\n",
       "      <th>4</th>\n",
       "      <td>Private</td>\n",
       "      <td>Bachelors</td>\n",
       "      <td>Married-civ-spouse</td>\n",
       "      <td>Prof-specialty</td>\n",
       "      <td>Wife</td>\n",
       "      <td>Black</td>\n",
       "      <td>Female</td>\n",
       "      <td>Cuba</td>\n",
       "      <td>&lt;=50K</td>\n",
       "    </tr>\n",
       "  </tbody>\n",
       "</table>\n",
       "</div>"
      ],
      "text/plain": [
       "           workclass   education       marital_status          occupation  \\\n",
       "0          State-gov   Bachelors        Never-married        Adm-clerical   \n",
       "1   Self-emp-not-inc   Bachelors   Married-civ-spouse     Exec-managerial   \n",
       "2            Private     HS-grad             Divorced   Handlers-cleaners   \n",
       "3            Private        11th   Married-civ-spouse   Handlers-cleaners   \n",
       "4            Private   Bachelors   Married-civ-spouse      Prof-specialty   \n",
       "\n",
       "     relationship    race      sex  native_country  income  \n",
       "0   Not-in-family   White     Male   United-States   <=50K  \n",
       "1         Husband   White     Male   United-States   <=50K  \n",
       "2   Not-in-family   White     Male   United-States   <=50K  \n",
       "3         Husband   Black     Male   United-States   <=50K  \n",
       "4            Wife   Black   Female            Cuba   <=50K  "
      ]
     },
<<<<<<< HEAD
     "execution_count": 5,
=======
     "execution_count": 3,
>>>>>>> 613d06eb3e33992cd34cd38a1e6243bd1cb5e3d7
     "metadata": {},
     "output_type": "execute_result"
    }
   ],
   "source": [
    "categorical = [var for var in df.columns if df[var].dtype == 'O']\n",
    "df[categorical].head()"
   ]
  },
  {
   "cell_type": "code",
<<<<<<< HEAD
   "execution_count": 6,
=======
   "execution_count": 4,
>>>>>>> 613d06eb3e33992cd34cd38a1e6243bd1cb5e3d7
   "metadata": {},
   "outputs": [
    {
     "data": {
      "text/html": [
       "<div>\n",
       "<style scoped>\n",
       "    .dataframe tbody tr th:only-of-type {\n",
       "        vertical-align: middle;\n",
       "    }\n",
       "\n",
       "    .dataframe tbody tr th {\n",
       "        vertical-align: top;\n",
       "    }\n",
       "\n",
       "    .dataframe thead th {\n",
       "        text-align: right;\n",
       "    }\n",
       "</style>\n",
       "<table border=\"1\" class=\"dataframe\">\n",
       "  <thead>\n",
       "    <tr style=\"text-align: right;\">\n",
       "      <th></th>\n",
       "      <th>age</th>\n",
       "      <th>fnlwgt</th>\n",
       "      <th>education_num</th>\n",
       "      <th>capital_gain</th>\n",
       "      <th>capital_loss</th>\n",
       "      <th>hours_per_week</th>\n",
       "    </tr>\n",
       "  </thead>\n",
       "  <tbody>\n",
       "    <tr>\n",
       "      <th>0</th>\n",
       "      <td>39</td>\n",
       "      <td>77516</td>\n",
       "      <td>13</td>\n",
       "      <td>2174</td>\n",
       "      <td>0</td>\n",
       "      <td>40</td>\n",
       "    </tr>\n",
       "    <tr>\n",
       "      <th>1</th>\n",
       "      <td>50</td>\n",
       "      <td>83311</td>\n",
       "      <td>13</td>\n",
       "      <td>0</td>\n",
       "      <td>0</td>\n",
       "      <td>13</td>\n",
       "    </tr>\n",
       "    <tr>\n",
       "      <th>2</th>\n",
       "      <td>38</td>\n",
       "      <td>215646</td>\n",
       "      <td>9</td>\n",
       "      <td>0</td>\n",
       "      <td>0</td>\n",
       "      <td>40</td>\n",
       "    </tr>\n",
       "    <tr>\n",
       "      <th>3</th>\n",
       "      <td>53</td>\n",
       "      <td>234721</td>\n",
       "      <td>7</td>\n",
       "      <td>0</td>\n",
       "      <td>0</td>\n",
       "      <td>40</td>\n",
       "    </tr>\n",
       "    <tr>\n",
       "      <th>4</th>\n",
       "      <td>28</td>\n",
       "      <td>338409</td>\n",
       "      <td>13</td>\n",
       "      <td>0</td>\n",
       "      <td>0</td>\n",
       "      <td>40</td>\n",
       "    </tr>\n",
       "  </tbody>\n",
       "</table>\n",
       "</div>"
      ],
      "text/plain": [
       "   age  fnlwgt  education_num  capital_gain  capital_loss  hours_per_week\n",
       "0   39   77516             13          2174             0              40\n",
       "1   50   83311             13             0             0              13\n",
       "2   38  215646              9             0             0              40\n",
       "3   53  234721              7             0             0              40\n",
       "4   28  338409             13             0             0              40"
      ]
     },
<<<<<<< HEAD
     "execution_count": 6,
=======
     "execution_count": 4,
>>>>>>> 613d06eb3e33992cd34cd38a1e6243bd1cb5e3d7
     "metadata": {},
     "output_type": "execute_result"
    }
   ],
   "source": [
    "numerical = [var for var in df.columns if df[var].dtype != 'O']\n",
    "df[numerical].head()"
   ]
  },
  {
   "cell_type": "markdown",
   "metadata": {},
   "source": [
    "Sprawdź czy dane w kolumnach nie zawierają braków a jeżeli tak uzupełnij je według znanych Ci metod:"
   ]
  },
  {
   "cell_type": "code",
<<<<<<< HEAD
   "execution_count": 7,
=======
   "execution_count": 5,
>>>>>>> 613d06eb3e33992cd34cd38a1e6243bd1cb5e3d7
   "metadata": {},
   "outputs": [
    {
     "data": {
      "text/plain": [
       "workclass         0\n",
       "education         0\n",
       "marital_status    0\n",
       "occupation        0\n",
       "relationship      0\n",
       "race              0\n",
       "sex               0\n",
       "native_country    0\n",
       "income            0\n",
       "dtype: int64"
      ]
     },
<<<<<<< HEAD
     "execution_count": 7,
=======
     "execution_count": 5,
>>>>>>> 613d06eb3e33992cd34cd38a1e6243bd1cb5e3d7
     "metadata": {},
     "output_type": "execute_result"
    }
   ],
   "source": [
    "df[categorical].isnull().sum()"
   ]
  },
  {
   "cell_type": "markdown",
   "metadata": {},
   "source": [
    "*Zmienne kategorialne nie przyjmują wartości NaN podanych jawnie.*"
   ]
  },
  {
   "cell_type": "code",
<<<<<<< HEAD
   "execution_count": 8,
=======
   "execution_count": 6,
>>>>>>> 613d06eb3e33992cd34cd38a1e6243bd1cb5e3d7
   "metadata": {},
   "outputs": [
    {
     "name": "stdout",
     "output_type": "stream",
     "text": [
<<<<<<< HEAD
      " Private             22696\n",
      " Self-emp-not-inc     2541\n",
      " Local-gov            2093\n",
      " ?                    1836\n",
      " State-gov            1298\n",
      " Self-emp-inc         1116\n",
      " Federal-gov           960\n",
      " Without-pay            14\n",
      " Never-worked            7\n",
      "Name: workclass, dtype: int64\n",
      " HS-grad         10501\n",
      " Some-college     7291\n",
      " Bachelors        5355\n",
      " Masters          1723\n",
      " Assoc-voc        1382\n",
      " 11th             1175\n",
      " Assoc-acdm       1067\n",
      " 10th              933\n",
      " 7th-8th           646\n",
      " Prof-school       576\n",
      " 9th               514\n",
      " 12th              433\n",
      " Doctorate         413\n",
      " 5th-6th           333\n",
      " 1st-4th           168\n",
      " Preschool          51\n",
      "Name: education, dtype: int64\n",
      " Married-civ-spouse       14976\n",
      " Never-married            10683\n",
      " Divorced                  4443\n",
      " Separated                 1025\n",
      " Widowed                    993\n",
      " Married-spouse-absent      418\n",
      " Married-AF-spouse           23\n",
      "Name: marital_status, dtype: int64\n",
      " Prof-specialty       4140\n",
      " Craft-repair         4099\n",
      " Exec-managerial      4066\n",
      " Adm-clerical         3770\n",
      " Sales                3650\n",
      " Other-service        3295\n",
      " Machine-op-inspct    2002\n",
      " ?                    1843\n",
      " Transport-moving     1597\n",
      " Handlers-cleaners    1370\n",
      " Farming-fishing       994\n",
      " Tech-support          928\n",
      " Protective-serv       649\n",
      " Priv-house-serv       149\n",
      " Armed-Forces            9\n",
      "Name: occupation, dtype: int64\n",
      " Husband           13193\n",
      " Not-in-family      8305\n",
      " Own-child          5068\n",
      " Unmarried          3446\n",
      " Wife               1568\n",
      " Other-relative      981\n",
      "Name: relationship, dtype: int64\n",
      " White                 27816\n",
      " Black                  3124\n",
      " Asian-Pac-Islander     1039\n",
      " Amer-Indian-Eskimo      311\n",
      " Other                   271\n",
      "Name: race, dtype: int64\n",
      " Male      21790\n",
      " Female    10771\n",
      "Name: sex, dtype: int64\n",
      " United-States                 29170\n",
      " Mexico                          643\n",
      " ?                               583\n",
      " Philippines                     198\n",
      " Germany                         137\n",
      " Canada                          121\n",
      " Puerto-Rico                     114\n",
      " El-Salvador                     106\n",
      " India                           100\n",
      " Cuba                             95\n",
      " England                          90\n",
      " Jamaica                          81\n",
      " South                            80\n",
      " China                            75\n",
      " Italy                            73\n",
      " Dominican-Republic               70\n",
      " Vietnam                          67\n",
      " Guatemala                        64\n",
      " Japan                            62\n",
      " Poland                           60\n",
      " Columbia                         59\n",
      " Taiwan                           51\n",
      " Haiti                            44\n",
      " Iran                             43\n",
      " Portugal                         37\n",
      " Nicaragua                        34\n",
      " Peru                             31\n",
      " France                           29\n",
      " Greece                           29\n",
      " Ecuador                          28\n",
      " Ireland                          24\n",
      " Hong                             20\n",
      " Cambodia                         19\n",
      " Trinadad&Tobago                  19\n",
      " Laos                             18\n",
      " Thailand                         18\n",
      " Yugoslavia                       16\n",
      " Outlying-US(Guam-USVI-etc)       14\n",
      " Honduras                         13\n",
      " Hungary                          13\n",
      " Scotland                         12\n",
      " Holand-Netherlands                1\n",
      "Name: native_country, dtype: int64\n",
      " <=50K    24720\n",
      " >50K      7841\n",
      "Name: income, dtype: int64\n"
=======
      "Zmienna: workclass, wartości: [' State-gov' ' Self-emp-not-inc' ' Private' ' Federal-gov' ' Local-gov'\n",
      " ' ?' ' Self-emp-inc' ' Without-pay' ' Never-worked']\n",
      "Zmienna: education, wartości: [' Bachelors' ' HS-grad' ' 11th' ' Masters' ' 9th' ' Some-college'\n",
      " ' Assoc-acdm' ' Assoc-voc' ' 7th-8th' ' Doctorate' ' Prof-school'\n",
      " ' 5th-6th' ' 10th' ' 1st-4th' ' Preschool' ' 12th']\n",
      "Zmienna: marital_status, wartości: [' Never-married' ' Married-civ-spouse' ' Divorced'\n",
      " ' Married-spouse-absent' ' Separated' ' Married-AF-spouse' ' Widowed']\n",
      "Zmienna: occupation, wartości: [' Adm-clerical' ' Exec-managerial' ' Handlers-cleaners' ' Prof-specialty'\n",
      " ' Other-service' ' Sales' ' Craft-repair' ' Transport-moving'\n",
      " ' Farming-fishing' ' Machine-op-inspct' ' Tech-support' ' ?'\n",
      " ' Protective-serv' ' Armed-Forces' ' Priv-house-serv']\n",
      "Zmienna: relationship, wartości: [' Not-in-family' ' Husband' ' Wife' ' Own-child' ' Unmarried'\n",
      " ' Other-relative']\n",
      "Zmienna: race, wartości: [' White' ' Black' ' Asian-Pac-Islander' ' Amer-Indian-Eskimo' ' Other']\n",
      "Zmienna: sex, wartości: [' Male' ' Female']\n",
      "Zmienna: native_country, wartości: [' United-States' ' Cuba' ' Jamaica' ' India' ' ?' ' Mexico' ' South'\n",
      " ' Puerto-Rico' ' Honduras' ' England' ' Canada' ' Germany' ' Iran'\n",
      " ' Philippines' ' Italy' ' Poland' ' Columbia' ' Cambodia' ' Thailand'\n",
      " ' Ecuador' ' Laos' ' Taiwan' ' Haiti' ' Portugal' ' Dominican-Republic'\n",
      " ' El-Salvador' ' France' ' Guatemala' ' China' ' Japan' ' Yugoslavia'\n",
      " ' Peru' ' Outlying-US(Guam-USVI-etc)' ' Scotland' ' Trinadad&Tobago'\n",
      " ' Greece' ' Nicaragua' ' Vietnam' ' Hong' ' Ireland' ' Hungary'\n",
      " ' Holand-Netherlands']\n",
      "Zmienna: income, wartości: [' <=50K' ' >50K']\n"
>>>>>>> 613d06eb3e33992cd34cd38a1e6243bd1cb5e3d7
     ]
    }
   ],
   "source": [
    "for var in categorical:\n",
    "    print(f\"Zmienna: {var}, wartości: {df[var].unique()}\")"
   ]
  },
  {
   "cell_type": "markdown",
   "metadata": {},
   "source": [
    "*Kolumny workclass, occupation i native_country zawierają niepełne dane w postaci znaków zapytania poprzedzonych spacją - \" ?\". Dokonajmy ich zamiany na jawne wartości NaN.*"
   ]
  },
  {
   "cell_type": "code",
<<<<<<< HEAD
   "execution_count": 9,
=======
   "execution_count": 7,
>>>>>>> 613d06eb3e33992cd34cd38a1e6243bd1cb5e3d7
   "metadata": {},
   "outputs": [
    {
     "data": {
      "text/plain": [
<<<<<<< HEAD
       " Private             22696\n",
       " Self-emp-not-inc     2541\n",
       " Local-gov            2093\n",
       " State-gov            1298\n",
       " Self-emp-inc         1116\n",
       " Federal-gov           960\n",
       " Without-pay            14\n",
       " Never-worked            7\n",
       "Name: workclass, dtype: int64"
      ]
     },
     "execution_count": 9,
=======
       "age               0\n",
       "fnlwgt            0\n",
       "education_num     0\n",
       "capital_gain      0\n",
       "capital_loss      0\n",
       "hours_per_week    0\n",
       "dtype: int64"
      ]
     },
     "execution_count": 7,
>>>>>>> 613d06eb3e33992cd34cd38a1e6243bd1cb5e3d7
     "metadata": {},
     "output_type": "execute_result"
    }
   ],
   "source": [
<<<<<<< HEAD
    "df[\"workclass\"].replace(\" ?\", np.NaN, inplace=True)\n",
    "df.workclass.value_counts()"
=======
    "for col in [\"workclass\", \"occupation\", \"native_country\"]:\n",
    "    df[col].replace(\" ?\", np.NaN, inplace=True)\n",
    "    \n",
    "df[numerical].isnull().sum()"
   ]
  },
  {
   "cell_type": "markdown",
   "metadata": {},
   "source": [
    "*Kolumny odpowiadające zmiennym numerycznym nie zawierają niepełnych danych.*"
   ]
  },
  {
   "cell_type": "markdown",
   "metadata": {},
   "source": [
    "Na przygotowanych danych przeprowadź proces tworzenia zbiorów uczących i testowych, tak by klasyfikator rozpoznawał do której z grup w kolumnie 'income' należy opisywana osoba\n"
   ]
  },
  {
   "cell_type": "markdown",
   "metadata": {},
   "source": [
    "### Zmienna \"income\""
>>>>>>> 613d06eb3e33992cd34cd38a1e6243bd1cb5e3d7
   ]
  },
  {
   "cell_type": "code",
<<<<<<< HEAD
=======
   "execution_count": 8,
   "metadata": {},
   "outputs": [],
   "source": [
    "# Wybieramy zmienną \"income\" jako zmienną zależną\n",
    "X = df.drop([\"income\"], axis=1)\n",
    "y = df[\"income\"]\n",
    "X_train, X_test, y_train, y_test = train_test_split(X, y, test_size=0.3, random_state=0)\n",
    "\n",
    "# Wypełniamy brakujące dane najczęściej występującymi wartościami ze zbioru uczącego\n",
    "for df_X in [X_train, X_test]:\n",
    "    for col in [\"workclass\", \"occupation\", \"native_country\"]:\n",
    "        df_X[col].fillna(X_train[col].mode()[0], inplace=True)"
   ]
  },
  {
   "cell_type": "markdown",
   "metadata": {},
   "source": [
    "Przy pomocy biblioteki [category_encoders](https://contrib.scikit-learn.org/category_encoders/) przeprowadź proces kodowania zmiennych tektowych z pozostałych kategorii na wartości liczbowe:"
   ]
  },
  {
   "cell_type": "code",
   "execution_count": 9,
   "metadata": {},
   "outputs": [],
   "source": [
    "# Przeprowadzamy kodowanie\n",
    "encoder = ce.OneHotEncoder()\n",
    "X_train = encoder.fit_transform(X_train)\n",
    "X_test = encoder.transform(X_test)\n",
    "\n",
    "# Przeprowadzamy skalowanie\n",
    "cols = X_train.columns\n",
    "scaler = RobustScaler()\n",
    "X_train = scaler.fit_transform(X_train)\n",
    "X_test = scaler.transform(X_test)\n",
    "X_train = pd.DataFrame(X_train, columns=[cols])\n",
    "X_test = pd.DataFrame(X_test, columns=[cols])"
   ]
  },
  {
   "cell_type": "code",
>>>>>>> 613d06eb3e33992cd34cd38a1e6243bd1cb5e3d7
   "execution_count": 10,
   "metadata": {},
   "outputs": [
    {
     "data": {
      "text/html": [
       "<div>\n",
       "<style scoped>\n",
       "    .dataframe tbody tr th:only-of-type {\n",
       "        vertical-align: middle;\n",
       "    }\n",
       "\n",
       "    .dataframe tbody tr th {\n",
       "        vertical-align: top;\n",
       "    }\n",
       "\n",
       "    .dataframe thead tr th {\n",
       "        text-align: left;\n",
       "    }\n",
       "</style>\n",
       "<table border=\"1\" class=\"dataframe\">\n",
       "  <thead>\n",
       "    <tr>\n",
       "      <th></th>\n",
       "      <th>age</th>\n",
       "      <th>workclass_1</th>\n",
       "      <th>workclass_2</th>\n",
       "      <th>workclass_3</th>\n",
       "      <th>workclass_4</th>\n",
       "      <th>workclass_5</th>\n",
       "      <th>workclass_6</th>\n",
       "      <th>workclass_7</th>\n",
       "      <th>workclass_8</th>\n",
       "      <th>fnlwgt</th>\n",
       "      <th>...</th>\n",
       "      <th>native_country_32</th>\n",
       "      <th>native_country_33</th>\n",
       "      <th>native_country_34</th>\n",
       "      <th>native_country_35</th>\n",
       "      <th>native_country_36</th>\n",
       "      <th>native_country_37</th>\n",
       "      <th>native_country_38</th>\n",
       "      <th>native_country_39</th>\n",
       "      <th>native_country_40</th>\n",
       "      <th>native_country_41</th>\n",
       "    </tr>\n",
       "  </thead>\n",
       "  <tbody>\n",
       "    <tr>\n",
       "      <th>0</th>\n",
       "      <td>0.40</td>\n",
       "      <td>0.0</td>\n",
       "      <td>0.0</td>\n",
       "      <td>0.0</td>\n",
       "      <td>0.0</td>\n",
       "      <td>0.0</td>\n",
       "      <td>0.0</td>\n",
       "      <td>0.0</td>\n",
       "      <td>0.0</td>\n",
       "      <td>-0.058906</td>\n",
       "      <td>...</td>\n",
       "      <td>0.0</td>\n",
       "      <td>0.0</td>\n",
       "      <td>0.0</td>\n",
       "      <td>0.0</td>\n",
       "      <td>0.0</td>\n",
       "      <td>0.0</td>\n",
       "      <td>0.0</td>\n",
       "      <td>0.0</td>\n",
       "      <td>0.0</td>\n",
       "      <td>0.0</td>\n",
       "    </tr>\n",
       "    <tr>\n",
       "      <th>1</th>\n",
       "      <td>0.50</td>\n",
       "      <td>-1.0</td>\n",
       "      <td>1.0</td>\n",
       "      <td>0.0</td>\n",
       "      <td>0.0</td>\n",
       "      <td>0.0</td>\n",
       "      <td>0.0</td>\n",
       "      <td>0.0</td>\n",
       "      <td>0.0</td>\n",
       "      <td>-0.578076</td>\n",
       "      <td>...</td>\n",
       "      <td>0.0</td>\n",
       "      <td>0.0</td>\n",
       "      <td>0.0</td>\n",
       "      <td>0.0</td>\n",
       "      <td>0.0</td>\n",
       "      <td>0.0</td>\n",
       "      <td>0.0</td>\n",
       "      <td>0.0</td>\n",
       "      <td>0.0</td>\n",
       "      <td>0.0</td>\n",
       "    </tr>\n",
       "    <tr>\n",
       "      <th>2</th>\n",
       "      <td>0.55</td>\n",
       "      <td>0.0</td>\n",
       "      <td>0.0</td>\n",
       "      <td>0.0</td>\n",
       "      <td>0.0</td>\n",
       "      <td>0.0</td>\n",
       "      <td>0.0</td>\n",
       "      <td>0.0</td>\n",
       "      <td>0.0</td>\n",
       "      <td>0.080425</td>\n",
       "      <td>...</td>\n",
       "      <td>0.0</td>\n",
       "      <td>0.0</td>\n",
       "      <td>0.0</td>\n",
       "      <td>0.0</td>\n",
       "      <td>0.0</td>\n",
       "      <td>0.0</td>\n",
       "      <td>0.0</td>\n",
       "      <td>0.0</td>\n",
       "      <td>0.0</td>\n",
       "      <td>0.0</td>\n",
       "    </tr>\n",
       "    <tr>\n",
       "      <th>3</th>\n",
       "      <td>-0.40</td>\n",
       "      <td>0.0</td>\n",
       "      <td>0.0</td>\n",
       "      <td>0.0</td>\n",
       "      <td>0.0</td>\n",
       "      <td>0.0</td>\n",
       "      <td>0.0</td>\n",
       "      <td>0.0</td>\n",
       "      <td>0.0</td>\n",
       "      <td>-0.270650</td>\n",
       "      <td>...</td>\n",
       "      <td>0.0</td>\n",
       "      <td>0.0</td>\n",
       "      <td>0.0</td>\n",
       "      <td>0.0</td>\n",
       "      <td>0.0</td>\n",
       "      <td>0.0</td>\n",
       "      <td>0.0</td>\n",
       "      <td>0.0</td>\n",
       "      <td>0.0</td>\n",
       "      <td>0.0</td>\n",
       "    </tr>\n",
       "    <tr>\n",
       "      <th>4</th>\n",
       "      <td>-0.70</td>\n",
       "      <td>0.0</td>\n",
       "      <td>0.0</td>\n",
       "      <td>0.0</td>\n",
       "      <td>0.0</td>\n",
       "      <td>0.0</td>\n",
       "      <td>0.0</td>\n",
       "      <td>0.0</td>\n",
       "      <td>0.0</td>\n",
       "      <td>0.210240</td>\n",
       "      <td>...</td>\n",
       "      <td>0.0</td>\n",
       "      <td>0.0</td>\n",
       "      <td>0.0</td>\n",
       "      <td>0.0</td>\n",
       "      <td>0.0</td>\n",
       "      <td>0.0</td>\n",
       "      <td>0.0</td>\n",
       "      <td>0.0</td>\n",
       "      <td>0.0</td>\n",
       "      <td>0.0</td>\n",
       "    </tr>\n",
       "  </tbody>\n",
       "</table>\n",
       "<p>5 rows × 105 columns</p>\n",
       "</div>"
      ],
      "text/plain": [
<<<<<<< HEAD
       " Prof-specialty       4140\n",
       " Craft-repair         4099\n",
       " Exec-managerial      4066\n",
       " Adm-clerical         3770\n",
       " Sales                3650\n",
       " Other-service        3295\n",
       " Machine-op-inspct    2002\n",
       " Transport-moving     1597\n",
       " Handlers-cleaners    1370\n",
       " Farming-fishing       994\n",
       " Tech-support          928\n",
       " Protective-serv       649\n",
       " Priv-house-serv       149\n",
       " Armed-Forces            9\n",
       "Name: occupation, dtype: int64"
=======
       "    age workclass_1 workclass_2 workclass_3 workclass_4 workclass_5  \\\n",
       "0  0.40         0.0         0.0         0.0         0.0         0.0   \n",
       "1  0.50        -1.0         1.0         0.0         0.0         0.0   \n",
       "2  0.55         0.0         0.0         0.0         0.0         0.0   \n",
       "3 -0.40         0.0         0.0         0.0         0.0         0.0   \n",
       "4 -0.70         0.0         0.0         0.0         0.0         0.0   \n",
       "\n",
       "  workclass_6 workclass_7 workclass_8    fnlwgt  ... native_country_32  \\\n",
       "0         0.0         0.0         0.0 -0.058906  ...               0.0   \n",
       "1         0.0         0.0         0.0 -0.578076  ...               0.0   \n",
       "2         0.0         0.0         0.0  0.080425  ...               0.0   \n",
       "3         0.0         0.0         0.0 -0.270650  ...               0.0   \n",
       "4         0.0         0.0         0.0  0.210240  ...               0.0   \n",
       "\n",
       "  native_country_33 native_country_34 native_country_35 native_country_36  \\\n",
       "0               0.0               0.0               0.0               0.0   \n",
       "1               0.0               0.0               0.0               0.0   \n",
       "2               0.0               0.0               0.0               0.0   \n",
       "3               0.0               0.0               0.0               0.0   \n",
       "4               0.0               0.0               0.0               0.0   \n",
       "\n",
       "  native_country_37 native_country_38 native_country_39 native_country_40  \\\n",
       "0               0.0               0.0               0.0               0.0   \n",
       "1               0.0               0.0               0.0               0.0   \n",
       "2               0.0               0.0               0.0               0.0   \n",
       "3               0.0               0.0               0.0               0.0   \n",
       "4               0.0               0.0               0.0               0.0   \n",
       "\n",
       "  native_country_41  \n",
       "0               0.0  \n",
       "1               0.0  \n",
       "2               0.0  \n",
       "3               0.0  \n",
       "4               0.0  \n",
       "\n",
       "[5 rows x 105 columns]"
>>>>>>> 613d06eb3e33992cd34cd38a1e6243bd1cb5e3d7
      ]
     },
     "execution_count": 10,
     "metadata": {},
     "output_type": "execute_result"
    }
   ],
   "source": [
<<<<<<< HEAD
    "df[\"occupation\"].replace(\" ?\", np.NaN, inplace=True)\n",
    "df.occupation.value_counts()"
=======
    "X_train.head()"
>>>>>>> 613d06eb3e33992cd34cd38a1e6243bd1cb5e3d7
   ]
  },
  {
   "cell_type": "code",
   "execution_count": 11,
   "metadata": {},
   "outputs": [
    {
     "data": {
      "text/html": [
       "<div>\n",
       "<style scoped>\n",
       "    .dataframe tbody tr th:only-of-type {\n",
       "        vertical-align: middle;\n",
       "    }\n",
       "\n",
       "    .dataframe tbody tr th {\n",
       "        vertical-align: top;\n",
       "    }\n",
       "\n",
       "    .dataframe thead tr th {\n",
       "        text-align: left;\n",
       "    }\n",
       "</style>\n",
       "<table border=\"1\" class=\"dataframe\">\n",
       "  <thead>\n",
       "    <tr>\n",
       "      <th></th>\n",
       "      <th>age</th>\n",
       "      <th>workclass_1</th>\n",
       "      <th>workclass_2</th>\n",
       "      <th>workclass_3</th>\n",
       "      <th>workclass_4</th>\n",
       "      <th>workclass_5</th>\n",
       "      <th>workclass_6</th>\n",
       "      <th>workclass_7</th>\n",
       "      <th>workclass_8</th>\n",
       "      <th>fnlwgt</th>\n",
       "      <th>...</th>\n",
       "      <th>native_country_32</th>\n",
       "      <th>native_country_33</th>\n",
       "      <th>native_country_34</th>\n",
       "      <th>native_country_35</th>\n",
       "      <th>native_country_36</th>\n",
       "      <th>native_country_37</th>\n",
       "      <th>native_country_38</th>\n",
       "      <th>native_country_39</th>\n",
       "      <th>native_country_40</th>\n",
       "      <th>native_country_41</th>\n",
       "    </tr>\n",
       "  </thead>\n",
       "  <tbody>\n",
       "    <tr>\n",
       "      <th>0</th>\n",
       "      <td>-0.50</td>\n",
       "      <td>0.0</td>\n",
       "      <td>0.0</td>\n",
       "      <td>0.0</td>\n",
       "      <td>0.0</td>\n",
       "      <td>0.0</td>\n",
       "      <td>0.0</td>\n",
       "      <td>0.0</td>\n",
       "      <td>0.0</td>\n",
       "      <td>-0.006571</td>\n",
       "      <td>...</td>\n",
       "      <td>0.0</td>\n",
       "      <td>0.0</td>\n",
       "      <td>0.0</td>\n",
       "      <td>0.0</td>\n",
       "      <td>0.0</td>\n",
       "      <td>0.0</td>\n",
       "      <td>0.0</td>\n",
       "      <td>0.0</td>\n",
       "      <td>0.0</td>\n",
       "      <td>0.0</td>\n",
       "    </tr>\n",
       "    <tr>\n",
       "      <th>1</th>\n",
       "      <td>-0.50</td>\n",
       "      <td>0.0</td>\n",
       "      <td>0.0</td>\n",
       "      <td>0.0</td>\n",
       "      <td>0.0</td>\n",
       "      <td>0.0</td>\n",
       "      <td>0.0</td>\n",
       "      <td>0.0</td>\n",
       "      <td>0.0</td>\n",
       "      <td>0.323136</td>\n",
       "      <td>...</td>\n",
       "      <td>0.0</td>\n",
       "      <td>0.0</td>\n",
       "      <td>0.0</td>\n",
       "      <td>0.0</td>\n",
       "      <td>0.0</td>\n",
       "      <td>0.0</td>\n",
       "      <td>0.0</td>\n",
       "      <td>0.0</td>\n",
       "      <td>0.0</td>\n",
       "      <td>0.0</td>\n",
       "    </tr>\n",
       "    <tr>\n",
       "      <th>2</th>\n",
       "      <td>-0.60</td>\n",
       "      <td>0.0</td>\n",
       "      <td>0.0</td>\n",
       "      <td>0.0</td>\n",
       "      <td>0.0</td>\n",
       "      <td>0.0</td>\n",
       "      <td>0.0</td>\n",
       "      <td>0.0</td>\n",
       "      <td>0.0</td>\n",
       "      <td>0.656361</td>\n",
       "      <td>...</td>\n",
       "      <td>0.0</td>\n",
       "      <td>0.0</td>\n",
       "      <td>0.0</td>\n",
       "      <td>0.0</td>\n",
       "      <td>0.0</td>\n",
       "      <td>0.0</td>\n",
       "      <td>0.0</td>\n",
       "      <td>0.0</td>\n",
       "      <td>0.0</td>\n",
       "      <td>0.0</td>\n",
       "    </tr>\n",
       "    <tr>\n",
       "      <th>3</th>\n",
       "      <td>0.45</td>\n",
       "      <td>0.0</td>\n",
       "      <td>0.0</td>\n",
       "      <td>0.0</td>\n",
       "      <td>0.0</td>\n",
       "      <td>0.0</td>\n",
       "      <td>0.0</td>\n",
       "      <td>0.0</td>\n",
       "      <td>0.0</td>\n",
       "      <td>-0.253496</td>\n",
       "      <td>...</td>\n",
       "      <td>0.0</td>\n",
       "      <td>0.0</td>\n",
       "      <td>0.0</td>\n",
       "      <td>0.0</td>\n",
       "      <td>0.0</td>\n",
       "      <td>0.0</td>\n",
       "      <td>0.0</td>\n",
       "      <td>0.0</td>\n",
       "      <td>0.0</td>\n",
       "      <td>0.0</td>\n",
       "    </tr>\n",
       "    <tr>\n",
       "      <th>4</th>\n",
       "      <td>0.40</td>\n",
       "      <td>0.0</td>\n",
       "      <td>0.0</td>\n",
       "      <td>0.0</td>\n",
       "      <td>0.0</td>\n",
       "      <td>0.0</td>\n",
       "      <td>0.0</td>\n",
       "      <td>0.0</td>\n",
       "      <td>0.0</td>\n",
       "      <td>-0.042564</td>\n",
       "      <td>...</td>\n",
       "      <td>0.0</td>\n",
       "      <td>0.0</td>\n",
       "      <td>0.0</td>\n",
       "      <td>0.0</td>\n",
       "      <td>0.0</td>\n",
       "      <td>0.0</td>\n",
       "      <td>0.0</td>\n",
       "      <td>0.0</td>\n",
       "      <td>0.0</td>\n",
       "      <td>0.0</td>\n",
       "    </tr>\n",
       "  </tbody>\n",
       "</table>\n",
       "<p>5 rows × 105 columns</p>\n",
       "</div>"
      ],
      "text/plain": [
<<<<<<< HEAD
       " United-States                 29170\n",
       " Mexico                          643\n",
       " Philippines                     198\n",
       " Germany                         137\n",
       " Canada                          121\n",
       " Puerto-Rico                     114\n",
       " El-Salvador                     106\n",
       " India                           100\n",
       " Cuba                             95\n",
       " England                          90\n",
       " Jamaica                          81\n",
       " South                            80\n",
       " China                            75\n",
       " Italy                            73\n",
       " Dominican-Republic               70\n",
       " Vietnam                          67\n",
       " Guatemala                        64\n",
       " Japan                            62\n",
       " Poland                           60\n",
       " Columbia                         59\n",
       " Taiwan                           51\n",
       " Haiti                            44\n",
       " Iran                             43\n",
       " Portugal                         37\n",
       " Nicaragua                        34\n",
       " Peru                             31\n",
       " France                           29\n",
       " Greece                           29\n",
       " Ecuador                          28\n",
       " Ireland                          24\n",
       " Hong                             20\n",
       " Cambodia                         19\n",
       " Trinadad&Tobago                  19\n",
       " Laos                             18\n",
       " Thailand                         18\n",
       " Yugoslavia                       16\n",
       " Outlying-US(Guam-USVI-etc)       14\n",
       " Honduras                         13\n",
       " Hungary                          13\n",
       " Scotland                         12\n",
       " Holand-Netherlands                1\n",
       "Name: native_country, dtype: int64"
=======
       "    age workclass_1 workclass_2 workclass_3 workclass_4 workclass_5  \\\n",
       "0 -0.50         0.0         0.0         0.0         0.0         0.0   \n",
       "1 -0.50         0.0         0.0         0.0         0.0         0.0   \n",
       "2 -0.60         0.0         0.0         0.0         0.0         0.0   \n",
       "3  0.45         0.0         0.0         0.0         0.0         0.0   \n",
       "4  0.40         0.0         0.0         0.0         0.0         0.0   \n",
       "\n",
       "  workclass_6 workclass_7 workclass_8    fnlwgt  ... native_country_32  \\\n",
       "0         0.0         0.0         0.0 -0.006571  ...               0.0   \n",
       "1         0.0         0.0         0.0  0.323136  ...               0.0   \n",
       "2         0.0         0.0         0.0  0.656361  ...               0.0   \n",
       "3         0.0         0.0         0.0 -0.253496  ...               0.0   \n",
       "4         0.0         0.0         0.0 -0.042564  ...               0.0   \n",
       "\n",
       "  native_country_33 native_country_34 native_country_35 native_country_36  \\\n",
       "0               0.0               0.0               0.0               0.0   \n",
       "1               0.0               0.0               0.0               0.0   \n",
       "2               0.0               0.0               0.0               0.0   \n",
       "3               0.0               0.0               0.0               0.0   \n",
       "4               0.0               0.0               0.0               0.0   \n",
       "\n",
       "  native_country_37 native_country_38 native_country_39 native_country_40  \\\n",
       "0               0.0               0.0               0.0               0.0   \n",
       "1               0.0               0.0               0.0               0.0   \n",
       "2               0.0               0.0               0.0               0.0   \n",
       "3               0.0               0.0               0.0               0.0   \n",
       "4               0.0               0.0               0.0               0.0   \n",
       "\n",
       "  native_country_41  \n",
       "0               0.0  \n",
       "1               0.0  \n",
       "2               0.0  \n",
       "3               0.0  \n",
       "4               0.0  \n",
       "\n",
       "[5 rows x 105 columns]"
>>>>>>> 613d06eb3e33992cd34cd38a1e6243bd1cb5e3d7
      ]
     },
     "execution_count": 11,
     "metadata": {},
     "output_type": "execute_result"
    }
   ],
   "source": [
<<<<<<< HEAD
    "df[\"native_country\"].replace(\" ?\", np.NaN, inplace=True)\n",
    "df.native_country.value_counts()"
=======
    "X_test.head()"
   ]
  },
  {
   "cell_type": "markdown",
   "metadata": {},
   "source": [
    "Używając [GaussianNB](https://scikit-learn.org/stable/modules/generated/sklearn.naive_bayes.GaussianNB.html) przeprowadź klasyfikację daych ze zbiorów testowych i treningowych. Podaj dokładnosć modelu i macierz błędu wraz z jej wykresem i interpretacją."
>>>>>>> 613d06eb3e33992cd34cd38a1e6243bd1cb5e3d7
   ]
  },
  {
   "cell_type": "code",
   "execution_count": 12,
<<<<<<< HEAD
   "metadata": {},
   "outputs": [
    {
     "data": {
      "text/plain": [
       "workclass         1836\n",
       "education            0\n",
       "marital_status       0\n",
       "occupation        1843\n",
       "relationship         0\n",
       "race                 0\n",
       "sex                  0\n",
       "native_country     583\n",
       "income               0\n",
       "dtype: int64"
      ]
     },
     "execution_count": 12,
     "metadata": {},
     "output_type": "execute_result"
    }
   ],
   "source": [
    "df[categorical].isnull().sum()"
   ]
  },
  {
   "cell_type": "code",
   "execution_count": 13,
=======
>>>>>>> 613d06eb3e33992cd34cd38a1e6243bd1cb5e3d7
   "metadata": {},
   "outputs": [
    {
     "name": "stdout",
     "output_type": "stream",
     "text": [
      "Dokładność zbioru uczącego: 80.67%\n",
      "Dokładność zbioru testowego, czyli dokładność modelu: 80.83%\n",
      "Dokładność wybierania najczęstszej wartości: 75.82%\n"
     ]
    }
   ],
   "source": [
    "# Inicjalizacja naiwnego klasyfikatora bayesowskiego\n",
    "gnb = GaussianNB()\n",
    "\n",
    "# Klasyfikacja\n",
    "gnb.fit(X_train, y_train)\n",
    "y_pred = gnb.predict(X_test)\n",
    "\n",
    "# Dokładności\n",
    "print(f\"Dokładność zbioru uczącego: {round(gnb.score(X_train, y_train), 4) * 100}%\")\n",
    "print(f\"Dokładność zbioru testowego, czyli dokładność modelu: {round(gnb.score(X_test, y_test), 4) * 100}%\")\n",
    "vals = list(y_test.value_counts())\n",
    "print(f\"Dokładność wybierania najczęstszej wartości: {round(max(vals) / sum(vals), 4) * 100}%\")"
   ]
  },
  {
   "cell_type": "markdown",
   "metadata": {},
   "source": [
    "*Dokładności są wysokie, zatem można uznać, że nasz naiwny klasyfikator bayesowski będzie klasyfikował z zadowalającą efektywnością.*"
   ]
  },
  {
   "cell_type": "code",
<<<<<<< HEAD
   "execution_count": 14,
=======
   "execution_count": 13,
>>>>>>> 613d06eb3e33992cd34cd38a1e6243bd1cb5e3d7
   "metadata": {},
   "outputs": [
    {
     "name": "stdout",
     "output_type": "stream",
     "text": [
      "Tablica pomyłek:\n",
      "[[5999 1408]\n",
      " [ 465 1897]]\n",
      "\n",
      "Dokładność klasyfikacji: 80.83%\n"
     ]
    },
    {
     "data": {
      "image/png": "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\n",
      "text/plain": [
       "<Figure size 432x288 with 2 Axes>"
      ]
     },
<<<<<<< HEAD
     "execution_count": 14,
     "metadata": {},
     "output_type": "execute_result"
=======
     "metadata": {
      "needs_background": "light"
     },
     "output_type": "display_data"
>>>>>>> 613d06eb3e33992cd34cd38a1e6243bd1cb5e3d7
    }
   ],
   "source": [
    "cm = confusion_matrix(y_test, y_pred)\n",
    "print(f\"Tablica pomyłek:\\n{cm}\\n\")\n",
    "\n",
    "diag_sum = 0\n",
    "mat_sum = 0\n",
    "\n",
    "for i in range(cm.shape[0]):\n",
    "    for j in range(cm.shape[1]):\n",
    "        if i == j:\n",
    "            diag_sum += cm[i, j]\n",
    "            \n",
    "        mat_sum += cm[i, j]\n",
    "\n",
    "print(f\"Dokładność klasyfikacji: {round(diag_sum / mat_sum, 4) * 100}%\")\n",
    "\n",
    "cm_cols = list(y_test.unique())\n",
    "cm_matrix = pd.DataFrame(data=cm, columns=cm_cols, index=cm_cols)\n",
    "sns.heatmap(cm_matrix, annot=True, fmt='d', cmap=\"YlGnBu\")\n",
    "plt.show()"
   ]
  },
  {
   "cell_type": "markdown",
   "metadata": {},
   "source": [
    "*Tablica pomyłek przedstawia nam, jakiej klasy jest dany obiekt oraz jaki wynik dała jego klasyfikacja.*\n",
    "\n",
    "*Dokładność klasyfikacji to lekko ponad 80%, przez co można uznać nasz model za poprawny, aczkolwiek niepokojąca jest tendencja modelu do klasyfikacji obiektu klasy \"<=50K\" jako obiektu klasy \">50K\", która zachodzi niemalże tak często jak poprawna klasyfikacja obiektu klasy \">50K\".*"
   ]
  },
  {
   "cell_type": "markdown",
   "metadata": {},
   "source": [
    "Przprowadź uczenie klasyfikatora dla kolumn *race* i *native_country*. Podaj dokładnosć modeli i macierze błędu wraz z ich wykresami i interpretacją. Przedstaw wnioski od czego zależą otrzymane wyniki"
   ]
  },
  {
<<<<<<< HEAD
   "cell_type": "code",
   "execution_count": 15,
=======
   "cell_type": "markdown",
>>>>>>> 613d06eb3e33992cd34cd38a1e6243bd1cb5e3d7
   "metadata": {},
   "source": [
    "### Zmienna \"race\""
   ]
  },
  {
<<<<<<< HEAD
   "cell_type": "markdown",
   "metadata": {},
   "source": [
    "Uzupełniamy brakujące wartości tymi najczęściej występującymi - wartości modalne."
=======
   "cell_type": "code",
   "execution_count": 14,
   "metadata": {},
   "outputs": [],
   "source": [
    "# Wybieramy zmienną \"race\" jako zmienną zależną\n",
    "X = df.drop([\"race\"], axis=1)\n",
    "y = df[\"race\"]\n",
    "X_train, X_test, y_train, y_test = train_test_split(X, y, test_size=0.3, random_state=0)\n",
    "\n",
    "# Wypełniamy brakujące dane najczęściej występującymi wartościami ze zbioru uczącego\n",
    "for df_X in [X_train, X_test]:\n",
    "    for col in [\"workclass\", \"occupation\", \"native_country\"]:\n",
    "        df_X[col].fillna(X_train[col].mode()[0], inplace=True)\n",
    "        \n",
    "# Przeprowadzamy kodowanie\n",
    "encoder = ce.OneHotEncoder()\n",
    "X_train = encoder.fit_transform(X_train)\n",
    "X_test = encoder.transform(X_test)\n",
    "\n",
    "# Przeprowadzamy skalowanie\n",
    "cols = X_train.columns\n",
    "scaler = RobustScaler()\n",
    "X_train = scaler.fit_transform(X_train)\n",
    "X_test = scaler.transform(X_test)\n",
    "X_train = pd.DataFrame(X_train, columns=[cols])\n",
    "X_test = pd.DataFrame(X_test, columns=[cols])"
>>>>>>> 613d06eb3e33992cd34cd38a1e6243bd1cb5e3d7
   ]
  },
  {
   "cell_type": "code",
<<<<<<< HEAD
   "execution_count": 16,
   "metadata": {},
   "outputs": [],
   "source": [
    "workclass_mode = X_train[\"workclass\"].mode()[0]\n",
    "occupation_mode = X_train[\"occupation\"].mode()[0]\n",
    "native_country_mode = X_train[\"native_country\"].mode()[0]\n",
    "\n",
    "for df_X in [X_train, X_test]:\n",
    "    df_X[\"workclass\"].fillna(workclass_mode, inplace=True)\n",
    "    df_X[\"occupation\"].fillna(occupation_mode, inplace=True)\n",
    "    df_X[\"native_country\"].fillna(native_country_mode, inplace=True)    "
=======
   "execution_count": 15,
   "metadata": {},
   "outputs": [
    {
     "data": {
      "text/html": [
       "<div>\n",
       "<style scoped>\n",
       "    .dataframe tbody tr th:only-of-type {\n",
       "        vertical-align: middle;\n",
       "    }\n",
       "\n",
       "    .dataframe tbody tr th {\n",
       "        vertical-align: top;\n",
       "    }\n",
       "\n",
       "    .dataframe thead tr th {\n",
       "        text-align: left;\n",
       "    }\n",
       "</style>\n",
       "<table border=\"1\" class=\"dataframe\">\n",
       "  <thead>\n",
       "    <tr>\n",
       "      <th></th>\n",
       "      <th>age</th>\n",
       "      <th>workclass_1</th>\n",
       "      <th>workclass_2</th>\n",
       "      <th>workclass_3</th>\n",
       "      <th>workclass_4</th>\n",
       "      <th>workclass_5</th>\n",
       "      <th>workclass_6</th>\n",
       "      <th>workclass_7</th>\n",
       "      <th>workclass_8</th>\n",
       "      <th>fnlwgt</th>\n",
       "      <th>...</th>\n",
       "      <th>native_country_34</th>\n",
       "      <th>native_country_35</th>\n",
       "      <th>native_country_36</th>\n",
       "      <th>native_country_37</th>\n",
       "      <th>native_country_38</th>\n",
       "      <th>native_country_39</th>\n",
       "      <th>native_country_40</th>\n",
       "      <th>native_country_41</th>\n",
       "      <th>income_1</th>\n",
       "      <th>income_2</th>\n",
       "    </tr>\n",
       "  </thead>\n",
       "  <tbody>\n",
       "    <tr>\n",
       "      <th>0</th>\n",
       "      <td>0.40</td>\n",
       "      <td>0.0</td>\n",
       "      <td>0.0</td>\n",
       "      <td>0.0</td>\n",
       "      <td>0.0</td>\n",
       "      <td>0.0</td>\n",
       "      <td>0.0</td>\n",
       "      <td>0.0</td>\n",
       "      <td>0.0</td>\n",
       "      <td>-0.058906</td>\n",
       "      <td>...</td>\n",
       "      <td>0.0</td>\n",
       "      <td>0.0</td>\n",
       "      <td>0.0</td>\n",
       "      <td>0.0</td>\n",
       "      <td>0.0</td>\n",
       "      <td>0.0</td>\n",
       "      <td>0.0</td>\n",
       "      <td>0.0</td>\n",
       "      <td>1.0</td>\n",
       "      <td>-1.0</td>\n",
       "    </tr>\n",
       "    <tr>\n",
       "      <th>1</th>\n",
       "      <td>0.50</td>\n",
       "      <td>-1.0</td>\n",
       "      <td>1.0</td>\n",
       "      <td>0.0</td>\n",
       "      <td>0.0</td>\n",
       "      <td>0.0</td>\n",
       "      <td>0.0</td>\n",
       "      <td>0.0</td>\n",
       "      <td>0.0</td>\n",
       "      <td>-0.578076</td>\n",
       "      <td>...</td>\n",
       "      <td>0.0</td>\n",
       "      <td>0.0</td>\n",
       "      <td>0.0</td>\n",
       "      <td>0.0</td>\n",
       "      <td>0.0</td>\n",
       "      <td>0.0</td>\n",
       "      <td>0.0</td>\n",
       "      <td>0.0</td>\n",
       "      <td>0.0</td>\n",
       "      <td>0.0</td>\n",
       "    </tr>\n",
       "    <tr>\n",
       "      <th>2</th>\n",
       "      <td>0.55</td>\n",
       "      <td>0.0</td>\n",
       "      <td>0.0</td>\n",
       "      <td>0.0</td>\n",
       "      <td>0.0</td>\n",
       "      <td>0.0</td>\n",
       "      <td>0.0</td>\n",
       "      <td>0.0</td>\n",
       "      <td>0.0</td>\n",
       "      <td>0.080425</td>\n",
       "      <td>...</td>\n",
       "      <td>0.0</td>\n",
       "      <td>0.0</td>\n",
       "      <td>0.0</td>\n",
       "      <td>0.0</td>\n",
       "      <td>0.0</td>\n",
       "      <td>0.0</td>\n",
       "      <td>0.0</td>\n",
       "      <td>0.0</td>\n",
       "      <td>1.0</td>\n",
       "      <td>-1.0</td>\n",
       "    </tr>\n",
       "    <tr>\n",
       "      <th>3</th>\n",
       "      <td>-0.40</td>\n",
       "      <td>0.0</td>\n",
       "      <td>0.0</td>\n",
       "      <td>0.0</td>\n",
       "      <td>0.0</td>\n",
       "      <td>0.0</td>\n",
       "      <td>0.0</td>\n",
       "      <td>0.0</td>\n",
       "      <td>0.0</td>\n",
       "      <td>-0.270650</td>\n",
       "      <td>...</td>\n",
       "      <td>0.0</td>\n",
       "      <td>0.0</td>\n",
       "      <td>0.0</td>\n",
       "      <td>0.0</td>\n",
       "      <td>0.0</td>\n",
       "      <td>0.0</td>\n",
       "      <td>0.0</td>\n",
       "      <td>0.0</td>\n",
       "      <td>0.0</td>\n",
       "      <td>0.0</td>\n",
       "    </tr>\n",
       "    <tr>\n",
       "      <th>4</th>\n",
       "      <td>-0.70</td>\n",
       "      <td>0.0</td>\n",
       "      <td>0.0</td>\n",
       "      <td>0.0</td>\n",
       "      <td>0.0</td>\n",
       "      <td>0.0</td>\n",
       "      <td>0.0</td>\n",
       "      <td>0.0</td>\n",
       "      <td>0.0</td>\n",
       "      <td>0.210240</td>\n",
       "      <td>...</td>\n",
       "      <td>0.0</td>\n",
       "      <td>0.0</td>\n",
       "      <td>0.0</td>\n",
       "      <td>0.0</td>\n",
       "      <td>0.0</td>\n",
       "      <td>0.0</td>\n",
       "      <td>0.0</td>\n",
       "      <td>0.0</td>\n",
       "      <td>0.0</td>\n",
       "      <td>0.0</td>\n",
       "    </tr>\n",
       "  </tbody>\n",
       "</table>\n",
       "<p>5 rows × 102 columns</p>\n",
       "</div>"
      ],
      "text/plain": [
       "    age workclass_1 workclass_2 workclass_3 workclass_4 workclass_5  \\\n",
       "0  0.40         0.0         0.0         0.0         0.0         0.0   \n",
       "1  0.50        -1.0         1.0         0.0         0.0         0.0   \n",
       "2  0.55         0.0         0.0         0.0         0.0         0.0   \n",
       "3 -0.40         0.0         0.0         0.0         0.0         0.0   \n",
       "4 -0.70         0.0         0.0         0.0         0.0         0.0   \n",
       "\n",
       "  workclass_6 workclass_7 workclass_8    fnlwgt  ... native_country_34  \\\n",
       "0         0.0         0.0         0.0 -0.058906  ...               0.0   \n",
       "1         0.0         0.0         0.0 -0.578076  ...               0.0   \n",
       "2         0.0         0.0         0.0  0.080425  ...               0.0   \n",
       "3         0.0         0.0         0.0 -0.270650  ...               0.0   \n",
       "4         0.0         0.0         0.0  0.210240  ...               0.0   \n",
       "\n",
       "  native_country_35 native_country_36 native_country_37 native_country_38  \\\n",
       "0               0.0               0.0               0.0               0.0   \n",
       "1               0.0               0.0               0.0               0.0   \n",
       "2               0.0               0.0               0.0               0.0   \n",
       "3               0.0               0.0               0.0               0.0   \n",
       "4               0.0               0.0               0.0               0.0   \n",
       "\n",
       "  native_country_39 native_country_40 native_country_41 income_1 income_2  \n",
       "0               0.0               0.0               0.0      1.0     -1.0  \n",
       "1               0.0               0.0               0.0      0.0      0.0  \n",
       "2               0.0               0.0               0.0      1.0     -1.0  \n",
       "3               0.0               0.0               0.0      0.0      0.0  \n",
       "4               0.0               0.0               0.0      0.0      0.0  \n",
       "\n",
       "[5 rows x 102 columns]"
      ]
     },
     "execution_count": 15,
     "metadata": {},
     "output_type": "execute_result"
    }
   ],
   "source": [
    "X_train.head()"
>>>>>>> 613d06eb3e33992cd34cd38a1e6243bd1cb5e3d7
   ]
  },
  {
   "cell_type": "code",
<<<<<<< HEAD
   "execution_count": 17,
=======
   "execution_count": 16,
>>>>>>> 613d06eb3e33992cd34cd38a1e6243bd1cb5e3d7
   "metadata": {},
   "outputs": [
    {
     "data": {
<<<<<<< HEAD
      "text/plain": [
       "age               0\n",
       "workclass         0\n",
       "fnlwgt            0\n",
       "education         0\n",
       "education_num     0\n",
       "marital_status    0\n",
       "occupation        0\n",
       "relationship      0\n",
       "race              0\n",
       "sex               0\n",
       "capital_gain      0\n",
       "capital_loss      0\n",
       "hours_per_week    0\n",
       "native_country    0\n",
       "dtype: int64"
      ]
     },
     "execution_count": 17,
=======
      "text/html": [
       "<div>\n",
       "<style scoped>\n",
       "    .dataframe tbody tr th:only-of-type {\n",
       "        vertical-align: middle;\n",
       "    }\n",
       "\n",
       "    .dataframe tbody tr th {\n",
       "        vertical-align: top;\n",
       "    }\n",
       "\n",
       "    .dataframe thead tr th {\n",
       "        text-align: left;\n",
       "    }\n",
       "</style>\n",
       "<table border=\"1\" class=\"dataframe\">\n",
       "  <thead>\n",
       "    <tr>\n",
       "      <th></th>\n",
       "      <th>age</th>\n",
       "      <th>workclass_1</th>\n",
       "      <th>workclass_2</th>\n",
       "      <th>workclass_3</th>\n",
       "      <th>workclass_4</th>\n",
       "      <th>workclass_5</th>\n",
       "      <th>workclass_6</th>\n",
       "      <th>workclass_7</th>\n",
       "      <th>workclass_8</th>\n",
       "      <th>fnlwgt</th>\n",
       "      <th>...</th>\n",
       "      <th>native_country_34</th>\n",
       "      <th>native_country_35</th>\n",
       "      <th>native_country_36</th>\n",
       "      <th>native_country_37</th>\n",
       "      <th>native_country_38</th>\n",
       "      <th>native_country_39</th>\n",
       "      <th>native_country_40</th>\n",
       "      <th>native_country_41</th>\n",
       "      <th>income_1</th>\n",
       "      <th>income_2</th>\n",
       "    </tr>\n",
       "  </thead>\n",
       "  <tbody>\n",
       "    <tr>\n",
       "      <th>0</th>\n",
       "      <td>-0.50</td>\n",
       "      <td>0.0</td>\n",
       "      <td>0.0</td>\n",
       "      <td>0.0</td>\n",
       "      <td>0.0</td>\n",
       "      <td>0.0</td>\n",
       "      <td>0.0</td>\n",
       "      <td>0.0</td>\n",
       "      <td>0.0</td>\n",
       "      <td>-0.006571</td>\n",
       "      <td>...</td>\n",
       "      <td>0.0</td>\n",
       "      <td>0.0</td>\n",
       "      <td>0.0</td>\n",
       "      <td>0.0</td>\n",
       "      <td>0.0</td>\n",
       "      <td>0.0</td>\n",
       "      <td>0.0</td>\n",
       "      <td>0.0</td>\n",
       "      <td>0.0</td>\n",
       "      <td>0.0</td>\n",
       "    </tr>\n",
       "    <tr>\n",
       "      <th>1</th>\n",
       "      <td>-0.50</td>\n",
       "      <td>0.0</td>\n",
       "      <td>0.0</td>\n",
       "      <td>0.0</td>\n",
       "      <td>0.0</td>\n",
       "      <td>0.0</td>\n",
       "      <td>0.0</td>\n",
       "      <td>0.0</td>\n",
       "      <td>0.0</td>\n",
       "      <td>0.323136</td>\n",
       "      <td>...</td>\n",
       "      <td>0.0</td>\n",
       "      <td>0.0</td>\n",
       "      <td>0.0</td>\n",
       "      <td>0.0</td>\n",
       "      <td>0.0</td>\n",
       "      <td>0.0</td>\n",
       "      <td>0.0</td>\n",
       "      <td>0.0</td>\n",
       "      <td>0.0</td>\n",
       "      <td>0.0</td>\n",
       "    </tr>\n",
       "    <tr>\n",
       "      <th>2</th>\n",
       "      <td>-0.60</td>\n",
       "      <td>0.0</td>\n",
       "      <td>0.0</td>\n",
       "      <td>0.0</td>\n",
       "      <td>0.0</td>\n",
       "      <td>0.0</td>\n",
       "      <td>0.0</td>\n",
       "      <td>0.0</td>\n",
       "      <td>0.0</td>\n",
       "      <td>0.656361</td>\n",
       "      <td>...</td>\n",
       "      <td>0.0</td>\n",
       "      <td>0.0</td>\n",
       "      <td>0.0</td>\n",
       "      <td>0.0</td>\n",
       "      <td>0.0</td>\n",
       "      <td>0.0</td>\n",
       "      <td>0.0</td>\n",
       "      <td>0.0</td>\n",
       "      <td>0.0</td>\n",
       "      <td>0.0</td>\n",
       "    </tr>\n",
       "    <tr>\n",
       "      <th>3</th>\n",
       "      <td>0.45</td>\n",
       "      <td>0.0</td>\n",
       "      <td>0.0</td>\n",
       "      <td>0.0</td>\n",
       "      <td>0.0</td>\n",
       "      <td>0.0</td>\n",
       "      <td>0.0</td>\n",
       "      <td>0.0</td>\n",
       "      <td>0.0</td>\n",
       "      <td>-0.253496</td>\n",
       "      <td>...</td>\n",
       "      <td>0.0</td>\n",
       "      <td>0.0</td>\n",
       "      <td>0.0</td>\n",
       "      <td>0.0</td>\n",
       "      <td>0.0</td>\n",
       "      <td>0.0</td>\n",
       "      <td>0.0</td>\n",
       "      <td>0.0</td>\n",
       "      <td>0.0</td>\n",
       "      <td>0.0</td>\n",
       "    </tr>\n",
       "    <tr>\n",
       "      <th>4</th>\n",
       "      <td>0.40</td>\n",
       "      <td>0.0</td>\n",
       "      <td>0.0</td>\n",
       "      <td>0.0</td>\n",
       "      <td>0.0</td>\n",
       "      <td>0.0</td>\n",
       "      <td>0.0</td>\n",
       "      <td>0.0</td>\n",
       "      <td>0.0</td>\n",
       "      <td>-0.042564</td>\n",
       "      <td>...</td>\n",
       "      <td>0.0</td>\n",
       "      <td>0.0</td>\n",
       "      <td>0.0</td>\n",
       "      <td>0.0</td>\n",
       "      <td>0.0</td>\n",
       "      <td>0.0</td>\n",
       "      <td>0.0</td>\n",
       "      <td>0.0</td>\n",
       "      <td>1.0</td>\n",
       "      <td>-1.0</td>\n",
       "    </tr>\n",
       "  </tbody>\n",
       "</table>\n",
       "<p>5 rows × 102 columns</p>\n",
       "</div>"
      ],
      "text/plain": [
       "    age workclass_1 workclass_2 workclass_3 workclass_4 workclass_5  \\\n",
       "0 -0.50         0.0         0.0         0.0         0.0         0.0   \n",
       "1 -0.50         0.0         0.0         0.0         0.0         0.0   \n",
       "2 -0.60         0.0         0.0         0.0         0.0         0.0   \n",
       "3  0.45         0.0         0.0         0.0         0.0         0.0   \n",
       "4  0.40         0.0         0.0         0.0         0.0         0.0   \n",
       "\n",
       "  workclass_6 workclass_7 workclass_8    fnlwgt  ... native_country_34  \\\n",
       "0         0.0         0.0         0.0 -0.006571  ...               0.0   \n",
       "1         0.0         0.0         0.0  0.323136  ...               0.0   \n",
       "2         0.0         0.0         0.0  0.656361  ...               0.0   \n",
       "3         0.0         0.0         0.0 -0.253496  ...               0.0   \n",
       "4         0.0         0.0         0.0 -0.042564  ...               0.0   \n",
       "\n",
       "  native_country_35 native_country_36 native_country_37 native_country_38  \\\n",
       "0               0.0               0.0               0.0               0.0   \n",
       "1               0.0               0.0               0.0               0.0   \n",
       "2               0.0               0.0               0.0               0.0   \n",
       "3               0.0               0.0               0.0               0.0   \n",
       "4               0.0               0.0               0.0               0.0   \n",
       "\n",
       "  native_country_39 native_country_40 native_country_41 income_1 income_2  \n",
       "0               0.0               0.0               0.0      0.0      0.0  \n",
       "1               0.0               0.0               0.0      0.0      0.0  \n",
       "2               0.0               0.0               0.0      0.0      0.0  \n",
       "3               0.0               0.0               0.0      0.0      0.0  \n",
       "4               0.0               0.0               0.0      1.0     -1.0  \n",
       "\n",
       "[5 rows x 102 columns]"
      ]
     },
     "execution_count": 16,
>>>>>>> 613d06eb3e33992cd34cd38a1e6243bd1cb5e3d7
     "metadata": {},
     "output_type": "execute_result"
    }
   ],
   "source": [
<<<<<<< HEAD
    "X_train.isnull().sum()"
=======
    "X_test.head()"
>>>>>>> 613d06eb3e33992cd34cd38a1e6243bd1cb5e3d7
   ]
  },
  {
   "cell_type": "code",
<<<<<<< HEAD
   "execution_count": 18,
   "metadata": {},
   "outputs": [
    {
     "data": {
      "text/plain": [
       "age               0\n",
       "workclass         0\n",
       "fnlwgt            0\n",
       "education         0\n",
       "education_num     0\n",
       "marital_status    0\n",
       "occupation        0\n",
       "relationship      0\n",
       "race              0\n",
       "sex               0\n",
       "capital_gain      0\n",
       "capital_loss      0\n",
       "hours_per_week    0\n",
       "native_country    0\n",
       "dtype: int64"
      ]
     },
     "execution_count": 18,
     "metadata": {},
     "output_type": "execute_result"
    }
   ],
   "source": [
    "X_test.isnull().sum()"
=======
   "execution_count": 17,
   "metadata": {},
   "outputs": [
    {
     "name": "stdout",
     "output_type": "stream",
     "text": [
      "Dokładność zbioru uczącego: 67.63%\n",
      "Dokładność zbioru testowego, czyli dokładność modelu: 67.21000000000001%\n",
      "Dokładność wybierania najczęstszej wartości: 85.86%\n"
     ]
    }
   ],
   "source": [
    "# Inicjalizacja naiwnego klasyfikatora bayesowskiego\n",
    "gnb = GaussianNB()\n",
    "\n",
    "# Klasyfikacja\n",
    "gnb.fit(X_train, y_train)\n",
    "y_pred = gnb.predict(X_test)\n",
    "\n",
    "# Dokładności\n",
    "print(f\"Dokładność zbioru uczącego: {round(gnb.score(X_train, y_train), 4) * 100}%\")\n",
    "print(f\"Dokładność zbioru testowego, czyli dokładność modelu: {round(gnb.score(X_test, y_test), 4) * 100}%\")\n",
    "vals = list(y_test.value_counts())\n",
    "print(f\"Dokładność wybierania najczęstszej wartości: {round(max(vals) / sum(vals), 4) * 100}%\")"
>>>>>>> 613d06eb3e33992cd34cd38a1e6243bd1cb5e3d7
   ]
  },
  {
   "cell_type": "markdown",
   "metadata": {},
   "source": [
    "*Dokładności są stosunkowo wysokie, zatem można uznać, że nasz naiwny klasyfikator bayesowski będzie klasyfikował z zadowalającą efektywnością.*"
   ]
  },
  {
   "cell_type": "code",
<<<<<<< HEAD
   "execution_count": 19,
   "metadata": {},
   "outputs": [
    {
     "name": "stderr",
     "output_type": "stream",
     "text": [
      "/home/user/anaconda3/envs/arturmzyk/lib/python3.9/site-packages/category_encoders/utils.py:21: FutureWarning: is_categorical is deprecated and will be removed in a future version.  Use is_categorical_dtype instead\n",
      "  elif pd.api.types.is_categorical(cols):\n"
     ]
    },
    {
     "name": "stdout",
     "output_type": "stream",
     "text": [
      "Wymiar zbioru uczącego: (22792, 105)\n",
      "Wymiar zbioru testowego: (9769, 105)\n"
     ]
    }
   ],
   "source": [
    "encoder = ce.OneHotEncoder()\n",
    "X_train = encoder.fit_transform(X_train)\n",
    "X_test = encoder.transform(X_test)\n",
    "print(f\"Wymiar zbioru uczącego: {X_train.shape}\")\n",
    "print(f\"Wymiar zbioru testowego: {X_test.shape}\")"
=======
   "execution_count": 18,
   "metadata": {},
   "outputs": [
    {
     "name": "stdout",
     "output_type": "stream",
     "text": [
      "Tablica pomyłek:\n",
      "[[   6    0   27    2   45]\n",
      " [   5  163   40    5  105]\n",
      " [  20    4  476    7  404]\n",
      " [   1    3   14   21   33]\n",
      " [ 164   50 2036  238 5900]]\n",
      "\n",
      "Dokładność klasyfikacji: 67.21000000000001%\n"
     ]
    },
    {
     "data": {
      "image/png": "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\n",
      "text/plain": [
       "<Figure size 432x288 with 2 Axes>"
      ]
     },
     "metadata": {
      "needs_background": "light"
     },
     "output_type": "display_data"
    }
   ],
   "source": [
    "cm = confusion_matrix(y_test, y_pred)\n",
    "print(f\"Tablica pomyłek:\\n{cm}\\n\")\n",
    "\n",
    "diag_sum = 0\n",
    "mat_sum = 0\n",
    "\n",
    "for i in range(cm.shape[0]):\n",
    "    for j in range(cm.shape[1]):\n",
    "        if i == j:\n",
    "            diag_sum += cm[i, j]\n",
    "            \n",
    "        mat_sum += cm[i, j]\n",
    "\n",
    "print(f\"Dokładność klasyfikacji: {round(diag_sum / mat_sum, 4) * 100}%\")\n",
    "\n",
    "cm_cols = list(y_test.unique())\n",
    "cm_matrix = pd.DataFrame(data=cm, columns=cm_cols, index=cm_cols)\n",
    "sns.heatmap(cm_matrix, annot=True, fmt='d', cmap=\"YlGnBu\")\n",
    "plt.show()"
   ]
  },
  {
   "cell_type": "markdown",
   "metadata": {},
   "source": [
    "*Dokładność klasyfikacji to 67%, co jest dość zadowalającym wynikiem, ale znacznie gorszym niż w poprzednim podpunkcie. Wady tego modelu widać w tablicy pomyłek.*\n",
    "\n",
    "*Zwróćmy uwagę na elementy na przekątnej. Jedyna wysoka wartość występuje dla klasy \"Other\", zatem model rzadko poprawnie klasyfikuje, że dany obiekt jest rzeczywiście obiektem jego faktycznej klasy. Model potrafi dobrze klasyfikować klasę \"Other\", gdyż jest to klasa o szeroko pojętych cechach, bowiem należą do niej wszystkie obiekty, które nie kwalifikują się do żadnej z pozostałych klas. W praktyce informacja o tym, że obiekt należy do klasy \"Other\", niewiele nam daje.*\n",
    "\n",
    "*Warto również zauważyć, że za obiekt klasy \"Black\" model częściej uznaje obiekt klasy \"Other\" niż faktyczny obiekt klasy \"Black\". Może to wynikać z faktu, że klasa \"Black\" ma mało cech wspólnych z pozostałymi klasami i dlatego czasem obiekt klasy \"Black\" jest mylnie określany jako obiekt klasy \"Other\".*"
   ]
  },
  {
   "cell_type": "markdown",
   "metadata": {},
   "source": [
    "### Zmienna \"native_country\""
>>>>>>> 613d06eb3e33992cd34cd38a1e6243bd1cb5e3d7
   ]
  },
  {
   "cell_type": "code",
<<<<<<< HEAD
   "execution_count": 20,
   "metadata": {},
   "outputs": [
    {
     "data": {
      "text/html": [
       "<div>\n",
       "<style scoped>\n",
       "    .dataframe tbody tr th:only-of-type {\n",
       "        vertical-align: middle;\n",
       "    }\n",
       "\n",
       "    .dataframe tbody tr th {\n",
       "        vertical-align: top;\n",
       "    }\n",
       "\n",
       "    .dataframe thead th {\n",
       "        text-align: right;\n",
       "    }\n",
       "</style>\n",
       "<table border=\"1\" class=\"dataframe\">\n",
       "  <thead>\n",
       "    <tr style=\"text-align: right;\">\n",
       "      <th></th>\n",
       "      <th>age</th>\n",
       "      <th>workclass_1</th>\n",
       "      <th>workclass_2</th>\n",
       "      <th>workclass_3</th>\n",
       "      <th>workclass_4</th>\n",
       "      <th>workclass_5</th>\n",
       "      <th>workclass_6</th>\n",
       "      <th>workclass_7</th>\n",
       "      <th>workclass_8</th>\n",
       "      <th>fnlwgt</th>\n",
       "      <th>...</th>\n",
       "      <th>native_country_32</th>\n",
       "      <th>native_country_33</th>\n",
       "      <th>native_country_34</th>\n",
       "      <th>native_country_35</th>\n",
       "      <th>native_country_36</th>\n",
       "      <th>native_country_37</th>\n",
       "      <th>native_country_38</th>\n",
       "      <th>native_country_39</th>\n",
       "      <th>native_country_40</th>\n",
       "      <th>native_country_41</th>\n",
       "    </tr>\n",
       "  </thead>\n",
       "  <tbody>\n",
       "    <tr>\n",
       "      <th>32098</th>\n",
       "      <td>45</td>\n",
       "      <td>1</td>\n",
       "      <td>0</td>\n",
       "      <td>0</td>\n",
       "      <td>0</td>\n",
       "      <td>0</td>\n",
       "      <td>0</td>\n",
       "      <td>0</td>\n",
       "      <td>0</td>\n",
       "      <td>170871</td>\n",
       "      <td>...</td>\n",
       "      <td>0</td>\n",
       "      <td>0</td>\n",
       "      <td>0</td>\n",
       "      <td>0</td>\n",
       "      <td>0</td>\n",
       "      <td>0</td>\n",
       "      <td>0</td>\n",
       "      <td>0</td>\n",
       "      <td>0</td>\n",
       "      <td>0</td>\n",
       "    </tr>\n",
       "    <tr>\n",
       "      <th>25206</th>\n",
       "      <td>47</td>\n",
       "      <td>0</td>\n",
       "      <td>1</td>\n",
       "      <td>0</td>\n",
       "      <td>0</td>\n",
       "      <td>0</td>\n",
       "      <td>0</td>\n",
       "      <td>0</td>\n",
       "      <td>0</td>\n",
       "      <td>108890</td>\n",
       "      <td>...</td>\n",
       "      <td>0</td>\n",
       "      <td>0</td>\n",
       "      <td>0</td>\n",
       "      <td>0</td>\n",
       "      <td>0</td>\n",
       "      <td>0</td>\n",
       "      <td>0</td>\n",
       "      <td>0</td>\n",
       "      <td>0</td>\n",
       "      <td>0</td>\n",
       "    </tr>\n",
       "    <tr>\n",
       "      <th>23491</th>\n",
       "      <td>48</td>\n",
       "      <td>1</td>\n",
       "      <td>0</td>\n",
       "      <td>0</td>\n",
       "      <td>0</td>\n",
       "      <td>0</td>\n",
       "      <td>0</td>\n",
       "      <td>0</td>\n",
       "      <td>0</td>\n",
       "      <td>187505</td>\n",
       "      <td>...</td>\n",
       "      <td>0</td>\n",
       "      <td>0</td>\n",
       "      <td>0</td>\n",
       "      <td>0</td>\n",
       "      <td>0</td>\n",
       "      <td>0</td>\n",
       "      <td>0</td>\n",
       "      <td>0</td>\n",
       "      <td>0</td>\n",
       "      <td>0</td>\n",
       "    </tr>\n",
       "    <tr>\n",
       "      <th>12367</th>\n",
       "      <td>29</td>\n",
       "      <td>1</td>\n",
       "      <td>0</td>\n",
       "      <td>0</td>\n",
       "      <td>0</td>\n",
       "      <td>0</td>\n",
       "      <td>0</td>\n",
       "      <td>0</td>\n",
       "      <td>0</td>\n",
       "      <td>145592</td>\n",
       "      <td>...</td>\n",
       "      <td>0</td>\n",
       "      <td>0</td>\n",
       "      <td>0</td>\n",
       "      <td>0</td>\n",
       "      <td>0</td>\n",
       "      <td>0</td>\n",
       "      <td>0</td>\n",
       "      <td>0</td>\n",
       "      <td>0</td>\n",
       "      <td>0</td>\n",
       "    </tr>\n",
       "    <tr>\n",
       "      <th>7054</th>\n",
       "      <td>23</td>\n",
       "      <td>1</td>\n",
       "      <td>0</td>\n",
       "      <td>0</td>\n",
       "      <td>0</td>\n",
       "      <td>0</td>\n",
       "      <td>0</td>\n",
       "      <td>0</td>\n",
       "      <td>0</td>\n",
       "      <td>203003</td>\n",
       "      <td>...</td>\n",
       "      <td>0</td>\n",
       "      <td>0</td>\n",
       "      <td>0</td>\n",
       "      <td>0</td>\n",
       "      <td>0</td>\n",
       "      <td>0</td>\n",
       "      <td>0</td>\n",
       "      <td>0</td>\n",
       "      <td>0</td>\n",
       "      <td>0</td>\n",
       "    </tr>\n",
       "  </tbody>\n",
       "</table>\n",
       "<p>5 rows × 105 columns</p>\n",
       "</div>"
      ],
      "text/plain": [
       "       age  workclass_1  workclass_2  workclass_3  workclass_4  workclass_5  \\\n",
       "32098   45            1            0            0            0            0   \n",
       "25206   47            0            1            0            0            0   \n",
       "23491   48            1            0            0            0            0   \n",
       "12367   29            1            0            0            0            0   \n",
       "7054    23            1            0            0            0            0   \n",
       "\n",
       "       workclass_6  workclass_7  workclass_8  fnlwgt  ...  native_country_32  \\\n",
       "32098            0            0            0  170871  ...                  0   \n",
       "25206            0            0            0  108890  ...                  0   \n",
       "23491            0            0            0  187505  ...                  0   \n",
       "12367            0            0            0  145592  ...                  0   \n",
       "7054             0            0            0  203003  ...                  0   \n",
       "\n",
       "       native_country_33  native_country_34  native_country_35  \\\n",
       "32098                  0                  0                  0   \n",
       "25206                  0                  0                  0   \n",
       "23491                  0                  0                  0   \n",
       "12367                  0                  0                  0   \n",
       "7054                   0                  0                  0   \n",
       "\n",
       "       native_country_36  native_country_37  native_country_38  \\\n",
       "32098                  0                  0                  0   \n",
       "25206                  0                  0                  0   \n",
       "23491                  0                  0                  0   \n",
       "12367                  0                  0                  0   \n",
       "7054                   0                  0                  0   \n",
       "\n",
       "       native_country_39  native_country_40  native_country_41  \n",
       "32098                  0                  0                  0  \n",
       "25206                  0                  0                  0  \n",
       "23491                  0                  0                  0  \n",
       "12367                  0                  0                  0  \n",
       "7054                   0                  0                  0  \n",
       "\n",
       "[5 rows x 105 columns]"
      ]
     },
     "execution_count": 20,
     "metadata": {},
     "output_type": "execute_result"
    }
   ],
   "source": [
    "X_train.head()"
   ]
  },
  {
   "cell_type": "code",
   "execution_count": 21,
   "metadata": {},
   "outputs": [
    {
     "data": {
      "text/html": [
       "<div>\n",
       "<style scoped>\n",
       "    .dataframe tbody tr th:only-of-type {\n",
       "        vertical-align: middle;\n",
       "    }\n",
       "\n",
       "    .dataframe tbody tr th {\n",
       "        vertical-align: top;\n",
       "    }\n",
       "\n",
       "    .dataframe thead th {\n",
       "        text-align: right;\n",
       "    }\n",
       "</style>\n",
       "<table border=\"1\" class=\"dataframe\">\n",
       "  <thead>\n",
       "    <tr style=\"text-align: right;\">\n",
       "      <th></th>\n",
       "      <th>age</th>\n",
       "      <th>workclass_1</th>\n",
       "      <th>workclass_2</th>\n",
       "      <th>workclass_3</th>\n",
       "      <th>workclass_4</th>\n",
       "      <th>workclass_5</th>\n",
       "      <th>workclass_6</th>\n",
       "      <th>workclass_7</th>\n",
       "      <th>workclass_8</th>\n",
       "      <th>fnlwgt</th>\n",
       "      <th>...</th>\n",
       "      <th>native_country_32</th>\n",
       "      <th>native_country_33</th>\n",
       "      <th>native_country_34</th>\n",
       "      <th>native_country_35</th>\n",
       "      <th>native_country_36</th>\n",
       "      <th>native_country_37</th>\n",
       "      <th>native_country_38</th>\n",
       "      <th>native_country_39</th>\n",
       "      <th>native_country_40</th>\n",
       "      <th>native_country_41</th>\n",
       "    </tr>\n",
       "  </thead>\n",
       "  <tbody>\n",
       "    <tr>\n",
       "      <th>22278</th>\n",
       "      <td>27</td>\n",
       "      <td>1</td>\n",
       "      <td>0</td>\n",
       "      <td>0</td>\n",
       "      <td>0</td>\n",
       "      <td>0</td>\n",
       "      <td>0</td>\n",
       "      <td>0</td>\n",
       "      <td>0</td>\n",
       "      <td>177119</td>\n",
       "      <td>...</td>\n",
       "      <td>0</td>\n",
       "      <td>0</td>\n",
       "      <td>0</td>\n",
       "      <td>0</td>\n",
       "      <td>0</td>\n",
       "      <td>0</td>\n",
       "      <td>0</td>\n",
       "      <td>0</td>\n",
       "      <td>0</td>\n",
       "      <td>0</td>\n",
       "    </tr>\n",
       "    <tr>\n",
       "      <th>8950</th>\n",
       "      <td>27</td>\n",
       "      <td>1</td>\n",
       "      <td>0</td>\n",
       "      <td>0</td>\n",
       "      <td>0</td>\n",
       "      <td>0</td>\n",
       "      <td>0</td>\n",
       "      <td>0</td>\n",
       "      <td>0</td>\n",
       "      <td>216481</td>\n",
       "      <td>...</td>\n",
       "      <td>0</td>\n",
       "      <td>0</td>\n",
       "      <td>0</td>\n",
       "      <td>0</td>\n",
       "      <td>0</td>\n",
       "      <td>0</td>\n",
       "      <td>0</td>\n",
       "      <td>0</td>\n",
       "      <td>0</td>\n",
       "      <td>0</td>\n",
       "    </tr>\n",
       "    <tr>\n",
       "      <th>7838</th>\n",
       "      <td>25</td>\n",
       "      <td>1</td>\n",
       "      <td>0</td>\n",
       "      <td>0</td>\n",
       "      <td>0</td>\n",
       "      <td>0</td>\n",
       "      <td>0</td>\n",
       "      <td>0</td>\n",
       "      <td>0</td>\n",
       "      <td>256263</td>\n",
       "      <td>...</td>\n",
       "      <td>0</td>\n",
       "      <td>0</td>\n",
       "      <td>0</td>\n",
       "      <td>0</td>\n",
       "      <td>0</td>\n",
       "      <td>0</td>\n",
       "      <td>0</td>\n",
       "      <td>0</td>\n",
       "      <td>0</td>\n",
       "      <td>0</td>\n",
       "    </tr>\n",
       "    <tr>\n",
       "      <th>16505</th>\n",
       "      <td>46</td>\n",
       "      <td>1</td>\n",
       "      <td>0</td>\n",
       "      <td>0</td>\n",
       "      <td>0</td>\n",
       "      <td>0</td>\n",
       "      <td>0</td>\n",
       "      <td>0</td>\n",
       "      <td>0</td>\n",
       "      <td>147640</td>\n",
       "      <td>...</td>\n",
       "      <td>0</td>\n",
       "      <td>0</td>\n",
       "      <td>0</td>\n",
       "      <td>0</td>\n",
       "      <td>0</td>\n",
       "      <td>0</td>\n",
       "      <td>0</td>\n",
       "      <td>0</td>\n",
       "      <td>0</td>\n",
       "      <td>0</td>\n",
       "    </tr>\n",
       "    <tr>\n",
       "      <th>19140</th>\n",
       "      <td>45</td>\n",
       "      <td>1</td>\n",
       "      <td>0</td>\n",
       "      <td>0</td>\n",
       "      <td>0</td>\n",
       "      <td>0</td>\n",
       "      <td>0</td>\n",
       "      <td>0</td>\n",
       "      <td>0</td>\n",
       "      <td>172822</td>\n",
       "      <td>...</td>\n",
       "      <td>0</td>\n",
       "      <td>0</td>\n",
       "      <td>0</td>\n",
       "      <td>0</td>\n",
       "      <td>0</td>\n",
       "      <td>0</td>\n",
       "      <td>0</td>\n",
       "      <td>0</td>\n",
       "      <td>0</td>\n",
       "      <td>0</td>\n",
       "    </tr>\n",
       "  </tbody>\n",
       "</table>\n",
       "<p>5 rows × 105 columns</p>\n",
       "</div>"
      ],
      "text/plain": [
       "       age  workclass_1  workclass_2  workclass_3  workclass_4  workclass_5  \\\n",
       "22278   27            1            0            0            0            0   \n",
       "8950    27            1            0            0            0            0   \n",
       "7838    25            1            0            0            0            0   \n",
       "16505   46            1            0            0            0            0   \n",
       "19140   45            1            0            0            0            0   \n",
       "\n",
       "       workclass_6  workclass_7  workclass_8  fnlwgt  ...  native_country_32  \\\n",
       "22278            0            0            0  177119  ...                  0   \n",
       "8950             0            0            0  216481  ...                  0   \n",
       "7838             0            0            0  256263  ...                  0   \n",
       "16505            0            0            0  147640  ...                  0   \n",
       "19140            0            0            0  172822  ...                  0   \n",
       "\n",
       "       native_country_33  native_country_34  native_country_35  \\\n",
       "22278                  0                  0                  0   \n",
       "8950                   0                  0                  0   \n",
       "7838                   0                  0                  0   \n",
       "16505                  0                  0                  0   \n",
       "19140                  0                  0                  0   \n",
       "\n",
       "       native_country_36  native_country_37  native_country_38  \\\n",
       "22278                  0                  0                  0   \n",
       "8950                   0                  0                  0   \n",
       "7838                   0                  0                  0   \n",
       "16505                  0                  0                  0   \n",
       "19140                  0                  0                  0   \n",
       "\n",
       "       native_country_39  native_country_40  native_country_41  \n",
       "22278                  0                  0                  0  \n",
       "8950                   0                  0                  0  \n",
       "7838                   0                  0                  0  \n",
       "16505                  0                  0                  0  \n",
       "19140                  0                  0                  0  \n",
       "\n",
       "[5 rows x 105 columns]"
      ]
     },
     "execution_count": 21,
     "metadata": {},
     "output_type": "execute_result"
    }
   ],
   "source": [
    "X_test.head()"
   ]
  },
  {
   "cell_type": "markdown",
   "metadata": {},
   "source": [
    "Warto jeszcze przeprowadzić skalowanie."
   ]
  },
  {
   "cell_type": "code",
   "execution_count": 22,
   "metadata": {},
   "outputs": [],
   "source": [
=======
   "execution_count": 19,
   "metadata": {},
   "outputs": [],
   "source": [
    "# Usuwamy rekordy, dla których pojawia się wartość NaN w kolumnie zmiennej zależnej, czyli \"native_country\"\n",
    "cleaned_data = df[df[\"native_country\"].notna()]\n",
    "X = cleaned_data.drop([\"native_country\"], axis=1)\n",
    "y = cleaned_data[\"native_country\"]\n",
    "X_train, X_test, y_train, y_test = train_test_split(X, y, test_size=0.3, random_state=0)\n",
    "\n",
    "# Wypełniamy brakujące dane najczęściej występującymi wartościami ze zbioru uczącego\n",
    "for df_X in [X_train, X_test]:\n",
    "    for col in [\"workclass\", \"occupation\"]:\n",
    "        df_X[col].fillna(X_train[col].mode()[0], inplace=True)\n",
    "        \n",
    "# Przeprowadzamy kodowanie\n",
    "encoder = ce.OneHotEncoder()\n",
    "X_train = encoder.fit_transform(X_train)\n",
    "X_test = encoder.transform(X_test)\n",
    "\n",
    "# Przeprowadzamy skalowanie\n",
>>>>>>> 613d06eb3e33992cd34cd38a1e6243bd1cb5e3d7
    "cols = X_train.columns\n",
    "scaler = RobustScaler()\n",
    "X_train = scaler.fit_transform(X_train)\n",
    "X_test = scaler.transform(X_test)\n",
    "X_train = pd.DataFrame(X_train, columns=[cols])\n",
    "X_test = pd.DataFrame(X_test, columns=[cols])"
   ]
  },
  {
   "cell_type": "code",
<<<<<<< HEAD
   "execution_count": 23,
=======
   "execution_count": 20,
>>>>>>> 613d06eb3e33992cd34cd38a1e6243bd1cb5e3d7
   "metadata": {},
   "outputs": [
    {
     "data": {
      "text/html": [
       "<div>\n",
       "<style scoped>\n",
       "    .dataframe tbody tr th:only-of-type {\n",
       "        vertical-align: middle;\n",
       "    }\n",
       "\n",
       "    .dataframe tbody tr th {\n",
       "        vertical-align: top;\n",
       "    }\n",
       "\n",
       "    .dataframe thead tr th {\n",
       "        text-align: left;\n",
       "    }\n",
       "</style>\n",
       "<table border=\"1\" class=\"dataframe\">\n",
       "  <thead>\n",
       "    <tr>\n",
       "      <th></th>\n",
       "      <th>age</th>\n",
       "      <th>workclass_1</th>\n",
       "      <th>workclass_2</th>\n",
       "      <th>workclass_3</th>\n",
       "      <th>workclass_4</th>\n",
       "      <th>workclass_5</th>\n",
       "      <th>workclass_6</th>\n",
       "      <th>workclass_7</th>\n",
       "      <th>workclass_8</th>\n",
       "      <th>fnlwgt</th>\n",
       "      <th>...</th>\n",
<<<<<<< HEAD
       "      <th>native_country_32</th>\n",
       "      <th>native_country_33</th>\n",
       "      <th>native_country_34</th>\n",
       "      <th>native_country_35</th>\n",
       "      <th>native_country_36</th>\n",
       "      <th>native_country_37</th>\n",
       "      <th>native_country_38</th>\n",
       "      <th>native_country_39</th>\n",
       "      <th>native_country_40</th>\n",
       "      <th>native_country_41</th>\n",
=======
       "      <th>race_3</th>\n",
       "      <th>race_4</th>\n",
       "      <th>race_5</th>\n",
       "      <th>sex_1</th>\n",
       "      <th>sex_2</th>\n",
       "      <th>capital_gain</th>\n",
       "      <th>capital_loss</th>\n",
       "      <th>hours_per_week</th>\n",
       "      <th>income_1</th>\n",
       "      <th>income_2</th>\n",
>>>>>>> 613d06eb3e33992cd34cd38a1e6243bd1cb5e3d7
       "    </tr>\n",
       "  </thead>\n",
       "  <tbody>\n",
       "    <tr>\n",
       "      <th>0</th>\n",
<<<<<<< HEAD
       "      <td>0.40</td>\n",
       "      <td>0.0</td>\n",
       "      <td>0.0</td>\n",
=======
       "      <td>-0.25</td>\n",
       "      <td>1.0</td>\n",
       "      <td>-1.0</td>\n",
>>>>>>> 613d06eb3e33992cd34cd38a1e6243bd1cb5e3d7
       "      <td>0.0</td>\n",
       "      <td>0.0</td>\n",
       "      <td>0.0</td>\n",
       "      <td>0.0</td>\n",
       "      <td>0.0</td>\n",
       "      <td>0.0</td>\n",
<<<<<<< HEAD
       "      <td>-0.058906</td>\n",
=======
       "      <td>1.740932</td>\n",
>>>>>>> 613d06eb3e33992cd34cd38a1e6243bd1cb5e3d7
       "      <td>...</td>\n",
       "      <td>0.0</td>\n",
       "      <td>0.0</td>\n",
       "      <td>0.0</td>\n",
       "      <td>0.0</td>\n",
       "      <td>0.0</td>\n",
<<<<<<< HEAD
       "      <td>0.0</td>\n",
=======
       "      <td>4650.0</td>\n",
>>>>>>> 613d06eb3e33992cd34cd38a1e6243bd1cb5e3d7
       "      <td>0.0</td>\n",
       "      <td>0.0</td>\n",
       "      <td>0.0</td>\n",
       "      <td>0.0</td>\n",
       "    </tr>\n",
       "    <tr>\n",
       "      <th>1</th>\n",
<<<<<<< HEAD
       "      <td>0.50</td>\n",
       "      <td>-1.0</td>\n",
       "      <td>1.0</td>\n",
=======
       "      <td>-0.85</td>\n",
>>>>>>> 613d06eb3e33992cd34cd38a1e6243bd1cb5e3d7
       "      <td>0.0</td>\n",
       "      <td>0.0</td>\n",
       "      <td>0.0</td>\n",
       "      <td>0.0</td>\n",
       "      <td>0.0</td>\n",
       "      <td>0.0</td>\n",
<<<<<<< HEAD
       "      <td>-0.578076</td>\n",
       "      <td>...</td>\n",
       "      <td>0.0</td>\n",
       "      <td>0.0</td>\n",
       "      <td>0.0</td>\n",
       "      <td>0.0</td>\n",
       "      <td>0.0</td>\n",
       "      <td>0.0</td>\n",
       "      <td>0.0</td>\n",
       "      <td>0.0</td>\n",
=======
       "      <td>0.0</td>\n",
       "      <td>0.0</td>\n",
       "      <td>0.051992</td>\n",
       "      <td>...</td>\n",
       "      <td>0.0</td>\n",
       "      <td>0.0</td>\n",
       "      <td>0.0</td>\n",
       "      <td>-1.0</td>\n",
       "      <td>1.0</td>\n",
       "      <td>0.0</td>\n",
       "      <td>0.0</td>\n",
       "      <td>-5.6</td>\n",
>>>>>>> 613d06eb3e33992cd34cd38a1e6243bd1cb5e3d7
       "      <td>0.0</td>\n",
       "      <td>0.0</td>\n",
       "    </tr>\n",
       "    <tr>\n",
       "      <th>2</th>\n",
<<<<<<< HEAD
       "      <td>0.55</td>\n",
=======
       "      <td>-0.65</td>\n",
>>>>>>> 613d06eb3e33992cd34cd38a1e6243bd1cb5e3d7
       "      <td>0.0</td>\n",
       "      <td>0.0</td>\n",
       "      <td>0.0</td>\n",
       "      <td>0.0</td>\n",
       "      <td>0.0</td>\n",
       "      <td>0.0</td>\n",
       "      <td>0.0</td>\n",
       "      <td>0.0</td>\n",
<<<<<<< HEAD
       "      <td>0.080425</td>\n",
=======
       "      <td>2.024220</td>\n",
>>>>>>> 613d06eb3e33992cd34cd38a1e6243bd1cb5e3d7
       "      <td>...</td>\n",
       "      <td>0.0</td>\n",
       "      <td>0.0</td>\n",
       "      <td>0.0</td>\n",
       "      <td>0.0</td>\n",
       "      <td>0.0</td>\n",
       "      <td>0.0</td>\n",
       "      <td>0.0</td>\n",
<<<<<<< HEAD
       "      <td>0.0</td>\n",
=======
       "      <td>-1.0</td>\n",
>>>>>>> 613d06eb3e33992cd34cd38a1e6243bd1cb5e3d7
       "      <td>0.0</td>\n",
       "      <td>0.0</td>\n",
       "    </tr>\n",
       "    <tr>\n",
       "      <th>3</th>\n",
<<<<<<< HEAD
       "      <td>-0.40</td>\n",
=======
       "      <td>0.10</td>\n",
>>>>>>> 613d06eb3e33992cd34cd38a1e6243bd1cb5e3d7
       "      <td>0.0</td>\n",
       "      <td>0.0</td>\n",
       "      <td>0.0</td>\n",
       "      <td>0.0</td>\n",
       "      <td>0.0</td>\n",
       "      <td>0.0</td>\n",
       "      <td>0.0</td>\n",
       "      <td>0.0</td>\n",
<<<<<<< HEAD
       "      <td>-0.270650</td>\n",
       "      <td>...</td>\n",
       "      <td>0.0</td>\n",
       "      <td>0.0</td>\n",
       "      <td>0.0</td>\n",
       "      <td>0.0</td>\n",
       "      <td>0.0</td>\n",
       "      <td>0.0</td>\n",
       "      <td>0.0</td>\n",
       "      <td>0.0</td>\n",
=======
       "      <td>1.030581</td>\n",
       "      <td>...</td>\n",
       "      <td>1.0</td>\n",
       "      <td>0.0</td>\n",
       "      <td>0.0</td>\n",
       "      <td>-1.0</td>\n",
       "      <td>1.0</td>\n",
       "      <td>0.0</td>\n",
       "      <td>0.0</td>\n",
       "      <td>-3.2</td>\n",
>>>>>>> 613d06eb3e33992cd34cd38a1e6243bd1cb5e3d7
       "      <td>0.0</td>\n",
       "      <td>0.0</td>\n",
       "    </tr>\n",
       "    <tr>\n",
       "      <th>4</th>\n",
<<<<<<< HEAD
       "      <td>-0.70</td>\n",
=======
       "      <td>0.10</td>\n",
>>>>>>> 613d06eb3e33992cd34cd38a1e6243bd1cb5e3d7
       "      <td>0.0</td>\n",
       "      <td>0.0</td>\n",
       "      <td>0.0</td>\n",
       "      <td>0.0</td>\n",
       "      <td>0.0</td>\n",
       "      <td>0.0</td>\n",
       "      <td>0.0</td>\n",
       "      <td>0.0</td>\n",
<<<<<<< HEAD
       "      <td>0.210240</td>\n",
=======
       "      <td>-0.407526</td>\n",
>>>>>>> 613d06eb3e33992cd34cd38a1e6243bd1cb5e3d7
       "      <td>...</td>\n",
       "      <td>0.0</td>\n",
       "      <td>0.0</td>\n",
       "      <td>0.0</td>\n",
       "      <td>0.0</td>\n",
       "      <td>0.0</td>\n",
       "      <td>0.0</td>\n",
       "      <td>0.0</td>\n",
       "      <td>0.0</td>\n",
       "      <td>0.0</td>\n",
       "      <td>0.0</td>\n",
       "    </tr>\n",
       "  </tbody>\n",
       "</table>\n",
<<<<<<< HEAD
       "<p>5 rows × 105 columns</p>\n",
=======
       "<p>5 rows × 66 columns</p>\n",
>>>>>>> 613d06eb3e33992cd34cd38a1e6243bd1cb5e3d7
       "</div>"
      ],
      "text/plain": [
       "    age workclass_1 workclass_2 workclass_3 workclass_4 workclass_5  \\\n",
<<<<<<< HEAD
       "0  0.40         0.0         0.0         0.0         0.0         0.0   \n",
       "1  0.50        -1.0         1.0         0.0         0.0         0.0   \n",
       "2  0.55         0.0         0.0         0.0         0.0         0.0   \n",
       "3 -0.40         0.0         0.0         0.0         0.0         0.0   \n",
       "4 -0.70         0.0         0.0         0.0         0.0         0.0   \n",
       "\n",
       "  workclass_6 workclass_7 workclass_8    fnlwgt  ... native_country_32  \\\n",
       "0         0.0         0.0         0.0 -0.058906  ...               0.0   \n",
       "1         0.0         0.0         0.0 -0.578076  ...               0.0   \n",
       "2         0.0         0.0         0.0  0.080425  ...               0.0   \n",
       "3         0.0         0.0         0.0 -0.270650  ...               0.0   \n",
       "4         0.0         0.0         0.0  0.210240  ...               0.0   \n",
       "\n",
       "  native_country_33 native_country_34 native_country_35 native_country_36  \\\n",
       "0               0.0               0.0               0.0               0.0   \n",
       "1               0.0               0.0               0.0               0.0   \n",
       "2               0.0               0.0               0.0               0.0   \n",
       "3               0.0               0.0               0.0               0.0   \n",
       "4               0.0               0.0               0.0               0.0   \n",
       "\n",
       "  native_country_37 native_country_38 native_country_39 native_country_40  \\\n",
       "0               0.0               0.0               0.0               0.0   \n",
       "1               0.0               0.0               0.0               0.0   \n",
       "2               0.0               0.0               0.0               0.0   \n",
       "3               0.0               0.0               0.0               0.0   \n",
       "4               0.0               0.0               0.0               0.0   \n",
       "\n",
       "  native_country_41  \n",
       "0               0.0  \n",
       "1               0.0  \n",
       "2               0.0  \n",
       "3               0.0  \n",
       "4               0.0  \n",
       "\n",
       "[5 rows x 105 columns]"
      ]
     },
     "execution_count": 23,
=======
       "0 -0.25         1.0        -1.0         0.0         0.0         0.0   \n",
       "1 -0.85         0.0         0.0         0.0         0.0         0.0   \n",
       "2 -0.65         0.0         0.0         0.0         0.0         0.0   \n",
       "3  0.10         0.0         0.0         0.0         0.0         0.0   \n",
       "4  0.10         0.0         0.0         0.0         0.0         0.0   \n",
       "\n",
       "  workclass_6 workclass_7 workclass_8    fnlwgt  ... race_3 race_4 race_5  \\\n",
       "0         0.0         0.0         0.0  1.740932  ...    0.0    0.0    0.0   \n",
       "1         0.0         0.0         0.0  0.051992  ...    0.0    0.0    0.0   \n",
       "2         0.0         0.0         0.0  2.024220  ...    0.0    0.0    0.0   \n",
       "3         0.0         0.0         0.0  1.030581  ...    1.0    0.0    0.0   \n",
       "4         0.0         0.0         0.0 -0.407526  ...    0.0    0.0    0.0   \n",
       "\n",
       "  sex_1 sex_2 capital_gain capital_loss hours_per_week income_1 income_2  \n",
       "0   0.0   0.0       4650.0          0.0            0.0      0.0      0.0  \n",
       "1  -1.0   1.0          0.0          0.0           -5.6      0.0      0.0  \n",
       "2   0.0   0.0          0.0          0.0           -1.0      0.0      0.0  \n",
       "3  -1.0   1.0          0.0          0.0           -3.2      0.0      0.0  \n",
       "4   0.0   0.0          0.0          0.0            0.0      0.0      0.0  \n",
       "\n",
       "[5 rows x 66 columns]"
      ]
     },
     "execution_count": 20,
>>>>>>> 613d06eb3e33992cd34cd38a1e6243bd1cb5e3d7
     "metadata": {},
     "output_type": "execute_result"
    }
   ],
   "source": [
    "X_train.head()"
   ]
  },
  {
   "cell_type": "code",
<<<<<<< HEAD
   "execution_count": 24,
=======
   "execution_count": 21,
>>>>>>> 613d06eb3e33992cd34cd38a1e6243bd1cb5e3d7
   "metadata": {},
   "outputs": [
    {
     "data": {
      "text/html": [
       "<div>\n",
       "<style scoped>\n",
       "    .dataframe tbody tr th:only-of-type {\n",
       "        vertical-align: middle;\n",
       "    }\n",
       "\n",
       "    .dataframe tbody tr th {\n",
       "        vertical-align: top;\n",
       "    }\n",
       "\n",
       "    .dataframe thead tr th {\n",
       "        text-align: left;\n",
       "    }\n",
       "</style>\n",
       "<table border=\"1\" class=\"dataframe\">\n",
       "  <thead>\n",
       "    <tr>\n",
       "      <th></th>\n",
       "      <th>age</th>\n",
       "      <th>workclass_1</th>\n",
       "      <th>workclass_2</th>\n",
       "      <th>workclass_3</th>\n",
       "      <th>workclass_4</th>\n",
       "      <th>workclass_5</th>\n",
       "      <th>workclass_6</th>\n",
       "      <th>workclass_7</th>\n",
       "      <th>workclass_8</th>\n",
       "      <th>fnlwgt</th>\n",
       "      <th>...</th>\n",
<<<<<<< HEAD
       "      <th>native_country_32</th>\n",
       "      <th>native_country_33</th>\n",
       "      <th>native_country_34</th>\n",
       "      <th>native_country_35</th>\n",
       "      <th>native_country_36</th>\n",
       "      <th>native_country_37</th>\n",
       "      <th>native_country_38</th>\n",
       "      <th>native_country_39</th>\n",
       "      <th>native_country_40</th>\n",
       "      <th>native_country_41</th>\n",
=======
       "      <th>race_3</th>\n",
       "      <th>race_4</th>\n",
       "      <th>race_5</th>\n",
       "      <th>sex_1</th>\n",
       "      <th>sex_2</th>\n",
       "      <th>capital_gain</th>\n",
       "      <th>capital_loss</th>\n",
       "      <th>hours_per_week</th>\n",
       "      <th>income_1</th>\n",
       "      <th>income_2</th>\n",
>>>>>>> 613d06eb3e33992cd34cd38a1e6243bd1cb5e3d7
       "    </tr>\n",
       "  </thead>\n",
       "  <tbody>\n",
       "    <tr>\n",
       "      <th>0</th>\n",
<<<<<<< HEAD
       "      <td>-0.50</td>\n",
=======
       "      <td>0.30</td>\n",
>>>>>>> 613d06eb3e33992cd34cd38a1e6243bd1cb5e3d7
       "      <td>0.0</td>\n",
       "      <td>0.0</td>\n",
       "      <td>0.0</td>\n",
       "      <td>0.0</td>\n",
       "      <td>0.0</td>\n",
       "      <td>0.0</td>\n",
       "      <td>0.0</td>\n",
       "      <td>0.0</td>\n",
<<<<<<< HEAD
       "      <td>-0.006571</td>\n",
=======
       "      <td>1.321172</td>\n",
>>>>>>> 613d06eb3e33992cd34cd38a1e6243bd1cb5e3d7
       "      <td>...</td>\n",
       "      <td>0.0</td>\n",
       "      <td>0.0</td>\n",
       "      <td>0.0</td>\n",
<<<<<<< HEAD
       "      <td>0.0</td>\n",
       "      <td>0.0</td>\n",
       "      <td>0.0</td>\n",
       "      <td>0.0</td>\n",
       "      <td>0.0</td>\n",
=======
       "      <td>-1.0</td>\n",
       "      <td>1.0</td>\n",
       "      <td>0.0</td>\n",
       "      <td>0.0</td>\n",
       "      <td>2.0</td>\n",
>>>>>>> 613d06eb3e33992cd34cd38a1e6243bd1cb5e3d7
       "      <td>0.0</td>\n",
       "      <td>0.0</td>\n",
       "    </tr>\n",
       "    <tr>\n",
       "      <th>1</th>\n",
<<<<<<< HEAD
       "      <td>-0.50</td>\n",
       "      <td>0.0</td>\n",
       "      <td>0.0</td>\n",
       "      <td>0.0</td>\n",
       "      <td>0.0</td>\n",
=======
       "      <td>0.75</td>\n",
       "      <td>0.0</td>\n",
       "      <td>-1.0</td>\n",
       "      <td>0.0</td>\n",
       "      <td>1.0</td>\n",
>>>>>>> 613d06eb3e33992cd34cd38a1e6243bd1cb5e3d7
       "      <td>0.0</td>\n",
       "      <td>0.0</td>\n",
       "      <td>0.0</td>\n",
       "      <td>0.0</td>\n",
<<<<<<< HEAD
       "      <td>0.323136</td>\n",
=======
       "      <td>1.057204</td>\n",
>>>>>>> 613d06eb3e33992cd34cd38a1e6243bd1cb5e3d7
       "      <td>...</td>\n",
       "      <td>0.0</td>\n",
       "      <td>0.0</td>\n",
       "      <td>0.0</td>\n",
       "      <td>0.0</td>\n",
       "      <td>0.0</td>\n",
       "      <td>0.0</td>\n",
<<<<<<< HEAD
       "      <td>0.0</td>\n",
=======
       "      <td>2051.0</td>\n",
>>>>>>> 613d06eb3e33992cd34cd38a1e6243bd1cb5e3d7
       "      <td>0.0</td>\n",
       "      <td>0.0</td>\n",
       "      <td>0.0</td>\n",
       "    </tr>\n",
       "    <tr>\n",
       "      <th>2</th>\n",
<<<<<<< HEAD
       "      <td>-0.60</td>\n",
=======
       "      <td>-0.70</td>\n",
>>>>>>> 613d06eb3e33992cd34cd38a1e6243bd1cb5e3d7
       "      <td>0.0</td>\n",
       "      <td>0.0</td>\n",
       "      <td>0.0</td>\n",
       "      <td>0.0</td>\n",
       "      <td>0.0</td>\n",
       "      <td>0.0</td>\n",
       "      <td>0.0</td>\n",
       "      <td>0.0</td>\n",
<<<<<<< HEAD
       "      <td>0.656361</td>\n",
=======
       "      <td>-1.173052</td>\n",
>>>>>>> 613d06eb3e33992cd34cd38a1e6243bd1cb5e3d7
       "      <td>...</td>\n",
       "      <td>0.0</td>\n",
       "      <td>0.0</td>\n",
       "      <td>0.0</td>\n",
       "      <td>0.0</td>\n",
       "      <td>0.0</td>\n",
       "      <td>0.0</td>\n",
       "      <td>0.0</td>\n",
       "      <td>0.0</td>\n",
       "      <td>0.0</td>\n",
       "      <td>0.0</td>\n",
       "    </tr>\n",
       "    <tr>\n",
       "      <th>3</th>\n",
<<<<<<< HEAD
       "      <td>0.45</td>\n",
       "      <td>0.0</td>\n",
       "      <td>0.0</td>\n",
       "      <td>0.0</td>\n",
=======
       "      <td>0.20</td>\n",
       "      <td>0.0</td>\n",
       "      <td>-1.0</td>\n",
       "      <td>1.0</td>\n",
>>>>>>> 613d06eb3e33992cd34cd38a1e6243bd1cb5e3d7
       "      <td>0.0</td>\n",
       "      <td>0.0</td>\n",
       "      <td>0.0</td>\n",
       "      <td>0.0</td>\n",
       "      <td>0.0</td>\n",
<<<<<<< HEAD
       "      <td>-0.253496</td>\n",
=======
       "      <td>-0.221804</td>\n",
>>>>>>> 613d06eb3e33992cd34cd38a1e6243bd1cb5e3d7
       "      <td>...</td>\n",
       "      <td>0.0</td>\n",
       "      <td>0.0</td>\n",
       "      <td>0.0</td>\n",
<<<<<<< HEAD
       "      <td>0.0</td>\n",
       "      <td>0.0</td>\n",
       "      <td>0.0</td>\n",
       "      <td>0.0</td>\n",
       "      <td>0.0</td>\n",
       "      <td>0.0</td>\n",
       "      <td>0.0</td>\n",
       "    </tr>\n",
       "    <tr>\n",
       "      <th>4</th>\n",
       "      <td>0.40</td>\n",
=======
       "      <td>-1.0</td>\n",
       "      <td>1.0</td>\n",
       "      <td>0.0</td>\n",
       "      <td>0.0</td>\n",
       "      <td>-5.0</td>\n",
       "      <td>-1.0</td>\n",
       "      <td>1.0</td>\n",
       "    </tr>\n",
       "    <tr>\n",
       "      <th>4</th>\n",
       "      <td>0.45</td>\n",
>>>>>>> 613d06eb3e33992cd34cd38a1e6243bd1cb5e3d7
       "      <td>0.0</td>\n",
       "      <td>0.0</td>\n",
       "      <td>0.0</td>\n",
       "      <td>0.0</td>\n",
       "      <td>0.0</td>\n",
       "      <td>0.0</td>\n",
       "      <td>0.0</td>\n",
       "      <td>0.0</td>\n",
<<<<<<< HEAD
       "      <td>-0.042564</td>\n",
       "      <td>...</td>\n",
       "      <td>0.0</td>\n",
=======
       "      <td>0.173656</td>\n",
       "      <td>...</td>\n",
       "      <td>1.0</td>\n",
>>>>>>> 613d06eb3e33992cd34cd38a1e6243bd1cb5e3d7
       "      <td>0.0</td>\n",
       "      <td>0.0</td>\n",
       "      <td>0.0</td>\n",
       "      <td>0.0</td>\n",
       "      <td>0.0</td>\n",
       "      <td>0.0</td>\n",
       "      <td>0.0</td>\n",
       "      <td>0.0</td>\n",
       "      <td>0.0</td>\n",
       "    </tr>\n",
       "  </tbody>\n",
       "</table>\n",
<<<<<<< HEAD
       "<p>5 rows × 105 columns</p>\n",
=======
       "<p>5 rows × 66 columns</p>\n",
>>>>>>> 613d06eb3e33992cd34cd38a1e6243bd1cb5e3d7
       "</div>"
      ],
      "text/plain": [
       "    age workclass_1 workclass_2 workclass_3 workclass_4 workclass_5  \\\n",
<<<<<<< HEAD
       "0 -0.50         0.0         0.0         0.0         0.0         0.0   \n",
       "1 -0.50         0.0         0.0         0.0         0.0         0.0   \n",
       "2 -0.60         0.0         0.0         0.0         0.0         0.0   \n",
       "3  0.45         0.0         0.0         0.0         0.0         0.0   \n",
       "4  0.40         0.0         0.0         0.0         0.0         0.0   \n",
       "\n",
       "  workclass_6 workclass_7 workclass_8    fnlwgt  ... native_country_32  \\\n",
       "0         0.0         0.0         0.0 -0.006571  ...               0.0   \n",
       "1         0.0         0.0         0.0  0.323136  ...               0.0   \n",
       "2         0.0         0.0         0.0  0.656361  ...               0.0   \n",
       "3         0.0         0.0         0.0 -0.253496  ...               0.0   \n",
       "4         0.0         0.0         0.0 -0.042564  ...               0.0   \n",
       "\n",
       "  native_country_33 native_country_34 native_country_35 native_country_36  \\\n",
       "0               0.0               0.0               0.0               0.0   \n",
       "1               0.0               0.0               0.0               0.0   \n",
       "2               0.0               0.0               0.0               0.0   \n",
       "3               0.0               0.0               0.0               0.0   \n",
       "4               0.0               0.0               0.0               0.0   \n",
       "\n",
       "  native_country_37 native_country_38 native_country_39 native_country_40  \\\n",
       "0               0.0               0.0               0.0               0.0   \n",
       "1               0.0               0.0               0.0               0.0   \n",
       "2               0.0               0.0               0.0               0.0   \n",
       "3               0.0               0.0               0.0               0.0   \n",
       "4               0.0               0.0               0.0               0.0   \n",
       "\n",
       "  native_country_41  \n",
       "0               0.0  \n",
       "1               0.0  \n",
       "2               0.0  \n",
       "3               0.0  \n",
       "4               0.0  \n",
       "\n",
       "[5 rows x 105 columns]"
      ]
     },
     "execution_count": 24,
=======
       "0  0.30         0.0         0.0         0.0         0.0         0.0   \n",
       "1  0.75         0.0        -1.0         0.0         1.0         0.0   \n",
       "2 -0.70         0.0         0.0         0.0         0.0         0.0   \n",
       "3  0.20         0.0        -1.0         1.0         0.0         0.0   \n",
       "4  0.45         0.0         0.0         0.0         0.0         0.0   \n",
       "\n",
       "  workclass_6 workclass_7 workclass_8    fnlwgt  ... race_3 race_4 race_5  \\\n",
       "0         0.0         0.0         0.0  1.321172  ...    0.0    0.0    0.0   \n",
       "1         0.0         0.0         0.0  1.057204  ...    0.0    0.0    0.0   \n",
       "2         0.0         0.0         0.0 -1.173052  ...    0.0    0.0    0.0   \n",
       "3         0.0         0.0         0.0 -0.221804  ...    0.0    0.0    0.0   \n",
       "4         0.0         0.0         0.0  0.173656  ...    1.0    0.0    0.0   \n",
       "\n",
       "  sex_1 sex_2 capital_gain capital_loss hours_per_week income_1 income_2  \n",
       "0  -1.0   1.0          0.0          0.0            2.0      0.0      0.0  \n",
       "1   0.0   0.0          0.0       2051.0            0.0      0.0      0.0  \n",
       "2   0.0   0.0          0.0          0.0            0.0      0.0      0.0  \n",
       "3  -1.0   1.0          0.0          0.0           -5.0     -1.0      1.0  \n",
       "4   0.0   0.0          0.0          0.0            0.0      0.0      0.0  \n",
       "\n",
       "[5 rows x 66 columns]"
      ]
     },
     "execution_count": 21,
>>>>>>> 613d06eb3e33992cd34cd38a1e6243bd1cb5e3d7
     "metadata": {},
     "output_type": "execute_result"
    }
   ],
   "source": [
    "X_test.head()"
   ]
  },
  {
<<<<<<< HEAD
   "cell_type": "markdown",
   "metadata": {},
   "source": [
    "Używając [GaussianNB](https://scikit-learn.org/stable/modules/generated/sklearn.naive_bayes.GaussianNB.html) przeprowadź klasyfikację daych ze zbiorów testowych i treningowych. Podaj dokładnosć modelu i macierz błędu wraz z jej wykresem i interpretacją."
   ]
  },
  {
   "cell_type": "code",
   "execution_count": 29,
=======
   "cell_type": "code",
   "execution_count": 22,
>>>>>>> 613d06eb3e33992cd34cd38a1e6243bd1cb5e3d7
   "metadata": {},
   "outputs": [
    {
     "name": "stdout",
     "output_type": "stream",
     "text": [
<<<<<<< HEAD
      "Predykcje:\n",
      "[' <=50K' ' <=50K' ' >50K' ... ' >50K' ' <=50K' ' <=50K']\n"
     ]
    },
    {
     "name": "stderr",
     "output_type": "stream",
     "text": [
      "/home/user/anaconda3/envs/arturmzyk/lib/python3.9/site-packages/sklearn/utils/validation.py:1675: FutureWarning: Feature names only support names that are all strings. Got feature names with dtypes: ['tuple']. An error will be raised in 1.2.\n",
      "  warnings.warn(\n",
      "/home/user/anaconda3/envs/arturmzyk/lib/python3.9/site-packages/sklearn/utils/validation.py:1675: FutureWarning: Feature names only support names that are all strings. Got feature names with dtypes: ['tuple']. An error will be raised in 1.2.\n",
      "  warnings.warn(\n"
=======
      "Dokładność zbioru uczącego: 3.4299999999999997%\n",
      "Dokładność zbioru testowego, czyli dokładność modelu: 3.15%\n",
      "Dokładność wybierania najczęstszej wartości: 91.31%\n"
>>>>>>> 613d06eb3e33992cd34cd38a1e6243bd1cb5e3d7
     ]
    }
   ],
   "source": [
<<<<<<< HEAD
    "# Model\n",
    "gnb = GaussianNB()\n",
    "\n",
    "# Dopasowanie\n",
    "gnb.fit(X_train, y_train)\n",
    "y_pred = gnb.predict(X_test)\n",
    "print(f\"Predykcje:\\n{y_pred}\")"
   ]
  },
  {
   "cell_type": "code",
   "execution_count": 32,
   "metadata": {},
   "outputs": [
    {
     "name": "stdout",
     "output_type": "stream",
     "text": [
      "Dokładność modelu: 0.8082710615211383\n",
      "Średnia dokładność zbioru uczącego 0.8067304317304317\n"
     ]
    },
    {
     "name": "stderr",
     "output_type": "stream",
     "text": [
      "/home/user/anaconda3/envs/arturmzyk/lib/python3.9/site-packages/sklearn/utils/validation.py:1675: FutureWarning: Feature names only support names that are all strings. Got feature names with dtypes: ['tuple']. An error will be raised in 1.2.\n",
      "  warnings.warn(\n",
      "/home/user/anaconda3/envs/arturmzyk/lib/python3.9/site-packages/sklearn/utils/validation.py:1675: FutureWarning: Feature names only support names that are all strings. Got feature names with dtypes: ['tuple']. An error will be raised in 1.2.\n",
      "  warnings.warn(\n"
     ]
    },
    {
     "name": "stdout",
     "output_type": "stream",
     "text": [
      "Średnia dokładność zbioru testowego 0.8082710615211383\n"
     ]
    }
   ],
   "source": [
    "print(f\"Dokładność modelu: {accuracy_score(y_test, y_pred)}\")\n",
    "print(f\"Średnia dokładność zbioru uczącego {gnb.score(X_train, y_train)}\")\n",
    "print(f\"Średnia dokładność zbioru testowego {gnb.score(X_test, y_test)}\")"
   ]
  },
  {
   "cell_type": "markdown",
   "metadata": {},
   "source": [
    "Średnie dokładności są porównywalne, co dobrze świadczy o modelu."
   ]
  },
  {
   "cell_type": "code",
   "execution_count": 34,
   "metadata": {},
   "outputs": [
    {
     "data": {
      "text/plain": [
       " <=50K    7407\n",
       " >50K     2362\n",
       "Name: income, dtype: int64"
      ]
     },
     "execution_count": 34,
     "metadata": {},
     "output_type": "execute_result"
    }
   ],
   "source": [
    "#Nullaccuracy\n",
    "y_test.value_counts()"
   ]
  },
  {
   "cell_type": "code",
   "execution_count": 35,
   "metadata": {},
   "outputs": [
    {
     "name": "stdout",
     "output_type": "stream",
     "text": [
      "Null accuracy score: 0.7582147609786057\n"
     ]
    }
   ],
   "source": [
    "null_accuracy = (7407 / (7407 + 2362))\n",
    "print(f\"Null accuracy score: {null_accuracy}\")"
   ]
  },
  {
   "cell_type": "markdown",
   "metadata": {},
   "source": [
    "Dokładność modelu jest większa od null accuracy, co bardzo dobrze świadczy o modelu."
   ]
  },
  {
   "cell_type": "code",
   "execution_count": 38,
   "metadata": {},
   "outputs": [
    {
     "name": "stdout",
     "output_type": "stream",
     "text": [
      "Tablica pomyłek:\n",
      "[[5999 1408]\n",
      " [ 465 1897]]\n",
      "\n",
      "Liczba klasyfikacji prawdziwie pozytywnych (TP): 5999\n",
      "Liczba klasyfikacji prawdziwie negatywnych (TN): 1897\n",
      "Liczba klasyfikacji fałszywie pozytywnych (FP): 1408\n",
      "Liczba klasyfikacji fałszywie negatywnych (FN): 465\n",
      "\n",
      "Liczba poprawnych predykcji: 7896\n",
      "Liczba niepoprawnych predykcji: 1873\n"
     ]
    }
   ],
   "source": [
    "cm = confusion_matrix(y_test, y_pred)\n",
    "print(f\"Tablica pomyłek:\\n{cm}\\n\")\n",
    "print(f\"Liczba klasyfikacji prawdziwie pozytywnych (TP): {cm[0, 0]}\")\n",
    "print(f\"Liczba klasyfikacji prawdziwie negatywnych (TN): {cm[1, 1]}\")\n",
    "print(f\"Liczba klasyfikacji fałszywie pozytywnych (FP): {cm[0, 1]}\")\n",
    "print(f\"Liczba klasyfikacji fałszywie negatywnych (FN): {cm[1, 0]}\")\n",
    "print()\n",
    "print(f\"Liczba poprawnych predykcji: {cm[0, 0] + cm[1, 1]}\")\n",
    "print(f\"Liczba niepoprawnych predykcji: {cm[0, 1] + cm[1, 0]}\")"
   ]
  },
  {
   "cell_type": "code",
   "execution_count": 42,
   "metadata": {},
   "outputs": [
    {
     "data": {
      "image/png": "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\n",
      "text/plain": [
       "<Figure size 432x288 with 2 Axes>"
      ]
     },
     "metadata": {
      "needs_background": "light"
     },
     "output_type": "display_data"
    }
   ],
   "source": [
    "cm_matrix = pd.DataFrame(data=cm, columns=[\"Actual Positive :1\", \"Actual Negative: 0\"], \n",
    "                                 index=[\"Predict Positive: 1\", \"Predict Negative: 0\"])\n",
    "\n",
    "sns.heatmap(cm_matrix, annot=True, fmt='d', cmap='YlGnBu')\n",
    "plt.show()"
   ]
  },
  {
   "cell_type": "code",
   "execution_count": 44,
   "metadata": {},
   "outputs": [
    {
     "name": "stdout",
     "output_type": "stream",
     "text": [
      "              precision    recall  f1-score   support\n",
      "\n",
      "       <=50K       0.93      0.81      0.86      7407\n",
      "        >50K       0.57      0.80      0.67      2362\n",
      "\n",
      "    accuracy                           0.81      9769\n",
      "   macro avg       0.75      0.81      0.77      9769\n",
      "weighted avg       0.84      0.81      0.82      9769\n",
      "\n"
     ]
    }
   ],
   "source": [
    "print(classification_report(y_test, y_pred))"
   ]
  },
  {
   "cell_type": "code",
   "execution_count": 45,
   "metadata": {},
   "outputs": [
    {
     "name": "stdout",
     "output_type": "stream",
     "text": [
      "Classification accuracy : 0.8083\n",
      "Classification error : 0.1917\n",
      "Precision : 0.8099\n",
      "Recall or Sensitivity : 0.9281\n",
      "True Positive Rate : 0.9281\n",
      "False Positive Rate : 0.4260\n",
      "Specificity : 0.5740\n"
     ]
    }
   ],
   "source": [
    "TP = cm[0,0]\n",
    "TN = cm[1,1]\n",
    "FP = cm[0,1]\n",
    "FN = cm[1,0]\n",
    "\n",
    "classification_accuracy = (TP + TN) / float(TP + TN + FP + FN)\n",
    "\n",
    "print('Classification accuracy : {0:0.4f}'.format(classification_accuracy))\n",
    "classification_error = (FP + FN) / float(TP + TN + FP + FN)\n",
    "\n",
    "print('Classification error : {0:0.4f}'.format(classification_error))\n",
    "precision = TP / float(TP + FP)\n",
    "\n",
    "\n",
    "print('Precision : {0:0.4f}'.format(precision))\n",
    "recall = TP / float(TP + FN)\n",
    "\n",
    "print('Recall or Sensitivity : {0:0.4f}'.format(recall))\n",
    "true_positive_rate = TP / float(TP + FN)\n",
    "\n",
    "\n",
    "print('True Positive Rate : {0:0.4f}'.format(true_positive_rate))\n",
    "false_positive_rate = FP / float(FP + TN)\n",
    "\n",
    "\n",
    "print('False Positive Rate : {0:0.4f}'.format(false_positive_rate))\n",
    "\n",
    "specificity = TN / (TN + FP)\n",
    "\n",
    "print('Specificity : {0:0.4f}'.format(specificity))\n"
   ]
  },
  {
   "cell_type": "code",
   "execution_count": 46,
   "metadata": {},
   "outputs": [
    {
     "name": "stderr",
     "output_type": "stream",
     "text": [
      "/home/user/anaconda3/envs/arturmzyk/lib/python3.9/site-packages/sklearn/utils/validation.py:1675: FutureWarning: Feature names only support names that are all strings. Got feature names with dtypes: ['tuple']. An error will be raised in 1.2.\n",
      "  warnings.warn(\n"
     ]
    },
    {
     "data": {
      "text/plain": [
       "array([[9.99999426e-01, 5.74152436e-07],\n",
       "       [9.99687907e-01, 3.12093456e-04],\n",
       "       [1.54405602e-01, 8.45594398e-01],\n",
       "       [1.73624321e-04, 9.99826376e-01],\n",
       "       [8.20121011e-09, 9.99999992e-01],\n",
       "       [8.76844580e-01, 1.23155420e-01],\n",
       "       [9.99999927e-01, 7.32876705e-08],\n",
       "       [9.99993460e-01, 6.53998797e-06],\n",
       "       [9.87738143e-01, 1.22618575e-02],\n",
       "       [9.99999996e-01, 4.01886317e-09]])"
      ]
     },
     "execution_count": 46,
     "metadata": {},
     "output_type": "execute_result"
    }
   ],
   "source": [
    "y_pred_prob = gnb.predict_proba(X_test)[0:10]\n",
    "y_pred_prob"
   ]
  },
  {
   "cell_type": "code",
   "execution_count": 47,
   "metadata": {},
   "outputs": [
    {
     "data": {
      "text/html": [
       "<div>\n",
       "<style scoped>\n",
       "    .dataframe tbody tr th:only-of-type {\n",
       "        vertical-align: middle;\n",
       "    }\n",
       "\n",
       "    .dataframe tbody tr th {\n",
       "        vertical-align: top;\n",
       "    }\n",
       "\n",
       "    .dataframe thead th {\n",
       "        text-align: right;\n",
       "    }\n",
       "</style>\n",
       "<table border=\"1\" class=\"dataframe\">\n",
       "  <thead>\n",
       "    <tr style=\"text-align: right;\">\n",
       "      <th></th>\n",
       "      <th>Prob of - &lt;=50K</th>\n",
       "      <th>Prob of - &gt;50K</th>\n",
       "    </tr>\n",
       "  </thead>\n",
       "  <tbody>\n",
       "    <tr>\n",
       "      <th>0</th>\n",
       "      <td>9.999994e-01</td>\n",
       "      <td>5.741524e-07</td>\n",
       "    </tr>\n",
       "    <tr>\n",
       "      <th>1</th>\n",
       "      <td>9.996879e-01</td>\n",
       "      <td>3.120935e-04</td>\n",
       "    </tr>\n",
       "    <tr>\n",
       "      <th>2</th>\n",
       "      <td>1.544056e-01</td>\n",
       "      <td>8.455944e-01</td>\n",
       "    </tr>\n",
       "    <tr>\n",
       "      <th>3</th>\n",
       "      <td>1.736243e-04</td>\n",
       "      <td>9.998264e-01</td>\n",
       "    </tr>\n",
       "    <tr>\n",
       "      <th>4</th>\n",
       "      <td>8.201210e-09</td>\n",
       "      <td>1.000000e+00</td>\n",
       "    </tr>\n",
       "    <tr>\n",
       "      <th>5</th>\n",
       "      <td>8.768446e-01</td>\n",
       "      <td>1.231554e-01</td>\n",
       "    </tr>\n",
       "    <tr>\n",
       "      <th>6</th>\n",
       "      <td>9.999999e-01</td>\n",
       "      <td>7.328767e-08</td>\n",
       "    </tr>\n",
       "    <tr>\n",
       "      <th>7</th>\n",
       "      <td>9.999935e-01</td>\n",
       "      <td>6.539988e-06</td>\n",
       "    </tr>\n",
       "    <tr>\n",
       "      <th>8</th>\n",
       "      <td>9.877381e-01</td>\n",
       "      <td>1.226186e-02</td>\n",
       "    </tr>\n",
       "    <tr>\n",
       "      <th>9</th>\n",
       "      <td>1.000000e+00</td>\n",
       "      <td>4.018863e-09</td>\n",
       "    </tr>\n",
       "  </tbody>\n",
       "</table>\n",
       "</div>"
      ],
      "text/plain": [
       "   Prob of - <=50K  Prob of - >50K\n",
       "0     9.999994e-01    5.741524e-07\n",
       "1     9.996879e-01    3.120935e-04\n",
       "2     1.544056e-01    8.455944e-01\n",
       "3     1.736243e-04    9.998264e-01\n",
       "4     8.201210e-09    1.000000e+00\n",
       "5     8.768446e-01    1.231554e-01\n",
       "6     9.999999e-01    7.328767e-08\n",
       "7     9.999935e-01    6.539988e-06\n",
       "8     9.877381e-01    1.226186e-02\n",
       "9     1.000000e+00    4.018863e-09"
      ]
     },
     "execution_count": 47,
     "metadata": {},
     "output_type": "execute_result"
    }
   ],
   "source": [
    "y_pred_prob_df = pd.DataFrame(data=y_pred_prob, columns=['Prob of - <=50K', 'Prob of - >50K'])\n",
    "\n",
    "y_pred_prob_df\n"
   ]
  },
  {
   "cell_type": "code",
   "execution_count": 48,
   "metadata": {},
   "outputs": [
    {
     "name": "stderr",
     "output_type": "stream",
     "text": [
      "/home/user/anaconda3/envs/arturmzyk/lib/python3.9/site-packages/sklearn/utils/validation.py:1675: FutureWarning: Feature names only support names that are all strings. Got feature names with dtypes: ['tuple']. An error will be raised in 1.2.\n",
      "  warnings.warn(\n"
     ]
    },
    {
     "data": {
      "text/plain": [
       "Text(0, 0.5, 'Frequency')"
      ]
     },
     "execution_count": 48,
     "metadata": {},
     "output_type": "execute_result"
    },
    {
     "data": {
      "image/png": "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\n",
      "text/plain": [
       "<Figure size 432x288 with 1 Axes>"
      ]
     },
     "metadata": {
      "needs_background": "light"
     },
     "output_type": "display_data"
    }
   ],
   "source": [
    "y_pred1 = gnb.predict_proba(X_test)[:, 1]\n",
    "# adjust the font size \n",
    "plt.rcParams['font.size'] = 12\n",
    "\n",
    "\n",
    "# plot histogram with 10 bins\n",
    "plt.hist(y_pred1, bins = 10)\n",
    "\n",
    "\n",
    "# set the title of predicted probabilities\n",
    "plt.title('Histogram of predicted probabilities of salaries >50K')\n",
    "\n",
    "\n",
    "# set the x-axis limit\n",
    "plt.xlim(0,1)\n",
    "\n",
    "\n",
    "# set the title\n",
    "plt.xlabel('Predicted probabilities of salaries >50K')\n",
    "plt.ylabel('Frequency')"
   ]
  },
  {
   "cell_type": "markdown",
   "metadata": {},
   "source": [
    "\n",
    "    We can see that the above histogram is highly positive skewed.\n",
    "\n",
    "    The first column tell us that there are approximately 5700 observations with probability between 0.0 and 0.1 whose salary is <=50K.\n",
    "\n",
    "    There are relatively small number of observations with probability > 0.5.\n",
    "\n",
    "    So, these small number of observations predict that the salaries will be >50K.\n",
    "\n",
    "    Majority of observations predcit that the salaries will be <=50K.\n"
   ]
  },
  {
   "cell_type": "code",
   "execution_count": 50,
   "metadata": {},
   "outputs": [
    {
     "name": "stderr",
     "output_type": "stream",
     "text": [
      "/home/user/anaconda3/envs/arturmzyk/lib/python3.9/site-packages/sklearn/metrics/_ranking.py:999: UndefinedMetricWarning: No positive samples in y_true, true positive value should be meaningless\n",
      "  warnings.warn(\n"
     ]
    },
    {
     "data": {
      "image/png": "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\n",
      "text/plain": [
       "<Figure size 432x288 with 1 Axes>"
      ]
     },
     "metadata": {
      "needs_background": "light"
     },
     "output_type": "display_data"
    }
   ],
   "source": [
    "\n",
    "\n",
    "fpr, tpr, thresholds = roc_curve(y_test, y_pred1, pos_label = '>50K')\n",
    "\n",
    "plt.figure(figsize=(6,4))\n",
    "\n",
    "plt.plot(fpr, tpr, linewidth=2)\n",
    "\n",
    "plt.plot([0,1], [0,1], 'k--' )\n",
    "\n",
    "plt.rcParams['font.size'] = 12\n",
    "\n",
    "plt.title('ROC curve for Gaussian Naive Bayes Classifier for Predicting Salaries')\n",
    "\n",
    "plt.xlabel('False Positive Rate (1 - Specificity)')\n",
    "\n",
    "plt.ylabel('True Positive Rate (Sensitivity)')\n",
    "\n",
    "plt.show()"
   ]
  },
  {
   "cell_type": "markdown",
   "metadata": {},
   "source": [
    "ROC AUC stands for Receiver Operating Characteristic - Area Under Curve. It is a technique to compare classifier performance. In this technique, we measure the area under the curve (AUC). A perfect classifier will have a ROC AUC equal to 1, whereas a purely random classifier will have a ROC AUC equal to 0.5."
   ]
  },
  {
   "cell_type": "code",
   "execution_count": 52,
   "metadata": {},
   "outputs": [
    {
     "name": "stdout",
     "output_type": "stream",
     "text": [
      "ROC AUC : 0.8941\n"
     ]
    }
   ],
   "source": [
    "ROC_AUC = roc_auc_score(y_test, y_pred1)\n",
    "\n",
    "print('ROC AUC : {:.4f}'.format(ROC_AUC))"
   ]
  },
  {
   "cell_type": "markdown",
   "metadata": {},
   "source": [
    "\n",
    "\n",
    "    ROC AUC is a single number summary of classifier performance. The higher the value, the better the classifier.\n",
    "\n",
    "    ROC AUC of our model approaches towards 1. So, we can conclude that our classifier does a good job in predicting whether it will rain tomorrow or not.\n"
   ]
  },
  {
   "cell_type": "code",
   "execution_count": 59,
   "metadata": {},
   "outputs": [
    {
     "name": "stderr",
     "output_type": "stream",
     "text": [
      "/home/user/anaconda3/envs/arturmzyk/lib/python3.9/site-packages/sklearn/utils/validation.py:1675: FutureWarning: Feature names only support names that are all strings. Got feature names with dtypes: ['tuple']. An error will be raised in 1.2.\n",
      "  warnings.warn(\n",
      "/home/user/anaconda3/envs/arturmzyk/lib/python3.9/site-packages/sklearn/utils/validation.py:1675: FutureWarning: Feature names only support names that are all strings. Got feature names with dtypes: ['tuple']. An error will be raised in 1.2.\n",
      "  warnings.warn(\n",
      "/home/user/anaconda3/envs/arturmzyk/lib/python3.9/site-packages/sklearn/utils/validation.py:1675: FutureWarning: Feature names only support names that are all strings. Got feature names with dtypes: ['tuple']. An error will be raised in 1.2.\n",
      "  warnings.warn(\n",
      "/home/user/anaconda3/envs/arturmzyk/lib/python3.9/site-packages/sklearn/utils/validation.py:1675: FutureWarning: Feature names only support names that are all strings. Got feature names with dtypes: ['tuple']. An error will be raised in 1.2.\n",
      "  warnings.warn(\n",
      "/home/user/anaconda3/envs/arturmzyk/lib/python3.9/site-packages/sklearn/utils/validation.py:1675: FutureWarning: Feature names only support names that are all strings. Got feature names with dtypes: ['tuple']. An error will be raised in 1.2.\n",
      "  warnings.warn(\n",
      "/home/user/anaconda3/envs/arturmzyk/lib/python3.9/site-packages/sklearn/utils/validation.py:1675: FutureWarning: Feature names only support names that are all strings. Got feature names with dtypes: ['tuple']. An error will be raised in 1.2.\n",
      "  warnings.warn(\n",
      "/home/user/anaconda3/envs/arturmzyk/lib/python3.9/site-packages/sklearn/utils/validation.py:1675: FutureWarning: Feature names only support names that are all strings. Got feature names with dtypes: ['tuple']. An error will be raised in 1.2.\n",
      "  warnings.warn(\n",
      "/home/user/anaconda3/envs/arturmzyk/lib/python3.9/site-packages/sklearn/utils/validation.py:1675: FutureWarning: Feature names only support names that are all strings. Got feature names with dtypes: ['tuple']. An error will be raised in 1.2.\n",
      "  warnings.warn(\n",
      "/home/user/anaconda3/envs/arturmzyk/lib/python3.9/site-packages/sklearn/utils/validation.py:1675: FutureWarning: Feature names only support names that are all strings. Got feature names with dtypes: ['tuple']. An error will be raised in 1.2.\n",
      "  warnings.warn(\n"
     ]
    },
    {
     "name": "stdout",
     "output_type": "stream",
     "text": [
      "Cross validated ROC AUC : 0.8938\n"
     ]
    },
    {
     "name": "stderr",
     "output_type": "stream",
     "text": [
      "/home/user/anaconda3/envs/arturmzyk/lib/python3.9/site-packages/sklearn/utils/validation.py:1675: FutureWarning: Feature names only support names that are all strings. Got feature names with dtypes: ['tuple']. An error will be raised in 1.2.\n",
      "  warnings.warn(\n"
     ]
    }
   ],
   "source": [
    "\n",
    "\n",
    "Cross_validated_ROC_AUC = cross_val_score(gnb, X_train, y_train, cv=5, scoring='roc_auc').mean()\n",
    "\n",
    "print('Cross validated ROC AUC : {:.4f}'.format(Cross_validated_ROC_AUC))\n"
   ]
  },
  {
   "cell_type": "code",
   "execution_count": 60,
   "metadata": {},
   "outputs": [
    {
     "name": "stderr",
     "output_type": "stream",
     "text": [
      "/home/user/anaconda3/envs/arturmzyk/lib/python3.9/site-packages/sklearn/utils/validation.py:1675: FutureWarning: Feature names only support names that are all strings. Got feature names with dtypes: ['tuple']. An error will be raised in 1.2.\n",
      "  warnings.warn(\n",
      "/home/user/anaconda3/envs/arturmzyk/lib/python3.9/site-packages/sklearn/utils/validation.py:1675: FutureWarning: Feature names only support names that are all strings. Got feature names with dtypes: ['tuple']. An error will be raised in 1.2.\n",
      "  warnings.warn(\n",
      "/home/user/anaconda3/envs/arturmzyk/lib/python3.9/site-packages/sklearn/utils/validation.py:1675: FutureWarning: Feature names only support names that are all strings. Got feature names with dtypes: ['tuple']. An error will be raised in 1.2.\n",
      "  warnings.warn(\n",
      "/home/user/anaconda3/envs/arturmzyk/lib/python3.9/site-packages/sklearn/utils/validation.py:1675: FutureWarning: Feature names only support names that are all strings. Got feature names with dtypes: ['tuple']. An error will be raised in 1.2.\n",
      "  warnings.warn(\n",
      "/home/user/anaconda3/envs/arturmzyk/lib/python3.9/site-packages/sklearn/utils/validation.py:1675: FutureWarning: Feature names only support names that are all strings. Got feature names with dtypes: ['tuple']. An error will be raised in 1.2.\n",
      "  warnings.warn(\n",
      "/home/user/anaconda3/envs/arturmzyk/lib/python3.9/site-packages/sklearn/utils/validation.py:1675: FutureWarning: Feature names only support names that are all strings. Got feature names with dtypes: ['tuple']. An error will be raised in 1.2.\n",
      "  warnings.warn(\n",
      "/home/user/anaconda3/envs/arturmzyk/lib/python3.9/site-packages/sklearn/utils/validation.py:1675: FutureWarning: Feature names only support names that are all strings. Got feature names with dtypes: ['tuple']. An error will be raised in 1.2.\n",
      "  warnings.warn(\n",
      "/home/user/anaconda3/envs/arturmzyk/lib/python3.9/site-packages/sklearn/utils/validation.py:1675: FutureWarning: Feature names only support names that are all strings. Got feature names with dtypes: ['tuple']. An error will be raised in 1.2.\n",
      "  warnings.warn(\n",
      "/home/user/anaconda3/envs/arturmzyk/lib/python3.9/site-packages/sklearn/utils/validation.py:1675: FutureWarning: Feature names only support names that are all strings. Got feature names with dtypes: ['tuple']. An error will be raised in 1.2.\n",
      "  warnings.warn(\n",
      "/home/user/anaconda3/envs/arturmzyk/lib/python3.9/site-packages/sklearn/utils/validation.py:1675: FutureWarning: Feature names only support names that are all strings. Got feature names with dtypes: ['tuple']. An error will be raised in 1.2.\n",
      "  warnings.warn(\n",
      "/home/user/anaconda3/envs/arturmzyk/lib/python3.9/site-packages/sklearn/utils/validation.py:1675: FutureWarning: Feature names only support names that are all strings. Got feature names with dtypes: ['tuple']. An error will be raised in 1.2.\n",
      "  warnings.warn(\n",
      "/home/user/anaconda3/envs/arturmzyk/lib/python3.9/site-packages/sklearn/utils/validation.py:1675: FutureWarning: Feature names only support names that are all strings. Got feature names with dtypes: ['tuple']. An error will be raised in 1.2.\n",
      "  warnings.warn(\n",
      "/home/user/anaconda3/envs/arturmzyk/lib/python3.9/site-packages/sklearn/utils/validation.py:1675: FutureWarning: Feature names only support names that are all strings. Got feature names with dtypes: ['tuple']. An error will be raised in 1.2.\n",
      "  warnings.warn(\n",
      "/home/user/anaconda3/envs/arturmzyk/lib/python3.9/site-packages/sklearn/utils/validation.py:1675: FutureWarning: Feature names only support names that are all strings. Got feature names with dtypes: ['tuple']. An error will be raised in 1.2.\n",
      "  warnings.warn(\n",
      "/home/user/anaconda3/envs/arturmzyk/lib/python3.9/site-packages/sklearn/utils/validation.py:1675: FutureWarning: Feature names only support names that are all strings. Got feature names with dtypes: ['tuple']. An error will be raised in 1.2.\n",
      "  warnings.warn(\n",
      "/home/user/anaconda3/envs/arturmzyk/lib/python3.9/site-packages/sklearn/utils/validation.py:1675: FutureWarning: Feature names only support names that are all strings. Got feature names with dtypes: ['tuple']. An error will be raised in 1.2.\n",
      "  warnings.warn(\n",
      "/home/user/anaconda3/envs/arturmzyk/lib/python3.9/site-packages/sklearn/utils/validation.py:1675: FutureWarning: Feature names only support names that are all strings. Got feature names with dtypes: ['tuple']. An error will be raised in 1.2.\n",
      "  warnings.warn(\n",
      "/home/user/anaconda3/envs/arturmzyk/lib/python3.9/site-packages/sklearn/utils/validation.py:1675: FutureWarning: Feature names only support names that are all strings. Got feature names with dtypes: ['tuple']. An error will be raised in 1.2.\n",
      "  warnings.warn(\n"
     ]
    },
    {
     "name": "stdout",
     "output_type": "stream",
     "text": [
      "Cross-validation scores:[0.81359649 0.80438596 0.81175954 0.8056165  0.79596314 0.79684072\n",
      " 0.81044318 0.81175954 0.80210619 0.81044318]\n",
      "Average cross-validation score: 0.8063\n"
     ]
    },
    {
     "name": "stderr",
     "output_type": "stream",
     "text": [
      "/home/user/anaconda3/envs/arturmzyk/lib/python3.9/site-packages/sklearn/utils/validation.py:1675: FutureWarning: Feature names only support names that are all strings. Got feature names with dtypes: ['tuple']. An error will be raised in 1.2.\n",
      "  warnings.warn(\n",
      "/home/user/anaconda3/envs/arturmzyk/lib/python3.9/site-packages/sklearn/utils/validation.py:1675: FutureWarning: Feature names only support names that are all strings. Got feature names with dtypes: ['tuple']. An error will be raised in 1.2.\n",
      "  warnings.warn(\n"
     ]
    }
   ],
   "source": [
    "# Applying 10-Fold Cross Validation\n",
    "\n",
    "\n",
    "\n",
    "scores = cross_val_score(gnb, X_train, y_train, cv = 10, scoring='accuracy')\n",
    "\n",
    "print('Cross-validation scores:{}'.format(scores))\n",
    "\n",
    "# compute Average cross-validation score\n",
    "\n",
    "print('Average cross-validation score: {:.4f}'.format(scores.mean()))"
   ]
  },
  {
   "cell_type": "markdown",
   "metadata": {},
   "source": [
    "\n",
    "\n",
    "    Using the mean cross-validation, we can conclude that we expect the model to be around 80.63% accurate on average.\n",
    "\n",
    "    If we look at all the 10 scores produced by the 10-fold cross-validation, we can also conclude that there is a relatively small variance in the accuracy between folds, ranging from 81.35% accuracy to 79.64% accuracy. So, we can conclude that the model is independent of the particular folds used for training.\n",
    "\n",
    "    Our original model accuracy is 0.8083, but the mean cross-validation accuracy is 0.8063. So, the 10-fold cross-validation accuracy does not result in performance improvement for this model.\n"
   ]
  },
  {
   "cell_type": "markdown",
   "metadata": {},
   "source": [
    "Results and conclusion\n",
    "\n",
    "\n",
    "\n",
    "    In this project, I build a Gaussian Naïve Bayes Classifier model to predict whether a person makes over 50K a year. The model yields a very good performance as indicated by the model accuracy which was found to be 0.8083.\n",
    "    The training-set accuracy score is 0.8067 while the test-set accuracy to be 0.8083. These two values are quite comparable. So, there is no sign of overfitting.\n",
    "    I have compared the model accuracy score which is 0.8083 with null accuracy score which is 0.7582. So, we can conclude that our Gaussian Naïve Bayes classifier model is doing a very good job in predicting the class labels.\n",
    "    ROC AUC of our model approaches towards 1. So, we can conclude that our classifier does a very good job in predicting whether a person makes over 50K a year.\n",
    "    Using the mean cross-validation, we can conclude that we expect the model to be around 80.63% accurate on average.\n",
    "    If we look at all the 10 scores produced by the 10-fold cross-validation, we can also conclude that there is a relatively small variance in the accuracy between folds, ranging from 81.35% accuracy to 79.64% accuracy. So, we can conclude that the model is independent of the particular folds used for training.\n",
    "    Our original model accuracy is 0.8083, but the mean cross-validation accuracy is 0.8063. So, the 10-fold cross-validation accuracy does not result in performance improvement for this model.\n"
=======
    "# Inicjalizacja naiwnego klasyfikatora bayesowskiego\n",
    "gnb = GaussianNB()\n",
    "\n",
    "# Klasyfikacja\n",
    "gnb.fit(X_train, y_train)\n",
    "y_pred = gnb.predict(X_test)\n",
    "\n",
    "# Dokładności\n",
    "print(f\"Dokładność zbioru uczącego: {round(gnb.score(X_train, y_train), 4) * 100}%\")\n",
    "print(f\"Dokładność zbioru testowego, czyli dokładność modelu: {round(gnb.score(X_test, y_test), 4) * 100}%\")\n",
    "vals = list(y_test.value_counts())\n",
    "print(f\"Dokładność wybierania najczęstszej wartości: {round(max(vals) / sum(vals), 4) * 100}%\")"
>>>>>>> 613d06eb3e33992cd34cd38a1e6243bd1cb5e3d7
   ]
  },
  {
   "cell_type": "markdown",
   "metadata": {},
   "source": [
    "*Dokładności są znacząco niskie, zatem można uznać, że nasz naiwny klasyfikator bayesowski nie będzie działał w żadnym stopniu poprawnie.*"
   ]
  },
  {
   "cell_type": "code",
   "execution_count": 23,
   "metadata": {},
   "outputs": [
    {
     "name": "stdout",
     "output_type": "stream",
     "text": [
      "Tablica pomyłek:\n",
      "[[   0    0    0 ...    0    0    0]\n",
      " [   0    0    0 ...    2    0    8]\n",
      " [   0    0    2 ...    0    0    0]\n",
      " ...\n",
      " [   1    0    1 ...  260    2 2977]\n",
      " [   0    0    0 ...    0    0    0]\n",
      " [   0    0    0 ...    0    0    1]]\n",
      "\n",
      "Dokładność klasyfikacji: 3.15%\n"
     ]
    },
    {
     "data": {
      "image/png": "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\n",
      "text/plain": [
       "<Figure size 432x288 with 2 Axes>"
      ]
     },
     "metadata": {
      "needs_background": "light"
     },
     "output_type": "display_data"
    }
   ],
   "source": [
    "cm = confusion_matrix(y_test, y_pred)\n",
    "print(f\"Tablica pomyłek:\\n{cm}\\n\")\n",
    "\n",
    "diag_sum = 0\n",
    "mat_sum = 0\n",
    "\n",
    "for i in range(cm.shape[0]):\n",
    "    for j in range(cm.shape[1]):\n",
    "        if i == j:\n",
    "            diag_sum += cm[i, j]\n",
    "            \n",
    "        mat_sum += cm[i, j]\n",
    "\n",
    "print(f\"Dokładność klasyfikacji: {round(diag_sum / mat_sum, 4) * 100}%\")\n",
    "\n",
    "cm_cols = list(y_test.unique())\n",
    "cm_matrix = pd.DataFrame(data=cm, columns=cm_cols, index=cm_cols)\n",
    "sns.heatmap(cm_matrix, annot=True, fmt='d', cmap=\"YlGnBu\")\n",
    "plt.show()"
   ]
  },
  {
   "cell_type": "markdown",
   "metadata": {},
   "source": [
    "*Obiekt może należeć do jednej z 41 klas, przez co tablica pomyłek jest całkowicie nieczytelna. Można jednak wyciagnąć wnioski z dokładności oraz definicji analizowanego modelu.*\n",
    "\n",
    "*Dokładność klasyfikacji to zaledwie 3.15%, co świadczy o bardzo słabym modelu.*\n",
    "\n",
    "*Bezpośrednia przyczyna takiej efektywności modelu to zjawisko niedouczenia, które oznacza tyle, że nasz model jest zbyt prosty, aby mógł określić zależności między predyktorami a zmienną zależną. Wtedy predykcje modelu są wręcz przypadkowe. Powodem wystąpienia zjawiska niedouczenia jest zbyt duża liczba klas.*\n",
    "\n",
    "*Aby model dobrze rozpoznawał dany obiekt przy takiej liczbie klas, należałoby dodać do niego więcej predyktorów. Jednakże nie jest to podejście bez skazy, gdyż jeśli przesadzimy, to może wystąpić zjawisko przeuczenia - model staje się zbyt skomplikowany jak na stosunkowo prosty problem. Konsekwencją zjawiska przeuczenia jest wykrywanie pozornych prawidłowości.*"
   ]
  }
 ],
 "metadata": {
  "interpreter": {
   "hash": "9164a3399a70d355c381b62813f30880ed90ca5a6f321bf0d85375640bda7ee5"
  },
  "kernelspec": {
   "display_name": "Python 3 (ipykernel)",
   "language": "python",
   "name": "python3"
  },
  "language_info": {
   "codemirror_mode": {
    "name": "ipython",
    "version": 3
   },
   "file_extension": ".py",
   "mimetype": "text/x-python",
   "name": "python",
   "nbconvert_exporter": "python",
   "pygments_lexer": "ipython3",
   "version": "3.9.7"
  }
 },
 "nbformat": 4,
 "nbformat_minor": 2
}
