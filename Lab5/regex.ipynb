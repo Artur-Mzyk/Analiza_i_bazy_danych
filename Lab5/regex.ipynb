{
 "cells": [
  {
   "cell_type": "markdown",
   "id": "f005dd80",
   "metadata": {},
   "source": [
    "# <center>Łańcuchy znaków i wyrażenia regularne</center>"
   ]
  },
  {
   "cell_type": "code",
   "execution_count": 1,
   "id": "cff81bd1",
   "metadata": {},
   "outputs": [],
   "source": [
    "import main\n",
    "\n",
    "import numpy as np\n",
    "import pickle\n",
    "import psycopg2 as pg\n",
    "import pandas.io.sql as psql\n",
    "import pandas as pd"
   ]
  },
  {
   "cell_type": "markdown",
   "id": "c60016c7",
   "metadata": {},
   "source": [
    "## Zadania wprowadzające"
   ]
  },
  {
   "cell_type": "code",
   "execution_count": null,
   "id": "061be973",
   "metadata": {},
   "outputs": [],
   "source": [
    "sql = f'''SELECT\n",
    "              film.title title, language.name languge, category.name category\n",
    "          FROM\n",
    "              category\n",
    "          INNER JOIN film_category ON category.category_id=film_category.category_id\n",
    "          INNER JOIN film ON film_category.film_id=film.film_id\n",
    "          INNER JOIN language ON film.language_id=language.language_id\n",
    "          WHERE\n",
    "              {condition}\n",
    "          ORDER BY\n",
    "              title, languge;'''\n",
    "    \n",
    "pd.read_sql(sql, con=main.connection)"
   ]
  },
  {
   "cell_type": "markdown",
   "id": "cfcae159",
   "metadata": {},
   "source": [
    "#### 1. Znajdź wszystkie nazwy krajów rozpoczynających się na P."
   ]
  },
  {
   "cell_type": "code",
   "execution_count": null,
   "id": "4a67544d",
   "metadata": {},
   "outputs": [],
   "source": [
    "sql = f'''SELECT\n",
    "              country\n",
    "          FROM\n",
    "              country\n",
    "          WHERE\n",
    "              country ~ '^P'\n",
    "          ORDER BY\n",
    "              country;'''\n",
    "    \n",
    "pd.read_sql(sql, con=main.connection)"
   ]
  },
  {
   "cell_type": "markdown",
   "id": "e77b1ec1",
   "metadata": {},
   "source": [
    "#### 2. Znajdź wszystkie nazwy krajów rozpoczynających się  P i kończących na s."
   ]
  },
  {
   "cell_type": "code",
   "execution_count": null,
   "id": "9ef27198",
   "metadata": {},
   "outputs": [],
   "source": [
    "sql = f'''SELECT\n",
    "              country\n",
    "          FROM\n",
    "              country\n",
    "          WHERE\n",
    "              country ~ '^P[a-z]*s$'\n",
    "          ORDER BY\n",
    "              country;'''\n",
    "    \n",
    "pd.read_sql(sql, con=main.connection)"
   ]
  },
  {
   "cell_type": "markdown",
   "id": "8d8cbff0",
   "metadata": {},
   "source": [
    "#### 3. Znajdź wszystkie tytuły filmów, w których znajdują się cyfry."
   ]
  },
  {
   "cell_type": "code",
   "execution_count": null,
   "id": "26e844d1",
   "metadata": {},
   "outputs": [],
   "source": [
    "sql = f'''SELECT\n",
    "              title\n",
    "          FROM\n",
    "              film\n",
    "          WHERE\n",
    "              title ~ '[0-9]'\n",
    "          ORDER BY\n",
    "              title;'''\n",
    "    \n",
    "pd.read_sql(sql, con=main.connection)"
   ]
  },
  {
   "cell_type": "markdown",
   "id": "cca72d3b",
   "metadata": {},
   "source": [
    "Nie ma tytułu filmu, który zawierałby cyfry."
   ]
  },
  {
   "cell_type": "markdown",
   "id": "6afb257e",
   "metadata": {},
   "source": [
    "#### 4. Znajdź wszystkich pracowników z podwójnym imieniem lub nazwiskiem."
   ]
  },
  {
   "cell_type": "code",
   "execution_count": 8,
   "id": "9cdaa71b",
   "metadata": {},
   "outputs": [
    {
     "data": {
      "text/html": [
       "<div>\n",
       "<style scoped>\n",
       "    .dataframe tbody tr th:only-of-type {\n",
       "        vertical-align: middle;\n",
       "    }\n",
       "\n",
       "    .dataframe tbody tr th {\n",
       "        vertical-align: top;\n",
       "    }\n",
       "\n",
       "    .dataframe thead th {\n",
       "        text-align: right;\n",
       "    }\n",
       "</style>\n",
       "<table border=\"1\" class=\"dataframe\">\n",
       "  <thead>\n",
       "    <tr style=\"text-align: right;\">\n",
       "      <th></th>\n",
       "      <th>first_name</th>\n",
       "      <th>last_name</th>\n",
       "    </tr>\n",
       "  </thead>\n",
       "  <tbody>\n",
       "  </tbody>\n",
       "</table>\n",
       "</div>"
      ],
      "text/plain": [
       "Empty DataFrame\n",
       "Columns: [first_name, last_name]\n",
       "Index: []"
      ]
     },
     "execution_count": 8,
     "metadata": {},
     "output_type": "execute_result"
    }
   ],
   "source": [
    "regex = \"[ -]\"\n",
    "\n",
    "sql = f'''SELECT\n",
    "              first_name, last_name\n",
    "          FROM\n",
    "              staff\n",
    "          WHERE\n",
    "              first_name ~ '{regex}'\n",
    "          OR\n",
    "              last_name ~ '{regex}'\n",
    "          ORDER BY\n",
    "              last_name, first_name;'''\n",
    "    \n",
    "pd.read_sql(sql, con=main.connection)"
   ]
  },
  {
   "cell_type": "markdown",
   "id": "543637db",
   "metadata": {},
   "source": [
    "Nie ma pracowników, którzy posiadaliby podwójne imię bądź nazwisko."
   ]
  },
  {
   "cell_type": "markdown",
   "id": "e769fb8c",
   "metadata": {},
   "source": [
    "#### 5. Znajdź wszystkie nazwiska aktorów rozpoczynających się od P lub C i mających 5 znaków."
   ]
  },
  {
   "cell_type": "code",
   "execution_count": null,
   "id": "aa3ccd4b",
   "metadata": {},
   "outputs": [],
   "source": [
    "regex = \"^[PC][a-z]{4}$\"\n",
    "\n",
    "sql = f'''SELECT\n",
    "              last_name\n",
    "          FROM\n",
    "              actor\n",
    "          WHERE\n",
    "              last_name ~ '{regex}'\n",
    "          ORDER BY\n",
    "              last_name;'''\n",
    "    \n",
    "pd.read_sql(sql, con=main.connection)"
   ]
  },
  {
   "cell_type": "markdown",
   "id": "3398db9a",
   "metadata": {},
   "source": [
    "#### 6. Znajdź wszystkie tytuły filmów, w których występują słowa Trip lub Alone."
   ]
  },
  {
   "cell_type": "code",
   "execution_count": 7,
   "id": "f828c912",
   "metadata": {},
   "outputs": [
    {
     "data": {
      "text/html": [
       "<div>\n",
       "<style scoped>\n",
       "    .dataframe tbody tr th:only-of-type {\n",
       "        vertical-align: middle;\n",
       "    }\n",
       "\n",
       "    .dataframe tbody tr th {\n",
       "        vertical-align: top;\n",
       "    }\n",
       "\n",
       "    .dataframe thead th {\n",
       "        text-align: right;\n",
       "    }\n",
       "</style>\n",
       "<table border=\"1\" class=\"dataframe\">\n",
       "  <thead>\n",
       "    <tr style=\"text-align: right;\">\n",
       "      <th></th>\n",
       "      <th>title</th>\n",
       "    </tr>\n",
       "  </thead>\n",
       "  <tbody>\n",
       "    <tr>\n",
       "      <th>0</th>\n",
       "      <td>Alone Trip</td>\n",
       "    </tr>\n",
       "    <tr>\n",
       "      <th>1</th>\n",
       "      <td>Superfly Trip</td>\n",
       "    </tr>\n",
       "    <tr>\n",
       "      <th>2</th>\n",
       "      <td>Trip Newton</td>\n",
       "    </tr>\n",
       "    <tr>\n",
       "      <th>3</th>\n",
       "      <td>Varsity Trip</td>\n",
       "    </tr>\n",
       "  </tbody>\n",
       "</table>\n",
       "</div>"
      ],
      "text/plain": [
       "           title\n",
       "0     Alone Trip\n",
       "1  Superfly Trip\n",
       "2    Trip Newton\n",
       "3   Varsity Trip"
      ]
     },
     "execution_count": 7,
     "metadata": {},
     "output_type": "execute_result"
    }
   ],
   "source": [
    "sql = f'''SELECT\n",
    "              title\n",
    "          FROM\n",
    "              film\n",
    "          WHERE\n",
    "              title ~* 'Trip|Alone'\n",
    "          ORDER BY\n",
    "              title;'''\n",
    "    \n",
    "pd.read_sql(sql, con=main.connection)"
   ]
  },
  {
   "cell_type": "markdown",
   "id": "d51c4bf7",
   "metadata": {},
   "source": [
    "#### 7. Przeanalizuj zapytania:\n",
    "- select first_name from actor where first_name ~ '^Al\\[a:z,1:9\\]\\*'"
   ]
  },
  {
   "cell_type": "code",
   "execution_count": 2,
   "id": "60301b16",
   "metadata": {},
   "outputs": [
    {
     "data": {
      "text/html": [
       "<div>\n",
       "<style scoped>\n",
       "    .dataframe tbody tr th:only-of-type {\n",
       "        vertical-align: middle;\n",
       "    }\n",
       "\n",
       "    .dataframe tbody tr th {\n",
       "        vertical-align: top;\n",
       "    }\n",
       "\n",
       "    .dataframe thead th {\n",
       "        text-align: right;\n",
       "    }\n",
       "</style>\n",
       "<table border=\"1\" class=\"dataframe\">\n",
       "  <thead>\n",
       "    <tr style=\"text-align: right;\">\n",
       "      <th></th>\n",
       "      <th>first_name</th>\n",
       "    </tr>\n",
       "  </thead>\n",
       "  <tbody>\n",
       "    <tr>\n",
       "      <th>0</th>\n",
       "      <td>Alec</td>\n",
       "    </tr>\n",
       "    <tr>\n",
       "      <th>1</th>\n",
       "      <td>Albert</td>\n",
       "    </tr>\n",
       "    <tr>\n",
       "      <th>2</th>\n",
       "      <td>Albert</td>\n",
       "    </tr>\n",
       "    <tr>\n",
       "      <th>3</th>\n",
       "      <td>Al</td>\n",
       "    </tr>\n",
       "    <tr>\n",
       "      <th>4</th>\n",
       "      <td>Alan</td>\n",
       "    </tr>\n",
       "  </tbody>\n",
       "</table>\n",
       "</div>"
      ],
      "text/plain": [
       "  first_name\n",
       "0       Alec\n",
       "1     Albert\n",
       "2     Albert\n",
       "3         Al\n",
       "4       Alan"
      ]
     },
     "execution_count": 2,
     "metadata": {},
     "output_type": "execute_result"
    }
   ],
   "source": [
    "sql = f'''SELECT\n",
    "              first_name\n",
    "          FROM\n",
    "              actor\n",
    "          WHERE\n",
    "              first_name ~ '^Al[a:z,1:9]*';'''\n",
    "    \n",
    "pd.read_sql(sql, con=main.connection)"
   ]
  },
  {
   "cell_type": "markdown",
   "id": "00f01631",
   "metadata": {},
   "source": [
    "Kod zwraca wynik zapytania do bazy o imiona aktorów, które zaczynają się od wyrażenia 'Al'. W teorii została dopuszczona możliwość wystąpienia cyfr w imieniu. Nie jest to oczywiście formalnie możliwe, gdyż takie imiona nie istnieją, ale nie wpływa to na szczęście negatywnie na wynik zapytania."
   ]
  },
  {
   "cell_type": "markdown",
   "id": "e50a37b0",
   "metadata": {},
   "source": [
    "- select first_name from actor where first_name ~\\* '^al\\[a:z,1:9\\]\\*'"
   ]
  },
  {
   "cell_type": "code",
   "execution_count": 3,
   "id": "a1a53be8",
   "metadata": {},
   "outputs": [
    {
     "data": {
      "text/html": [
       "<div>\n",
       "<style scoped>\n",
       "    .dataframe tbody tr th:only-of-type {\n",
       "        vertical-align: middle;\n",
       "    }\n",
       "\n",
       "    .dataframe tbody tr th {\n",
       "        vertical-align: top;\n",
       "    }\n",
       "\n",
       "    .dataframe thead th {\n",
       "        text-align: right;\n",
       "    }\n",
       "</style>\n",
       "<table border=\"1\" class=\"dataframe\">\n",
       "  <thead>\n",
       "    <tr style=\"text-align: right;\">\n",
       "      <th></th>\n",
       "      <th>first_name</th>\n",
       "    </tr>\n",
       "  </thead>\n",
       "  <tbody>\n",
       "    <tr>\n",
       "      <th>0</th>\n",
       "      <td>Alec</td>\n",
       "    </tr>\n",
       "    <tr>\n",
       "      <th>1</th>\n",
       "      <td>Albert</td>\n",
       "    </tr>\n",
       "    <tr>\n",
       "      <th>2</th>\n",
       "      <td>Albert</td>\n",
       "    </tr>\n",
       "    <tr>\n",
       "      <th>3</th>\n",
       "      <td>Al</td>\n",
       "    </tr>\n",
       "    <tr>\n",
       "      <th>4</th>\n",
       "      <td>Alan</td>\n",
       "    </tr>\n",
       "  </tbody>\n",
       "</table>\n",
       "</div>"
      ],
      "text/plain": [
       "  first_name\n",
       "0       Alec\n",
       "1     Albert\n",
       "2     Albert\n",
       "3         Al\n",
       "4       Alan"
      ]
     },
     "execution_count": 3,
     "metadata": {},
     "output_type": "execute_result"
    }
   ],
   "source": [
    "sql = f'''SELECT\n",
    "              first_name\n",
    "          FROM\n",
    "              actor\n",
    "          WHERE\n",
    "              first_name ~* '^al[a:z,1:9]*';'''\n",
    "    \n",
    "pd.read_sql(sql, con=main.connection)"
   ]
  },
  {
   "cell_type": "markdown",
   "id": "36d4772f",
   "metadata": {},
   "source": [
    "Kod zwraca wynik zapytania do bazy o imiona aktorów, które zaczynają się na od wyrażenia 'al'. W teorii została dopuszczona możliwość wystąpienia cyfr w imieniu. Nie jest to oczywiście formalnie możliwe, gdyż takie imiona nie istnieją, ale nie wpływa to na szczęście negatywnie na wynik zapytania. Wielkość liter nie jest rozróżniana, jednakże imiona w bazie są zapisane jako ciąg znaków, w którym pierwsza litera jest wielka, a pozostałe - małe, zatem to również nie zmienia wyniku zapytania."
   ]
  },
  {
   "cell_type": "markdown",
   "id": "32d63c3e",
   "metadata": {},
   "source": [
    "Obydwa zapytania zwróciły ten sam wynik."
   ]
  },
  {
   "cell_type": "markdown",
   "id": "2c05b0a7",
   "metadata": {},
   "source": [
    "## Zadanie implementacyjne\n",
    "Zaimplementuj wszystkie funkcje w pliku main.py zgodnie z opisem a następnie przetestuj je w notatniku.\n"
   ]
  },
  {
   "cell_type": "markdown",
   "id": "70bc777e",
   "metadata": {},
   "source": [
    "#### film_in_category()"
   ]
  },
  {
   "cell_type": "code",
   "execution_count": null,
   "id": "ffe9156d",
   "metadata": {},
   "outputs": [],
   "source": [
    "main.film_in_category(12)"
   ]
  },
  {
   "cell_type": "code",
   "execution_count": null,
   "id": "66171d09",
   "metadata": {},
   "outputs": [],
   "source": [
    "main.film_in_category(\"Music\")"
   ]
  },
  {
   "cell_type": "code",
   "execution_count": null,
   "id": "d5eb9ab6",
   "metadata": {},
   "outputs": [],
   "source": [
    "main.film_in_category(\"music\")"
   ]
  },
  {
   "cell_type": "markdown",
   "id": "2c28150a",
   "metadata": {},
   "source": [
    "Funkcja *film_in_category()* bierze pod uwagę wielkość liter. Dla danej kategorii zwraca taki sam wynik, niezależnie od sposobu podania tejże kategorii - poprzez id lub nazwę."
   ]
  },
  {
   "cell_type": "markdown",
   "id": "cca69368",
   "metadata": {},
   "source": [
    "#### film_in_category_case_insensitive()"
   ]
  },
  {
   "cell_type": "code",
   "execution_count": null,
   "id": "ddb86d55",
   "metadata": {},
   "outputs": [],
   "source": [
    "main.film_in_category_case_insensitive(\"music\")"
   ]
  },
  {
   "cell_type": "markdown",
   "id": "40a8bf6e",
   "metadata": {},
   "source": [
    "Funkcja *film_in_category_case_insensitive()* nie bierze pod uwagę wielkości liter."
   ]
  },
  {
   "cell_type": "markdown",
   "id": "515fc07f",
   "metadata": {},
   "source": [
    "#### film_cast()"
   ]
  },
  {
   "cell_type": "code",
   "execution_count": null,
   "id": "9d39b6af",
   "metadata": {},
   "outputs": [],
   "source": [
    "main.film_cast(\"Iron Moon\")"
   ]
  },
  {
   "cell_type": "markdown",
   "id": "782dfabe",
   "metadata": {},
   "source": [
    "Funkcja *film_cast()* wypisała posortowaną listę aktorów grających w danym filmie."
   ]
  },
  {
   "cell_type": "markdown",
   "id": "d978d50b",
   "metadata": {},
   "source": [
    "#### film_title_case_insensitive()"
   ]
  },
  {
   "cell_type": "code",
   "execution_count": null,
   "id": "7a396f1d",
   "metadata": {},
   "outputs": [],
   "source": [
    "main.film_title_case_insensitive(['BeD', 'BLOOD', 'SonS', 'son', 'cry'])"
   ]
  },
  {
   "cell_type": "code",
   "execution_count": null,
   "id": "9723faac",
   "metadata": {},
   "outputs": [],
   "source": [
    "main.film_title_case_insensitive(['Giant', 'Harry', 'Birdcage', 'Iron'])"
   ]
  },
  {
   "cell_type": "markdown",
   "id": "7c99a856",
   "metadata": {},
   "source": [
    "Funkcja *film_title_case_insensitive()* zwraca wszystkie tytułu zawierające dany wyraz - jako wyraz, a nie jedynie część wyrazu."
   ]
  }
 ],
 "metadata": {
  "kernelspec": {
   "display_name": "Python 3",
   "language": "python",
   "name": "python3"
  },
  "language_info": {
   "codemirror_mode": {
    "name": "ipython",
    "version": 3
   },
   "file_extension": ".py",
   "mimetype": "text/x-python",
   "name": "python",
   "nbconvert_exporter": "python",
   "pygments_lexer": "ipython3",
   "version": "3.9.4"
  }
 },
 "nbformat": 4,
 "nbformat_minor": 5
}
