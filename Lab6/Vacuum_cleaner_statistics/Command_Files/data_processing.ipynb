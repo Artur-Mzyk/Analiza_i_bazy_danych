{
 "cells": [
  {
   "cell_type": "markdown",
   "id": "377fde53",
   "metadata": {},
   "source": [
    "# Data processing"
   ]
  },
  {
   "cell_type": "code",
   "execution_count": 1,
   "id": "b55eaf28",
   "metadata": {},
   "outputs": [],
   "source": [
    "import pandas as pd\n",
    "import matplotlib.pyplot as plt\n",
    "\n",
    "from matplotlib.backends.backend_pdf import PdfPages"
   ]
  },
  {
   "cell_type": "markdown",
   "id": "fd6c6f89",
   "metadata": {},
   "source": [
    "Load the data"
   ]
  },
  {
   "cell_type": "code",
   "execution_count": 2,
   "id": "c30149e1",
   "metadata": {},
   "outputs": [],
   "source": [
    "data = pd.read_csv(\"../Original_Data/9_PODLASKIE.csv\", usecols=[1, 2, 3, 4, 5])"
   ]
  },
  {
   "cell_type": "markdown",
   "id": "06e08c99",
   "metadata": {},
   "source": [
    "Check for possible values"
   ]
  },
  {
   "cell_type": "code",
   "execution_count": 3,
   "id": "7b24dd3d",
   "metadata": {},
   "outputs": [
    {
     "name": "stdout",
     "output_type": "stream",
     "text": [
      "Column variable: Dni od zakupu\n",
      "Possible values: 4, 3, 6, 11, 10, 12, 5, 8, 9, 7, 15, 2, 13, 1, 0, 14, 18\n",
      "\n",
      "Column variable: Marka\n",
      "Possible values: Beko, Electrolux, Dyson, Tefal, Samsung\n",
      "\n",
      "Column variable: Wiek\n",
      "Possible values: 29.0, 39.0, 49.0, 41.0, 40.0, 37.0, nan, 45.0, 31.0, 21.0, 64.0, 35.0, 60.0, 28.0, 51.0, 56.0, 48.0, 33.0, 32.0, 38.0, 57.0, 50.0, 47.0, 46.0, 22.0, 54.0, 52.0, 27.0, 23.0, 36.0, 24.0, 43.0, 30.0, 44.0, 34.0, 55.0, 62.0, 53.0, 58.0, 25.0, 26.0, 59.0, 19.0, 61.0, 74.0, 42.0, 68.0, 18.0, 20.0\n",
      "\n",
      "Column variable: Płeć\n",
      "Possible values: bd., M, K\n",
      "\n",
      "Column variable: Ocena\n",
      "Possible values: 4.5, 2.5, 2.0, 3.5, 3.0, 1.5, 5.0, 4.0, 0.5, 1.0, 0.0\n",
      "\n"
     ]
    }
   ],
   "source": [
    "data = data.rename(columns={\"Wiek kupującego\": \"Wiek\", \"Płeć kupującego\": \"Płeć\"})\n",
    "\n",
    "for col in data.columns:\n",
    "    print(f\"Column variable: {col}\")\n",
    "    print(f\"Possible values: \" + \", \".join([str(elem) for elem in data[col].unique()]))\n",
    "    print()"
   ]
  },
  {
   "cell_type": "markdown",
   "id": "e322e49a",
   "metadata": {},
   "source": [
    "Correct invalid values"
   ]
  },
  {
   "cell_type": "code",
   "execution_count": 4,
   "id": "3cc5ac65",
   "metadata": {},
   "outputs": [
    {
     "data": {
      "text/html": [
       "<div>\n",
       "<style scoped>\n",
       "    .dataframe tbody tr th:only-of-type {\n",
       "        vertical-align: middle;\n",
       "    }\n",
       "\n",
       "    .dataframe tbody tr th {\n",
       "        vertical-align: top;\n",
       "    }\n",
       "\n",
       "    .dataframe thead th {\n",
       "        text-align: right;\n",
       "    }\n",
       "</style>\n",
       "<table border=\"1\" class=\"dataframe\">\n",
       "  <thead>\n",
       "    <tr style=\"text-align: right;\">\n",
       "      <th></th>\n",
       "      <th>Dni od zakupu</th>\n",
       "      <th>Marka</th>\n",
       "      <th>Wiek</th>\n",
       "      <th>Płeć</th>\n",
       "      <th>Ocena</th>\n",
       "    </tr>\n",
       "  </thead>\n",
       "  <tbody>\n",
       "    <tr>\n",
       "      <th>0</th>\n",
       "      <td>4</td>\n",
       "      <td>Beko</td>\n",
       "      <td>29.0</td>\n",
       "      <td>NaN</td>\n",
       "      <td>4.5</td>\n",
       "    </tr>\n",
       "    <tr>\n",
       "      <th>1</th>\n",
       "      <td>3</td>\n",
       "      <td>Electrolux</td>\n",
       "      <td>39.0</td>\n",
       "      <td>M</td>\n",
       "      <td>2.5</td>\n",
       "    </tr>\n",
       "    <tr>\n",
       "      <th>2</th>\n",
       "      <td>6</td>\n",
       "      <td>Electrolux</td>\n",
       "      <td>49.0</td>\n",
       "      <td>NaN</td>\n",
       "      <td>2.0</td>\n",
       "    </tr>\n",
       "    <tr>\n",
       "      <th>3</th>\n",
       "      <td>3</td>\n",
       "      <td>Beko</td>\n",
       "      <td>41.0</td>\n",
       "      <td>M</td>\n",
       "      <td>3.5</td>\n",
       "    </tr>\n",
       "    <tr>\n",
       "      <th>4</th>\n",
       "      <td>11</td>\n",
       "      <td>Electrolux</td>\n",
       "      <td>40.0</td>\n",
       "      <td>NaN</td>\n",
       "      <td>3.0</td>\n",
       "    </tr>\n",
       "    <tr>\n",
       "      <th>...</th>\n",
       "      <td>...</td>\n",
       "      <td>...</td>\n",
       "      <td>...</td>\n",
       "      <td>...</td>\n",
       "      <td>...</td>\n",
       "    </tr>\n",
       "    <tr>\n",
       "      <th>461</th>\n",
       "      <td>9</td>\n",
       "      <td>Samsung</td>\n",
       "      <td>42.0</td>\n",
       "      <td>M</td>\n",
       "      <td>1.5</td>\n",
       "    </tr>\n",
       "    <tr>\n",
       "      <th>462</th>\n",
       "      <td>5</td>\n",
       "      <td>Beko</td>\n",
       "      <td>46.0</td>\n",
       "      <td>NaN</td>\n",
       "      <td>2.0</td>\n",
       "    </tr>\n",
       "    <tr>\n",
       "      <th>463</th>\n",
       "      <td>10</td>\n",
       "      <td>Samsung</td>\n",
       "      <td>52.0</td>\n",
       "      <td>M</td>\n",
       "      <td>3.0</td>\n",
       "    </tr>\n",
       "    <tr>\n",
       "      <th>464</th>\n",
       "      <td>9</td>\n",
       "      <td>Samsung</td>\n",
       "      <td>44.0</td>\n",
       "      <td>M</td>\n",
       "      <td>3.5</td>\n",
       "    </tr>\n",
       "    <tr>\n",
       "      <th>465</th>\n",
       "      <td>5</td>\n",
       "      <td>Beko</td>\n",
       "      <td>26.0</td>\n",
       "      <td>M</td>\n",
       "      <td>1.5</td>\n",
       "    </tr>\n",
       "  </tbody>\n",
       "</table>\n",
       "<p>466 rows × 5 columns</p>\n",
       "</div>"
      ],
      "text/plain": [
       "     Dni od zakupu       Marka  Wiek Płeć  Ocena\n",
       "0                4        Beko  29.0  NaN    4.5\n",
       "1                3  Electrolux  39.0    M    2.5\n",
       "2                6  Electrolux  49.0  NaN    2.0\n",
       "3                3        Beko  41.0    M    3.5\n",
       "4               11  Electrolux  40.0  NaN    3.0\n",
       "..             ...         ...   ...  ...    ...\n",
       "461              9     Samsung  42.0    M    1.5\n",
       "462              5        Beko  46.0  NaN    2.0\n",
       "463             10     Samsung  52.0    M    3.0\n",
       "464              9     Samsung  44.0    M    3.5\n",
       "465              5        Beko  26.0    M    1.5\n",
       "\n",
       "[466 rows x 5 columns]"
      ]
     },
     "execution_count": 4,
     "metadata": {},
     "output_type": "execute_result"
    }
   ],
   "source": [
    "data[\"Płeć\"] = data[\"Płeć\"].map({val: val for val in data[\"Płeć\"].unique() if val != \"bd.\"})\n",
    "data"
   ]
  },
  {
   "cell_type": "markdown",
   "id": "52e16e96",
   "metadata": {},
   "source": [
    "Save the cleaned data"
   ]
  },
  {
   "cell_type": "code",
   "execution_count": 5,
   "id": "b22fa661",
   "metadata": {},
   "outputs": [],
   "source": [
    "data.to_csv(path_or_buf=\"../Analysis_Data/vacuum_cleaner_statistics_podlaskie.csv\", index=False)"
   ]
  },
  {
   "cell_type": "markdown",
   "id": "d89328ab",
   "metadata": {},
   "source": [
    "Final paper"
   ]
  },
  {
   "cell_type": "code",
   "execution_count": 8,
   "id": "f63e3f7d",
   "metadata": {},
   "outputs": [
    {
     "data": {
      "image/png": "[encoded data removed]",
      "text/plain": [
       "<Figure size 1440x1440 with 4 Axes>"
      ]
     },
     "metadata": {
      "needs_background": "light"
     },
     "output_type": "display_data"
    }
   ],
   "source": [
    "# Average Ocena against Marka\n",
    "data_gb = data[[\"Marka\", \"Ocena\"]].dropna()\n",
    "brands = list(data_gb[\"Marka\"].unique())\n",
    "avg_gb = [data_gb.loc[data_gb[\"Marka\"] == b][\"Ocena\"].mean() for b in brands]\n",
    "\n",
    "# Average Ocena against Dni od zakupu\n",
    "data_gd = data[[\"Dni od zakupu\", \"Ocena\"]].dropna()\n",
    "days = [\"<5\", \"5-9\", \"10-14\", \">14\"]\n",
    "avg_gd = [0] * 4\n",
    "avg_gd[0] = data_gd.loc[data_gd[\"Dni od zakupu\"] < 5]\n",
    "avg_gd[1] = data_gd.loc[(data_gd[\"Dni od zakupu\"] >= 5) & (data_gd[\"Dni od zakupu\"] < 10)]\n",
    "avg_gd[2] = data_gd.loc[(data_gd[\"Dni od zakupu\"] >= 10) & (data_gd[\"Dni od zakupu\"] < 15)]\n",
    "avg_gd[3] = data_gd.loc[data_gd[\"Dni od zakupu\"] >= 15]\n",
    "avg_gd = [agd[\"Ocena\"].mean() for agd in avg_gd]\n",
    "\n",
    "# Most chosen Marka against Wiek\n",
    "data_ba = data[[\"Wiek\", \"Marka\"]].dropna()\n",
    "ages = [\"<20\", \"20-39\", \"40-59\", \">60\"]\n",
    "ba = [0] * 4\n",
    "ba[0] = data_ba.loc[data_ba[\"Wiek\"] < 20]\n",
    "ba[1] = data_ba.loc[(data_ba[\"Wiek\"] >= 20) & (data_ba[\"Wiek\"] < 39)]\n",
    "ba[2] = data_ba.loc[(data_ba[\"Wiek\"] >= 40) & (data_ba[\"Wiek\"] < 59)]\n",
    "ba[3] = data_ba.loc[data_ba[\"Wiek\"] >= 60]\n",
    "ba_annotations = [b[\"Marka\"].value_counts().index[0] for b in ba]\n",
    "ba = [b[\"Marka\"].value_counts()[0] for b in ba]\n",
    "\n",
    "# Most chosen Marka against Płeć\n",
    "data_bg = data[[\"Płeć\", \"Marka\"]].dropna()\n",
    "genders = list(data_bg[\"Płeć\"].unique())\n",
    "bg = [data_bg.loc[data_bg[\"Płeć\"] == g] for g in genders]\n",
    "bg_annotations = [b[\"Marka\"].value_counts().index[0] for b in bg]\n",
    "bg = [b[\"Marka\"].value_counts()[0] for b in bg]\n",
    "\n",
    "fig, ax = plt.subplots(2, 2, figsize=(20, 20))\n",
    "fig.tight_layout(pad=12.0)\n",
    "fig.suptitle(\"Final paper for vacuum_cleaner_statistics_podlaskie.csv data\", fontsize=20, y=1.0)\n",
    "\n",
    "ax[0, 0].bar(brands, avg_gb, tick_label=brands)\n",
    "ax[0, 0].set_title(\"Average Ocena against Marka\")\n",
    "ax[0, 0].set_xlabel(\"Marka\")\n",
    "ax[0, 0].set_ylabel(\"Average Ocena\")\n",
    "ax[0, 0].set_xticklabels(brands, rotation=30)\n",
    "\n",
    "ax[0, 1].bar(days, avg_gd, tick_label=days)\n",
    "ax[0, 1].set_title(\"Average Ocena against Dni od zakupu\")\n",
    "ax[0, 1].set_xlabel(\"Dni od zakupu\")\n",
    "ax[0, 1].set_ylabel(\"Average Ocena\")\n",
    "ax[0, 1].set_xticklabels(days, rotation=30)\n",
    "\n",
    "ax[1, 0].bar(ages, ba, tick_label=ages)\n",
    "ax[1, 0].set_title(\"Most chosen Marka count against Wiek\")\n",
    "ax[1, 0].set_xlabel(\"Wiek\")\n",
    "ax[1, 0].set_ylabel(\"Most chosen Marka count\")\n",
    "ax[1, 0].set_xticklabels(ages, rotation=30)\n",
    "ax[1, 0].axis([-0.5, 3.5, 0, 110])\n",
    "\n",
    "for i in range(4):\n",
    "    ax[1, 0].annotate(ba_annotations[i], (i, ba[i] + 1), xytext=(i - 0.2, ba[i] + 5),\n",
    "                      arrowprops={'facecolor': 'red'}, fontsize=12)\n",
    "\n",
    "ax[1, 1].bar(genders, bg, tick_label=genders)\n",
    "ax[1, 1].set_title(\"Most chosen Marka count against Płeć\")\n",
    "ax[1, 1].set_xlabel(\"Płeć\")\n",
    "ax[1, 1].set_ylabel(\"Most chosen Marka count\")\n",
    "ax[1, 1].set_xticklabels(genders, rotation=30)\n",
    "ax[1, 1].axis([-0.5, 1.5, 0, 85])\n",
    "\n",
    "for i in range(2):\n",
    "    ax[1, 1].annotate(bg_annotations[i], (i, bg[i] + 1), xytext=(i - 0.2, bg[i] + 5),\n",
    "                      arrowprops={'facecolor': 'red'}, fontsize=12)\n",
    "    \n",
    "plt.show()"
   ]
  },
  {
   "cell_type": "markdown",
   "id": "827f2150",
   "metadata": {},
   "source": [
    "Beko has been the most chosen Marka."
   ]
  },
  {
   "cell_type": "code",
   "execution_count": 7,
   "id": "e69b7652",
   "metadata": {},
   "outputs": [],
   "source": [
    "with PdfPages(\"../Documents/final_paper.pdf\") as pdf:\n",
    "    pdf.savefig(fig)"
   ]
  }
 ],
 "metadata": {
  "kernelspec": {
   "display_name": "Python 3",
   "language": "python",
   "name": "python3"
  },
  "language_info": {
   "codemirror_mode": {
    "name": "ipython",
    "version": 3
   },
   "file_extension": ".py",
   "mimetype": "text/x-python",
   "name": "python",
   "nbconvert_exporter": "python",
   "pygments_lexer": "ipython3",
   "version": "3.9.4"
  }
 },
 "nbformat": 4,
 "nbformat_minor": 5
}
